{
  "nbformat": 4,
  "nbformat_minor": 0,
  "metadata": {
    "colab": {
      "name": "Internship_Project_Banking.ipynb",
      "provenance": [],
      "collapsed_sections": [],
      "authorship_tag": "ABX9TyNzNDHM8uyKlYSrxg51+Kvb",
      "include_colab_link": true
    },
    "kernelspec": {
      "name": "python3",
      "display_name": "Python 3"
    }
  },
  "cells": [
    {
      "cell_type": "markdown",
      "metadata": {
        "id": "view-in-github",
        "colab_type": "text"
      },
      "source": [
        "<a href=\"https://colab.research.google.com/github/shubhamawasthi0301/Internship_Project_Banking/blob/master/Internship_Project_Banking.ipynb\" target=\"_parent\"><img src=\"https://colab.research.google.com/assets/colab-badge.svg\" alt=\"Open In Colab\"/></a>"
      ]
    },
    {
      "cell_type": "markdown",
      "metadata": {
        "id": "F3H4VYd_I778",
        "colab_type": "text"
      },
      "source": [
        "<h1><strong>Internship Project</h1>\n",
        "<h1><strong>Title:</strong>  <em><u>Marketing Campaign for Banking Products</u></em>\n",
        "<h3>By: Shubham Awasthi\n",
        "\n",
        "---\n",
        "\n",
        "\n"
      ]
    },
    {
      "cell_type": "markdown",
      "metadata": {
        "id": "g2Ws7E8WArKx",
        "colab_type": "text"
      },
      "source": [
        "<h2>Importing Libraries and Dataset"
      ]
    },
    {
      "cell_type": "code",
      "metadata": {
        "id": "JcAcjYk7owpa",
        "colab_type": "code",
        "colab": {},
        "tags": []
      },
      "source": [
        "import pandas as pd\n",
        "import numpy as np\n",
        "import matplotlib.pyplot as plt\n",
        "import seaborn as sns\n",
        "%matplotlib inline"
      ],
      "execution_count": 1,
      "outputs": []
    },
    {
      "cell_type": "code",
      "metadata": {
        "id": "MKg-jwOOrRMT",
        "colab_type": "code",
        "colab": {
          "base_uri": "https://localhost:8080/",
          "height": 551
        },
        "outputId": "467131a2-631d-4ee0-fe3c-dbcf62cdab32"
      },
      "source": [
        "descr=pd.read_excel('Bank_Personal_Loan_Modelling.xlsx',sheet_name='Description')\n",
        "descr.drop(columns=descr.columns[0],index=[0,1,2,3])            #description of data"
      ],
      "execution_count": 2,
      "outputs": [
        {
          "output_type": "execute_result",
          "data": {
            "text/plain": "            Unnamed: 1                                         Unnamed: 2\n4    Data Description:                                                NaN\n5                  NaN                                                NaN\n6                   ID                                        Customer ID\n7                  Age                  Customer&#39;s age in completed years\n8           Experience                  #years of professional experience\n9               Income               Annual income of the customer ($000)\n10             ZIPCode                             Home Address ZIP code.\n11              Family                        Family size of the customer\n12               CCAvg     Avg. spending on credit cards per month ($000)\n13           Education  Education Level. 1: Undergrad; 2: Graduate; 3:...\n14            Mortgage             Value of house mortgage if any. ($000)\n15       Personal Loan  Did this customer accept the personal loan off...\n16  Securities Account  Does the customer have a securities account wi...\n17          CD Account  Does the customer have a certificate of deposi...\n18              Online  Does the customer use internet banking facilit...\n19          CreditCard  Does the customer use a credit card issued by ...",
            "text/html": "<div>\n<style scoped>\n    .dataframe tbody tr th:only-of-type {\n        vertical-align: middle;\n    }\n\n    .dataframe tbody tr th {\n        vertical-align: top;\n    }\n\n    .dataframe thead th {\n        text-align: right;\n    }\n</style>\n<table border=\"1\" class=\"dataframe\">\n  <thead>\n    <tr style=\"text-align: right;\">\n      <th></th>\n      <th>Unnamed: 1</th>\n      <th>Unnamed: 2</th>\n    </tr>\n  </thead>\n  <tbody>\n    <tr>\n      <th>4</th>\n      <td>Data Description:</td>\n      <td>NaN</td>\n    </tr>\n    <tr>\n      <th>5</th>\n      <td>NaN</td>\n      <td>NaN</td>\n    </tr>\n    <tr>\n      <th>6</th>\n      <td>ID</td>\n      <td>Customer ID</td>\n    </tr>\n    <tr>\n      <th>7</th>\n      <td>Age</td>\n      <td>Customer's age in completed years</td>\n    </tr>\n    <tr>\n      <th>8</th>\n      <td>Experience</td>\n      <td>#years of professional experience</td>\n    </tr>\n    <tr>\n      <th>9</th>\n      <td>Income</td>\n      <td>Annual income of the customer ($000)</td>\n    </tr>\n    <tr>\n      <th>10</th>\n      <td>ZIPCode</td>\n      <td>Home Address ZIP code.</td>\n    </tr>\n    <tr>\n      <th>11</th>\n      <td>Family</td>\n      <td>Family size of the customer</td>\n    </tr>\n    <tr>\n      <th>12</th>\n      <td>CCAvg</td>\n      <td>Avg. spending on credit cards per month ($000)</td>\n    </tr>\n    <tr>\n      <th>13</th>\n      <td>Education</td>\n      <td>Education Level. 1: Undergrad; 2: Graduate; 3:...</td>\n    </tr>\n    <tr>\n      <th>14</th>\n      <td>Mortgage</td>\n      <td>Value of house mortgage if any. ($000)</td>\n    </tr>\n    <tr>\n      <th>15</th>\n      <td>Personal Loan</td>\n      <td>Did this customer accept the personal loan off...</td>\n    </tr>\n    <tr>\n      <th>16</th>\n      <td>Securities Account</td>\n      <td>Does the customer have a securities account wi...</td>\n    </tr>\n    <tr>\n      <th>17</th>\n      <td>CD Account</td>\n      <td>Does the customer have a certificate of deposi...</td>\n    </tr>\n    <tr>\n      <th>18</th>\n      <td>Online</td>\n      <td>Does the customer use internet banking facilit...</td>\n    </tr>\n    <tr>\n      <th>19</th>\n      <td>CreditCard</td>\n      <td>Does the customer use a credit card issued by ...</td>\n    </tr>\n  </tbody>\n</table>\n</div>"
          },
          "metadata": {},
          "execution_count": 2
        }
      ]
    },
    {
      "cell_type": "code",
      "metadata": {
        "id": "k82F9l4ZrXmN",
        "colab_type": "code",
        "colab": {}
      },
      "source": [
        "data = pd.read_excel('Bank_Personal_Loan_Modelling.xlsx',sheet_name='Data')"
      ],
      "execution_count": 232,
      "outputs": []
    },
    {
      "cell_type": "code",
      "metadata": {
        "id": "zNrMj1qOrlhE",
        "colab_type": "code",
        "colab": {
          "base_uri": "https://localhost:8080/",
          "height": 441
        },
        "outputId": "04c9f5cf-122b-491c-9738-ca556a03676d"
      },
      "source": [
        "data  #data contains 5000 rows and 14 columns"
      ],
      "execution_count": 233,
      "outputs": [
        {
          "output_type": "execute_result",
          "data": {
            "text/html": [
              "<div>\n",
              "<style scoped>\n",
              "    .dataframe tbody tr th:only-of-type {\n",
              "        vertical-align: middle;\n",
              "    }\n",
              "\n",
              "    .dataframe tbody tr th {\n",
              "        vertical-align: top;\n",
              "    }\n",
              "\n",
              "    .dataframe thead th {\n",
              "        text-align: right;\n",
              "    }\n",
              "</style>\n",
              "<table border=\"1\" class=\"dataframe\">\n",
              "  <thead>\n",
              "    <tr style=\"text-align: right;\">\n",
              "      <th></th>\n",
              "      <th>ID</th>\n",
              "      <th>Age</th>\n",
              "      <th>Experience</th>\n",
              "      <th>Income</th>\n",
              "      <th>ZIP Code</th>\n",
              "      <th>Family</th>\n",
              "      <th>CCAvg</th>\n",
              "      <th>Education</th>\n",
              "      <th>Mortgage</th>\n",
              "      <th>Personal Loan</th>\n",
              "      <th>Securities Account</th>\n",
              "      <th>CD Account</th>\n",
              "      <th>Online</th>\n",
              "      <th>CreditCard</th>\n",
              "    </tr>\n",
              "  </thead>\n",
              "  <tbody>\n",
              "    <tr>\n",
              "      <th>0</th>\n",
              "      <td>1</td>\n",
              "      <td>25</td>\n",
              "      <td>1</td>\n",
              "      <td>49</td>\n",
              "      <td>91107</td>\n",
              "      <td>4</td>\n",
              "      <td>1.6</td>\n",
              "      <td>1</td>\n",
              "      <td>0</td>\n",
              "      <td>0</td>\n",
              "      <td>1</td>\n",
              "      <td>0</td>\n",
              "      <td>0</td>\n",
              "      <td>0</td>\n",
              "    </tr>\n",
              "    <tr>\n",
              "      <th>1</th>\n",
              "      <td>2</td>\n",
              "      <td>45</td>\n",
              "      <td>19</td>\n",
              "      <td>34</td>\n",
              "      <td>90089</td>\n",
              "      <td>3</td>\n",
              "      <td>1.5</td>\n",
              "      <td>1</td>\n",
              "      <td>0</td>\n",
              "      <td>0</td>\n",
              "      <td>1</td>\n",
              "      <td>0</td>\n",
              "      <td>0</td>\n",
              "      <td>0</td>\n",
              "    </tr>\n",
              "    <tr>\n",
              "      <th>2</th>\n",
              "      <td>3</td>\n",
              "      <td>39</td>\n",
              "      <td>15</td>\n",
              "      <td>11</td>\n",
              "      <td>94720</td>\n",
              "      <td>1</td>\n",
              "      <td>1.0</td>\n",
              "      <td>1</td>\n",
              "      <td>0</td>\n",
              "      <td>0</td>\n",
              "      <td>0</td>\n",
              "      <td>0</td>\n",
              "      <td>0</td>\n",
              "      <td>0</td>\n",
              "    </tr>\n",
              "    <tr>\n",
              "      <th>3</th>\n",
              "      <td>4</td>\n",
              "      <td>35</td>\n",
              "      <td>9</td>\n",
              "      <td>100</td>\n",
              "      <td>94112</td>\n",
              "      <td>1</td>\n",
              "      <td>2.7</td>\n",
              "      <td>2</td>\n",
              "      <td>0</td>\n",
              "      <td>0</td>\n",
              "      <td>0</td>\n",
              "      <td>0</td>\n",
              "      <td>0</td>\n",
              "      <td>0</td>\n",
              "    </tr>\n",
              "    <tr>\n",
              "      <th>4</th>\n",
              "      <td>5</td>\n",
              "      <td>35</td>\n",
              "      <td>8</td>\n",
              "      <td>45</td>\n",
              "      <td>91330</td>\n",
              "      <td>4</td>\n",
              "      <td>1.0</td>\n",
              "      <td>2</td>\n",
              "      <td>0</td>\n",
              "      <td>0</td>\n",
              "      <td>0</td>\n",
              "      <td>0</td>\n",
              "      <td>0</td>\n",
              "      <td>1</td>\n",
              "    </tr>\n",
              "    <tr>\n",
              "      <th>...</th>\n",
              "      <td>...</td>\n",
              "      <td>...</td>\n",
              "      <td>...</td>\n",
              "      <td>...</td>\n",
              "      <td>...</td>\n",
              "      <td>...</td>\n",
              "      <td>...</td>\n",
              "      <td>...</td>\n",
              "      <td>...</td>\n",
              "      <td>...</td>\n",
              "      <td>...</td>\n",
              "      <td>...</td>\n",
              "      <td>...</td>\n",
              "      <td>...</td>\n",
              "    </tr>\n",
              "    <tr>\n",
              "      <th>4995</th>\n",
              "      <td>4996</td>\n",
              "      <td>29</td>\n",
              "      <td>3</td>\n",
              "      <td>40</td>\n",
              "      <td>92697</td>\n",
              "      <td>1</td>\n",
              "      <td>1.9</td>\n",
              "      <td>3</td>\n",
              "      <td>0</td>\n",
              "      <td>0</td>\n",
              "      <td>0</td>\n",
              "      <td>0</td>\n",
              "      <td>1</td>\n",
              "      <td>0</td>\n",
              "    </tr>\n",
              "    <tr>\n",
              "      <th>4996</th>\n",
              "      <td>4997</td>\n",
              "      <td>30</td>\n",
              "      <td>4</td>\n",
              "      <td>15</td>\n",
              "      <td>92037</td>\n",
              "      <td>4</td>\n",
              "      <td>0.4</td>\n",
              "      <td>1</td>\n",
              "      <td>85</td>\n",
              "      <td>0</td>\n",
              "      <td>0</td>\n",
              "      <td>0</td>\n",
              "      <td>1</td>\n",
              "      <td>0</td>\n",
              "    </tr>\n",
              "    <tr>\n",
              "      <th>4997</th>\n",
              "      <td>4998</td>\n",
              "      <td>63</td>\n",
              "      <td>39</td>\n",
              "      <td>24</td>\n",
              "      <td>93023</td>\n",
              "      <td>2</td>\n",
              "      <td>0.3</td>\n",
              "      <td>3</td>\n",
              "      <td>0</td>\n",
              "      <td>0</td>\n",
              "      <td>0</td>\n",
              "      <td>0</td>\n",
              "      <td>0</td>\n",
              "      <td>0</td>\n",
              "    </tr>\n",
              "    <tr>\n",
              "      <th>4998</th>\n",
              "      <td>4999</td>\n",
              "      <td>65</td>\n",
              "      <td>40</td>\n",
              "      <td>49</td>\n",
              "      <td>90034</td>\n",
              "      <td>3</td>\n",
              "      <td>0.5</td>\n",
              "      <td>2</td>\n",
              "      <td>0</td>\n",
              "      <td>0</td>\n",
              "      <td>0</td>\n",
              "      <td>0</td>\n",
              "      <td>1</td>\n",
              "      <td>0</td>\n",
              "    </tr>\n",
              "    <tr>\n",
              "      <th>4999</th>\n",
              "      <td>5000</td>\n",
              "      <td>28</td>\n",
              "      <td>4</td>\n",
              "      <td>83</td>\n",
              "      <td>92612</td>\n",
              "      <td>3</td>\n",
              "      <td>0.8</td>\n",
              "      <td>1</td>\n",
              "      <td>0</td>\n",
              "      <td>0</td>\n",
              "      <td>0</td>\n",
              "      <td>0</td>\n",
              "      <td>1</td>\n",
              "      <td>1</td>\n",
              "    </tr>\n",
              "  </tbody>\n",
              "</table>\n",
              "<p>5000 rows × 14 columns</p>\n",
              "</div>"
            ],
            "text/plain": [
              "        ID  Age  Experience  ...  CD Account  Online  CreditCard\n",
              "0        1   25           1  ...           0       0           0\n",
              "1        2   45          19  ...           0       0           0\n",
              "2        3   39          15  ...           0       0           0\n",
              "3        4   35           9  ...           0       0           0\n",
              "4        5   35           8  ...           0       0           1\n",
              "...    ...  ...         ...  ...         ...     ...         ...\n",
              "4995  4996   29           3  ...           0       1           0\n",
              "4996  4997   30           4  ...           0       1           0\n",
              "4997  4998   63          39  ...           0       0           0\n",
              "4998  4999   65          40  ...           0       1           0\n",
              "4999  5000   28           4  ...           0       1           1\n",
              "\n",
              "[5000 rows x 14 columns]"
            ]
          },
          "metadata": {
            "tags": []
          },
          "execution_count": 233
        }
      ]
    },
    {
      "cell_type": "markdown",
      "metadata": {
        "id": "wkt5nMSR7jVk",
        "colab_type": "text"
      },
      "source": [
        "<h2>Checking for any null values"
      ]
    },
    {
      "cell_type": "code",
      "metadata": {
        "id": "gLu1pkNlrnxx",
        "colab_type": "code",
        "colab": {
          "base_uri": "https://localhost:8080/",
          "height": 399
        },
        "outputId": "81402860-f661-47f7-a93e-97b960c7f77d"
      },
      "source": [
        "data.info() #The data does not include any null values"
      ],
      "execution_count": 234,
      "outputs": [
        {
          "output_type": "stream",
          "text": [
            "<class 'pandas.core.frame.DataFrame'>\n",
            "RangeIndex: 5000 entries, 0 to 4999\n",
            "Data columns (total 14 columns):\n",
            " #   Column              Non-Null Count  Dtype  \n",
            "---  ------              --------------  -----  \n",
            " 0   ID                  5000 non-null   int64  \n",
            " 1   Age                 5000 non-null   int64  \n",
            " 2   Experience          5000 non-null   int64  \n",
            " 3   Income              5000 non-null   int64  \n",
            " 4   ZIP Code            5000 non-null   int64  \n",
            " 5   Family              5000 non-null   int64  \n",
            " 6   CCAvg               5000 non-null   float64\n",
            " 7   Education           5000 non-null   int64  \n",
            " 8   Mortgage            5000 non-null   int64  \n",
            " 9   Personal Loan       5000 non-null   int64  \n",
            " 10  Securities Account  5000 non-null   int64  \n",
            " 11  CD Account          5000 non-null   int64  \n",
            " 12  Online              5000 non-null   int64  \n",
            " 13  CreditCard          5000 non-null   int64  \n",
            "dtypes: float64(1), int64(13)\n",
            "memory usage: 547.0 KB\n"
          ],
          "name": "stdout"
        }
      ]
    },
    {
      "cell_type": "markdown",
      "metadata": {
        "id": "lHFOPCW08FNu",
        "colab_type": "text"
      },
      "source": [
        "<h2> Exploratory Data Analysis"
      ]
    },
    {
      "cell_type": "code",
      "metadata": {
        "id": "J01y6v5-bhsP",
        "colab_type": "code",
        "colab": {
          "base_uri": "https://localhost:8080/",
          "height": 337
        },
        "outputId": "93dd6755-a517-48b7-ea61-85e1b7288257"
      },
      "source": [
        "data.describe()"
      ],
      "execution_count": 235,
      "outputs": [
        {
          "output_type": "execute_result",
          "data": {
            "text/html": [
              "<div>\n",
              "<style scoped>\n",
              "    .dataframe tbody tr th:only-of-type {\n",
              "        vertical-align: middle;\n",
              "    }\n",
              "\n",
              "    .dataframe tbody tr th {\n",
              "        vertical-align: top;\n",
              "    }\n",
              "\n",
              "    .dataframe thead th {\n",
              "        text-align: right;\n",
              "    }\n",
              "</style>\n",
              "<table border=\"1\" class=\"dataframe\">\n",
              "  <thead>\n",
              "    <tr style=\"text-align: right;\">\n",
              "      <th></th>\n",
              "      <th>ID</th>\n",
              "      <th>Age</th>\n",
              "      <th>Experience</th>\n",
              "      <th>Income</th>\n",
              "      <th>ZIP Code</th>\n",
              "      <th>Family</th>\n",
              "      <th>CCAvg</th>\n",
              "      <th>Education</th>\n",
              "      <th>Mortgage</th>\n",
              "      <th>Personal Loan</th>\n",
              "      <th>Securities Account</th>\n",
              "      <th>CD Account</th>\n",
              "      <th>Online</th>\n",
              "      <th>CreditCard</th>\n",
              "    </tr>\n",
              "  </thead>\n",
              "  <tbody>\n",
              "    <tr>\n",
              "      <th>count</th>\n",
              "      <td>5000.000000</td>\n",
              "      <td>5000.000000</td>\n",
              "      <td>5000.000000</td>\n",
              "      <td>5000.000000</td>\n",
              "      <td>5000.000000</td>\n",
              "      <td>5000.000000</td>\n",
              "      <td>5000.000000</td>\n",
              "      <td>5000.000000</td>\n",
              "      <td>5000.000000</td>\n",
              "      <td>5000.000000</td>\n",
              "      <td>5000.000000</td>\n",
              "      <td>5000.00000</td>\n",
              "      <td>5000.000000</td>\n",
              "      <td>5000.000000</td>\n",
              "    </tr>\n",
              "    <tr>\n",
              "      <th>mean</th>\n",
              "      <td>2500.500000</td>\n",
              "      <td>45.338400</td>\n",
              "      <td>20.104600</td>\n",
              "      <td>73.774200</td>\n",
              "      <td>93152.503000</td>\n",
              "      <td>2.396400</td>\n",
              "      <td>1.937913</td>\n",
              "      <td>1.881000</td>\n",
              "      <td>56.498800</td>\n",
              "      <td>0.096000</td>\n",
              "      <td>0.104400</td>\n",
              "      <td>0.06040</td>\n",
              "      <td>0.596800</td>\n",
              "      <td>0.294000</td>\n",
              "    </tr>\n",
              "    <tr>\n",
              "      <th>std</th>\n",
              "      <td>1443.520003</td>\n",
              "      <td>11.463166</td>\n",
              "      <td>11.467954</td>\n",
              "      <td>46.033729</td>\n",
              "      <td>2121.852197</td>\n",
              "      <td>1.147663</td>\n",
              "      <td>1.747666</td>\n",
              "      <td>0.839869</td>\n",
              "      <td>101.713802</td>\n",
              "      <td>0.294621</td>\n",
              "      <td>0.305809</td>\n",
              "      <td>0.23825</td>\n",
              "      <td>0.490589</td>\n",
              "      <td>0.455637</td>\n",
              "    </tr>\n",
              "    <tr>\n",
              "      <th>min</th>\n",
              "      <td>1.000000</td>\n",
              "      <td>23.000000</td>\n",
              "      <td>-3.000000</td>\n",
              "      <td>8.000000</td>\n",
              "      <td>9307.000000</td>\n",
              "      <td>1.000000</td>\n",
              "      <td>0.000000</td>\n",
              "      <td>1.000000</td>\n",
              "      <td>0.000000</td>\n",
              "      <td>0.000000</td>\n",
              "      <td>0.000000</td>\n",
              "      <td>0.00000</td>\n",
              "      <td>0.000000</td>\n",
              "      <td>0.000000</td>\n",
              "    </tr>\n",
              "    <tr>\n",
              "      <th>25%</th>\n",
              "      <td>1250.750000</td>\n",
              "      <td>35.000000</td>\n",
              "      <td>10.000000</td>\n",
              "      <td>39.000000</td>\n",
              "      <td>91911.000000</td>\n",
              "      <td>1.000000</td>\n",
              "      <td>0.700000</td>\n",
              "      <td>1.000000</td>\n",
              "      <td>0.000000</td>\n",
              "      <td>0.000000</td>\n",
              "      <td>0.000000</td>\n",
              "      <td>0.00000</td>\n",
              "      <td>0.000000</td>\n",
              "      <td>0.000000</td>\n",
              "    </tr>\n",
              "    <tr>\n",
              "      <th>50%</th>\n",
              "      <td>2500.500000</td>\n",
              "      <td>45.000000</td>\n",
              "      <td>20.000000</td>\n",
              "      <td>64.000000</td>\n",
              "      <td>93437.000000</td>\n",
              "      <td>2.000000</td>\n",
              "      <td>1.500000</td>\n",
              "      <td>2.000000</td>\n",
              "      <td>0.000000</td>\n",
              "      <td>0.000000</td>\n",
              "      <td>0.000000</td>\n",
              "      <td>0.00000</td>\n",
              "      <td>1.000000</td>\n",
              "      <td>0.000000</td>\n",
              "    </tr>\n",
              "    <tr>\n",
              "      <th>75%</th>\n",
              "      <td>3750.250000</td>\n",
              "      <td>55.000000</td>\n",
              "      <td>30.000000</td>\n",
              "      <td>98.000000</td>\n",
              "      <td>94608.000000</td>\n",
              "      <td>3.000000</td>\n",
              "      <td>2.500000</td>\n",
              "      <td>3.000000</td>\n",
              "      <td>101.000000</td>\n",
              "      <td>0.000000</td>\n",
              "      <td>0.000000</td>\n",
              "      <td>0.00000</td>\n",
              "      <td>1.000000</td>\n",
              "      <td>1.000000</td>\n",
              "    </tr>\n",
              "    <tr>\n",
              "      <th>max</th>\n",
              "      <td>5000.000000</td>\n",
              "      <td>67.000000</td>\n",
              "      <td>43.000000</td>\n",
              "      <td>224.000000</td>\n",
              "      <td>96651.000000</td>\n",
              "      <td>4.000000</td>\n",
              "      <td>10.000000</td>\n",
              "      <td>3.000000</td>\n",
              "      <td>635.000000</td>\n",
              "      <td>1.000000</td>\n",
              "      <td>1.000000</td>\n",
              "      <td>1.00000</td>\n",
              "      <td>1.000000</td>\n",
              "      <td>1.000000</td>\n",
              "    </tr>\n",
              "  </tbody>\n",
              "</table>\n",
              "</div>"
            ],
            "text/plain": [
              "                ID          Age  ...       Online   CreditCard\n",
              "count  5000.000000  5000.000000  ...  5000.000000  5000.000000\n",
              "mean   2500.500000    45.338400  ...     0.596800     0.294000\n",
              "std    1443.520003    11.463166  ...     0.490589     0.455637\n",
              "min       1.000000    23.000000  ...     0.000000     0.000000\n",
              "25%    1250.750000    35.000000  ...     0.000000     0.000000\n",
              "50%    2500.500000    45.000000  ...     1.000000     0.000000\n",
              "75%    3750.250000    55.000000  ...     1.000000     1.000000\n",
              "max    5000.000000    67.000000  ...     1.000000     1.000000\n",
              "\n",
              "[8 rows x 14 columns]"
            ]
          },
          "metadata": {
            "tags": []
          },
          "execution_count": 235
        }
      ]
    },
    {
      "cell_type": "markdown",
      "metadata": {
        "id": "i0Fxu6-F8LkF",
        "colab_type": "text"
      },
      "source": [
        "The 'ID' column is not relevant for our machine learning model as its just used to identify each person uniquely and does not add any meaning to the dataset."
      ]
    },
    {
      "cell_type": "code",
      "metadata": {
        "id": "SFScXBIDgF1r",
        "colab_type": "code",
        "colab": {}
      },
      "source": [
        "data=data.drop(columns='ID') # removing the noisy data"
      ],
      "execution_count": 236,
      "outputs": []
    },
    {
      "cell_type": "markdown",
      "metadata": {
        "id": "uxeLCPdA85K8",
        "colab_type": "text"
      },
      "source": [
        "The 'Experience' column contains a negative value of -3 which is faulty data so we will need to remove that or replace it with the median."
      ]
    },
    {
      "cell_type": "code",
      "metadata": {
        "id": "VrCpSIKUf2Ku",
        "colab_type": "code",
        "colab": {
          "base_uri": "https://localhost:8080/",
          "height": 35
        },
        "outputId": "d3562389-85dd-4ef7-c0b9-f5f0bd94dbc0"
      },
      "source": [
        "correlation = data['Experience'].corr(data['Age'])\n",
        "correlation"
      ],
      "execution_count": 237,
      "outputs": [
        {
          "output_type": "execute_result",
          "data": {
            "text/plain": [
              "0.9942148569683321"
            ]
          },
          "metadata": {
            "tags": []
          },
          "execution_count": 237
        }
      ]
    },
    {
      "cell_type": "markdown",
      "metadata": {
        "id": "g_-dd9Gd9ZJ2",
        "colab_type": "text"
      },
      "source": [
        "The above snippet shows that Experience and Age are highly correlated so we can safely remove the Experience column because it won't remove any important information from the dataset and we will get rid of the faulty data. Moreover removing the Experience columns will help in avoiding multi-colinearity among the columns"
      ]
    },
    {
      "cell_type": "code",
      "metadata": {
        "id": "3-XqKc3uhaYx",
        "colab_type": "code",
        "colab": {}
      },
      "source": [
        "data=data.drop(columns='Experience')  # removing the experience column"
      ],
      "execution_count": 238,
      "outputs": []
    },
    {
      "cell_type": "code",
      "metadata": {
        "id": "lJaikFtphjyg",
        "colab_type": "code",
        "colab": {
          "base_uri": "https://localhost:8080/",
          "height": 235
        },
        "outputId": "c06833a5-62ac-4234-ff89-69dc5f7b9252"
      },
      "source": [
        "for col in list(data.columns):        #calculating the number of unique values\n",
        "  print(col,\" : \",data[col].unique().size) #for each column"
      ],
      "execution_count": 239,
      "outputs": [
        {
          "output_type": "stream",
          "text": [
            "Age  :  45\n",
            "Income  :  162\n",
            "ZIP Code  :  467\n",
            "Family  :  4\n",
            "CCAvg  :  108\n",
            "Education  :  3\n",
            "Mortgage  :  347\n",
            "Personal Loan  :  2\n",
            "Securities Account  :  2\n",
            "CD Account  :  2\n",
            "Online  :  2\n",
            "CreditCard  :  2\n"
          ],
          "name": "stdout"
        }
      ]
    },
    {
      "cell_type": "code",
      "metadata": {
        "id": "W_hTk0ZX7vX2",
        "colab_type": "code",
        "colab": {
          "base_uri": "https://localhost:8080/",
          "height": 35
        },
        "outputId": "464a2352-cc7c-496f-b04d-022f126178a7"
      },
      "source": [
        "(data['Mortgage']==0).sum()   #a lot of people have zero mortgage"
      ],
      "execution_count": 240,
      "outputs": [
        {
          "output_type": "execute_result",
          "data": {
            "text/plain": [
              "3462"
            ]
          },
          "metadata": {
            "tags": []
          },
          "execution_count": 240
        }
      ]
    },
    {
      "cell_type": "code",
      "metadata": {
        "id": "8CnygPeI_W1p",
        "colab_type": "code",
        "colab": {
          "base_uri": "https://localhost:8080/",
          "height": 35
        },
        "outputId": "20b59fdc-3cc2-4f20-f0f2-81ab41f7c9cb"
      },
      "source": [
        "(data['CCAvg']==0).sum()      # very few people have average zero average credit card spending per month"
      ],
      "execution_count": 241,
      "outputs": [
        {
          "output_type": "execute_result",
          "data": {
            "text/plain": [
              "106"
            ]
          },
          "metadata": {
            "tags": []
          },
          "execution_count": 241
        }
      ]
    },
    {
      "cell_type": "code",
      "metadata": {
        "id": "zeX1iuqq_qdh",
        "colab_type": "code",
        "colab": {
          "base_uri": "https://localhost:8080/",
          "height": 90
        },
        "outputId": "ff6f5535-1571-4849-c363-8718316d15f1"
      },
      "source": [
        "#categorical columns are ZIP code, Education\n",
        "#the value counts for the above columns are as follows :\n",
        "print(data['Education'].value_counts())   #for Education"
      ],
      "execution_count": 242,
      "outputs": [
        {
          "output_type": "stream",
          "text": [
            "1    2096\n",
            "3    1501\n",
            "2    1403\n",
            "Name: Education, dtype: int64\n"
          ],
          "name": "stdout"
        }
      ]
    },
    {
      "cell_type": "markdown",
      "metadata": {
        "id": "oS0a6FgSPhlU",
        "colab_type": "text"
      },
      "source": [
        "Majority of the people are Graduate or Above"
      ]
    },
    {
      "cell_type": "code",
      "metadata": {
        "id": "hVG9ZnrBOYuO",
        "colab_type": "code",
        "colab": {
          "base_uri": "https://localhost:8080/",
          "height": 235
        },
        "outputId": "856e9a7b-2f14-4564-d27b-ceacff23bc5c"
      },
      "source": [
        "print(data['ZIP Code'].value_counts())  #for Zip Code"
      ],
      "execution_count": 243,
      "outputs": [
        {
          "output_type": "stream",
          "text": [
            "94720    169\n",
            "94305    127\n",
            "95616    116\n",
            "90095     71\n",
            "93106     57\n",
            "        ... \n",
            "96145      1\n",
            "94970      1\n",
            "94598      1\n",
            "90068      1\n",
            "94087      1\n",
            "Name: ZIP Code, Length: 467, dtype: int64\n"
          ],
          "name": "stdout"
        }
      ]
    },
    {
      "cell_type": "markdown",
      "metadata": {
        "id": "K5Y7gQP7PWtR",
        "colab_type": "text"
      },
      "source": [
        "<h2><strong>Univariate Analysis</strong><h2>"
      ]
    },
    {
      "cell_type": "code",
      "metadata": {
        "id": "gIqfyekF_8N3",
        "colab_type": "code",
        "colab": {
          "base_uri": "https://localhost:8080/",
          "height": 281
        },
        "outputId": "d0de0287-1b42-4908-e8eb-c93d06e8fc4b"
      },
      "source": [
        "sns.distplot(data['Income'])\n",
        "plt.show()                          #the income graph is skewed towards the right"
      ],
      "execution_count": 244,
      "outputs": [
        {
          "output_type": "display_data",
          "data": {
            "image/png": "[encoded data removed]",
            "text/plain": [
              "<Figure size 432x288 with 1 Axes>"
            ]
          },
          "metadata": {
            "tags": [],
            "needs_background": "light"
          }
        }
      ]
    },
    {
      "cell_type": "code",
      "metadata": {
        "id": "MWilgA6aowOJ",
        "colab_type": "code",
        "colab": {
          "base_uri": "https://localhost:8080/",
          "height": 279
        },
        "outputId": "822e86f9-ec9a-4df9-8703-b8f93e4c41b8"
      },
      "source": [
        "sns.distplot(data['Age'])                     #looks almost normally distibuted\n",
        "plt.show()"
      ],
      "execution_count": 245,
      "outputs": [
        {
          "output_type": "display_data",
          "data": {
            "image/png": "[encoded data removed]",
            "text/plain": [
              "<Figure size 432x288 with 1 Axes>"
            ]
          },
          "metadata": {
            "tags": [],
            "needs_background": "light"
          }
        }
      ]
    },
    {
      "cell_type": "code",
      "metadata": {
        "id": "DCn5-Fibrbd5",
        "colab_type": "code",
        "colab": {
          "base_uri": "https://localhost:8080/",
          "height": 297
        },
        "outputId": "46d4877b-fa53-4fa7-dde6-3f4e288f11e7"
      },
      "source": [
        "sns.distplot(data['Mortgage'])"
      ],
      "execution_count": 246,
      "outputs": [
        {
          "output_type": "execute_result",
          "data": {
            "text/plain": [
              "<matplotlib.axes._subplots.AxesSubplot at 0x7f7a9cc73eb8>"
            ]
          },
          "metadata": {
            "tags": []
          },
          "execution_count": 246
        },
        {
          "output_type": "display_data",
          "data": {
            "image/png": "[encoded data removed]",
            "text/plain": [
              "<Figure size 432x288 with 1 Axes>"
            ]
          },
          "metadata": {
            "tags": [],
            "needs_background": "light"
          }
        }
      ]
    },
    {
      "cell_type": "markdown",
      "metadata": {
        "id": "VvVwcqXRZOKm",
        "colab_type": "text"
      },
      "source": [
        "From the above graph it is evident that a lot of people of zero house mortgage value and the number of people having non-zero mortgage value is very less "
      ]
    },
    {
      "cell_type": "code",
      "metadata": {
        "id": "PuoVHKk4rlrh",
        "colab_type": "code",
        "colab": {
          "base_uri": "https://localhost:8080/",
          "height": 297
        },
        "outputId": "3f7f36c8-f229-4caf-9393-3d85dfe53687"
      },
      "source": [
        "sns.distplot(data['Education'])"
      ],
      "execution_count": 247,
      "outputs": [
        {
          "output_type": "execute_result",
          "data": {
            "text/plain": [
              "<matplotlib.axes._subplots.AxesSubplot at 0x7f7aa6b1d0f0>"
            ]
          },
          "metadata": {
            "tags": []
          },
          "execution_count": 247
        },
        {
          "output_type": "display_data",
          "data": {
            "image/png": "[encoded data removed]",
            "text/plain": [
              "<Figure size 432x288 with 1 Axes>"
            ]
          },
          "metadata": {
            "tags": [],
            "needs_background": "light"
          }
        }
      ]
    },
    {
      "cell_type": "code",
      "metadata": {
        "id": "V0VNr3qMs1_6",
        "colab_type": "code",
        "colab": {
          "base_uri": "https://localhost:8080/",
          "height": 334
        },
        "outputId": "e25b6d79-5b51-4b57-8625-ddf428a70915"
      },
      "source": [
        "sns.distplot(data['CreditCard'])\n",
        "data['CreditCard'].value_counts()"
      ],
      "execution_count": 248,
      "outputs": [
        {
          "output_type": "execute_result",
          "data": {
            "text/plain": [
              "0    3530\n",
              "1    1470\n",
              "Name: CreditCard, dtype: int64"
            ]
          },
          "metadata": {
            "tags": []
          },
          "execution_count": 248
        },
        {
          "output_type": "display_data",
          "data": {
            "image/png": "[encoded data removed]",
            "text/plain": [
              "<Figure size 432x288 with 1 Axes>"
            ]
          },
          "metadata": {
            "tags": [],
            "needs_background": "light"
          }
        }
      ]
    },
    {
      "cell_type": "markdown",
      "metadata": {
        "id": "5qVDX-x0ao5W",
        "colab_type": "text"
      },
      "source": [
        "Approximately 70% of the people don't have a creditcard"
      ]
    },
    {
      "cell_type": "code",
      "metadata": {
        "id": "Knb4QQIaa1a4",
        "colab_type": "code",
        "colab": {
          "base_uri": "https://localhost:8080/",
          "height": 297
        },
        "outputId": "3d522b44-286e-4e36-a491-7cb16557da80"
      },
      "source": [
        "sns.distplot(data['CCAvg'])  #plot of average creditcard spending \n",
        "print(\"Number of people with non-zero creditcard spending : \" ,data[(data.CCAvg>0)]['CCAvg'].size) #data is right-skewed"
      ],
      "execution_count": 249,
      "outputs": [
        {
          "output_type": "stream",
          "text": [
            "Number of people with non-zero creditcard spending :  4894\n"
          ],
          "name": "stdout"
        },
        {
          "output_type": "display_data",
          "data": {
            "image/png": "[encoded data removed]",
            "text/plain": [
              "<Figure size 432x288 with 1 Axes>"
            ]
          },
          "metadata": {
            "tags": [],
            "needs_background": "light"
          }
        }
      ]
    },
    {
      "cell_type": "markdown",
      "metadata": {
        "id": "FaE5qKfIeVr1",
        "colab_type": "text"
      },
      "source": [
        "A lot of people use credit cards"
      ]
    },
    {
      "cell_type": "code",
      "metadata": {
        "id": "ftrWFtXJtpZR",
        "colab_type": "code",
        "colab": {
          "base_uri": "https://localhost:8080/",
          "height": 334
        },
        "outputId": "9ce8bb78-6aea-41d2-fe89-e6a22b6c3b2b"
      },
      "source": [
        "sns.countplot(data['Securities Account'])\n",
        "plt.show()\n",
        "print(data['Securities Account'].value_counts())"
      ],
      "execution_count": 250,
      "outputs": [
        {
          "output_type": "display_data",
          "data": {
            "image/png": "[encoded data removed]",
            "text/plain": [
              "<Figure size 432x288 with 1 Axes>"
            ]
          },
          "metadata": {
            "tags": [],
            "needs_background": "light"
          }
        },
        {
          "output_type": "stream",
          "text": [
            "0    4478\n",
            "1     522\n",
            "Name: Securities Account, dtype: int64\n"
          ],
          "name": "stdout"
        }
      ]
    },
    {
      "cell_type": "markdown",
      "metadata": {
        "id": "SrntXzNIe7ru",
        "colab_type": "text"
      },
      "source": [
        "A large proportion of the people don't have a securities account"
      ]
    },
    {
      "cell_type": "code",
      "metadata": {
        "id": "RZ3Dj9asfHxC",
        "colab_type": "code",
        "colab": {
          "base_uri": "https://localhost:8080/",
          "height": 334
        },
        "outputId": "9829fca2-29fa-44eb-ecdb-b8271246ea15"
      },
      "source": [
        "sns.countplot(data['Online'])\n",
        "plt.show()\n",
        "data['Online'].value_counts()"
      ],
      "execution_count": 251,
      "outputs": [
        {
          "output_type": "display_data",
          "data": {
            "image/png": "[encoded data removed]",
            "text/plain": [
              "<Figure size 432x288 with 1 Axes>"
            ]
          },
          "metadata": {
            "tags": [],
            "needs_background": "light"
          }
        },
        {
          "output_type": "execute_result",
          "data": {
            "text/plain": [
              "1    2984\n",
              "0    2016\n",
              "Name: Online, dtype: int64"
            ]
          },
          "metadata": {
            "tags": []
          },
          "execution_count": 251
        }
      ]
    },
    {
      "cell_type": "code",
      "metadata": {
        "id": "vo7tuhTPvJ7X",
        "colab_type": "code",
        "colab": {
          "base_uri": "https://localhost:8080/",
          "height": 370
        },
        "outputId": "14e8a061-e434-4e0b-87b0-016a1f90bffa"
      },
      "source": [
        "sns.countplot(data['Family'])\n",
        "plt.show()\n",
        "data['Family'].value_counts()"
      ],
      "execution_count": 252,
      "outputs": [
        {
          "output_type": "display_data",
          "data": {
            "image/png": "[encoded data removed]",
            "text/plain": [
              "<Figure size 432x288 with 1 Axes>"
            ]
          },
          "metadata": {
            "tags": [],
            "needs_background": "light"
          }
        },
        {
          "output_type": "execute_result",
          "data": {
            "text/plain": [
              "1    1472\n",
              "2    1296\n",
              "4    1222\n",
              "3    1010\n",
              "Name: Family, dtype: int64"
            ]
          },
          "metadata": {
            "tags": []
          },
          "execution_count": 252
        }
      ]
    },
    {
      "cell_type": "markdown",
      "metadata": {
        "id": "GnG1K23WgxGJ",
        "colab_type": "text"
      },
      "source": [
        "<h2><strong>Bivariate Analysis</strong></h2>"
      ]
    },
    {
      "cell_type": "code",
      "metadata": {
        "id": "vlhSrlfFoVLO",
        "colab_type": "code",
        "colab": {}
      },
      "source": [
        "def draw(y_var,x_var):      #function to draw sns.boxplot for bivariate analysis\n",
        "  sns.boxplot(x=data[x_var],y=data[y_var],hue='Personal Loan',data=data)  \n",
        "  plt.show()"
      ],
      "execution_count": 253,
      "outputs": []
    },
    {
      "cell_type": "markdown",
      "metadata": {
        "id": "cmDvqnhlg2EE",
        "colab_type": "text"
      },
      "source": [
        "<ol><h3><li>Income Vs Education</li>"
      ]
    },
    {
      "cell_type": "code",
      "metadata": {
        "id": "q20YdPt5hIFC",
        "colab_type": "code",
        "colab": {
          "base_uri": "https://localhost:8080/",
          "height": 279
        },
        "outputId": "005ede5c-ebf7-4686-99e7-3c1e35f59a94"
      },
      "source": [
        "draw('Income','Education')"
      ],
      "execution_count": 254,
      "outputs": [
        {
          "output_type": "display_data",
          "data": {
            "image/png": "[encoded data removed]",
            "text/plain": [
              "<Figure size 432x288 with 1 Axes>"
            ]
          },
          "metadata": {
            "tags": [],
            "needs_background": "light"
          }
        }
      ]
    },
    {
      "cell_type": "markdown",
      "metadata": {
        "id": "sGIttu5pmPFy",
        "colab_type": "text"
      },
      "source": [
        "For the people with the same educational qualification, those with higher income are more likely to get a personal loan"
      ]
    },
    {
      "cell_type": "markdown",
      "metadata": {
        "id": "ALoXZ8QWox3o",
        "colab_type": "text"
      },
      "source": [
        "<h3>&ensp;2. Income Vs Age</h3>"
      ]
    },
    {
      "cell_type": "code",
      "metadata": {
        "id": "-ldKOOnFpN0c",
        "colab_type": "code",
        "colab": {
          "base_uri": "https://localhost:8080/",
          "height": 279
        },
        "outputId": "3951dd92-104a-4342-c630-2d384470d0af"
      },
      "source": [
        "draw('Income','Age')"
      ],
      "execution_count": 255,
      "outputs": [
        {
          "output_type": "display_data",
          "data": {
            "image/png": "[encoded data removed]",
            "text/plain": [
              "<Figure size 432x288 with 1 Axes>"
            ]
          },
          "metadata": {
            "tags": [],
            "needs_background": "light"
          }
        }
      ]
    },
    {
      "cell_type": "markdown",
      "metadata": {
        "id": "way5h-l6pyaq",
        "colab_type": "text"
      },
      "source": [
        "For same age group those with higher income are more likely to get a personal loan"
      ]
    },
    {
      "cell_type": "markdown",
      "metadata": {
        "id": "QDkpJfffs6in",
        "colab_type": "text"
      },
      "source": [
        "<h3>&ensp;3. Income Vs Family Size\n"
      ]
    },
    {
      "cell_type": "code",
      "metadata": {
        "id": "NO_Tek-vpR8U",
        "colab_type": "code",
        "colab": {
          "base_uri": "https://localhost:8080/",
          "height": 541
        },
        "outputId": "a8703748-532e-407c-9fe3-2e022c619dd3"
      },
      "source": [
        "draw('Income','Family')\n",
        "sns.boxplot(x=data['Personal Loan'],y='Income',hue='Family',data=data)\n",
        "plt.show()"
      ],
      "execution_count": 256,
      "outputs": [
        {
          "output_type": "display_data",
          "data": {
            "image/png": "[encoded data removed]",
            "text/plain": [
              "<Figure size 432x288 with 1 Axes>"
            ]
          },
          "metadata": {
            "tags": [],
            "needs_background": "light"
          }
        },
        {
          "output_type": "display_data",
          "data": {
            "image/png": "[encoded data removed]",
            "text/plain": [
              "<Figure size 432x288 with 1 Axes>"
            ]
          },
          "metadata": {
            "tags": [],
            "needs_background": "light"
          }
        }
      ]
    },
    {
      "cell_type": "markdown",
      "metadata": {
        "id": "Bw8Bh1ddvgp9",
        "colab_type": "text"
      },
      "source": [
        "<h3>&ensp;4. Income Vs Credit Card Spending"
      ]
    },
    {
      "cell_type": "code",
      "metadata": {
        "id": "spXxc_Gjt0g5",
        "colab_type": "code",
        "colab": {
          "base_uri": "https://localhost:8080/",
          "height": 320
        },
        "outputId": "039713b6-4d63-47eb-f09d-d8c858100453"
      },
      "source": [
        "plt.scatter(y=data['Income'],x=data['CCAvg'],c=data['Personal Loan'])\n",
        "plt.show()\n",
        "print('Personal loan - \\n 0 : purple \\n 1 : yellow')"
      ],
      "execution_count": 257,
      "outputs": [
        {
          "output_type": "display_data",
          "data": {
            "image/png": "[encoded data removed]",
            "text/plain": [
              "<Figure size 432x288 with 1 Axes>"
            ]
          },
          "metadata": {
            "tags": [],
            "needs_background": "light"
          }
        },
        {
          "output_type": "stream",
          "text": [
            "Personal loan - \n",
            " 0 : purple \n",
            " 1 : yellow\n"
          ],
          "name": "stdout"
        }
      ]
    },
    {
      "cell_type": "markdown",
      "metadata": {
        "id": "dNsCSWlAPk1Z",
        "colab_type": "text"
      },
      "source": [
        "Again we see that families with higher income are more likely to get a loan</br>"
      ]
    },
    {
      "cell_type": "markdown",
      "metadata": {
        "id": "PDxsAJYUP1Ip",
        "colab_type": "text"
      },
      "source": [
        "<h3>Graph of Probabilty Vs Income</h3>\n",
        "This graph plots the probability of getting loan if income is less than or equal to the specified income"
      ]
    },
    {
      "cell_type": "code",
      "metadata": {
        "id": "x3yQIhVc64VG",
        "colab_type": "code",
        "colab": {
          "base_uri": "https://localhost:8080/",
          "height": 268
        },
        "outputId": "21a521d6-3b04-4569-8337-cf770c120a07"
      },
      "source": [
        "a=list()\n",
        "for i in data['Income'].unique():\n",
        "  prob=data[(data['Income']<=i) & (data['Personal Loan']==1)].shape[0]/(data.Income<=i).shape[0]\n",
        "  a.append((i,prob))\n",
        "s=pd.DataFrame(a,columns=['Income','Probability'])      \n",
        "plt.scatter(x=s['Income'],y=s['Probability'])  #Probability of getting loan provided income is less than or equal to the given Income\n",
        "plt.show()"
      ],
      "execution_count": 258,
      "outputs": [
        {
          "output_type": "display_data",
          "data": {
            "image/png": "[encoded data removed]",
            "text/plain": [
              "<Figure size 432x288 with 1 Axes>"
            ]
          },
          "metadata": {
            "tags": [],
            "needs_background": "light"
          }
        }
      ]
    },
    {
      "cell_type": "markdown",
      "metadata": {
        "id": "XqrZF5Lkpr4l",
        "colab_type": "text"
      },
      "source": [
        "<strong>Hence we can say that high income will play an important role in deciding whether a customer gets a loan or not, however this is not the only variable</strong>"
      ]
    },
    {
      "cell_type": "markdown",
      "metadata": {
        "id": "AyiP22ZMyQ-g",
        "colab_type": "text"
      },
      "source": [
        "<h3>&ensp;5. Education and Personal Loan"
      ]
    },
    {
      "cell_type": "code",
      "metadata": {
        "id": "2BX6q7o6sukb",
        "colab_type": "code",
        "colab": {
          "base_uri": "https://localhost:8080/",
          "height": 279
        },
        "outputId": "4ba31cf6-fc39-4529-b564-6334d0e9896a"
      },
      "source": [
        "sns.countplot(x=data['Education'],hue='Personal Loan',data=data)\n",
        "plt.show()"
      ],
      "execution_count": 259,
      "outputs": [
        {
          "output_type": "display_data",
          "data": {
            "image/png": "[encoded data removed]",
            "text/plain": [
              "<Figure size 432x288 with 1 Axes>"
            ]
          },
          "metadata": {
            "tags": [],
            "needs_background": "light"
          }
        }
      ]
    },
    {
      "cell_type": "markdown",
      "metadata": {
        "id": "XARGlPzbweo9",
        "colab_type": "text"
      },
      "source": [
        "The only thing worth noting is that<strong> out of those who have got the loan, majority are graduate or above</strong>\n"
      ]
    },
    {
      "cell_type": "code",
      "metadata": {
        "id": "nmULiEM10-1S",
        "colab_type": "code",
        "colab": {
          "base_uri": "https://localhost:8080/",
          "height": 279
        },
        "outputId": "dde8c96e-f8dd-46ac-f764-e987676ce076"
      },
      "source": [
        "sns.countplot(x=data['Securities Account'],hue='Personal Loan',data=data)\n",
        "plt.show()"
      ],
      "execution_count": 260,
      "outputs": [
        {
          "output_type": "display_data",
          "data": {
            "image/png": "[encoded data removed]",
            "text/plain": [
              "<Figure size 432x288 with 1 Axes>"
            ]
          },
          "metadata": {
            "tags": [],
            "needs_background": "light"
          }
        }
      ]
    },
    {
      "cell_type": "markdown",
      "metadata": {
        "id": "5ub9C8oS1lyG",
        "colab_type": "text"
      },
      "source": [
        "Majortiy of the people who have securities account don't have a personal loan"
      ]
    },
    {
      "cell_type": "markdown",
      "metadata": {
        "id": "C5S8bmGr3Yfe",
        "colab_type": "text"
      },
      "source": [
        "<h3><em> Correlation Matrix :</em></h3>"
      ]
    },
    {
      "cell_type": "code",
      "metadata": {
        "id": "egQBTNvM3oAh",
        "colab_type": "code",
        "colab": {
          "base_uri": "https://localhost:8080/",
          "height": 696
        },
        "outputId": "996d09f8-705c-43ce-d61a-536c66dd7707"
      },
      "source": [
        "plt.subplots(figsize=(15,10))\n",
        "sns.heatmap(data.corr(),annot=True)"
      ],
      "execution_count": 261,
      "outputs": [
        {
          "output_type": "execute_result",
          "data": {
            "text/plain": [
              "<matplotlib.axes._subplots.AxesSubplot at 0x7f7a988c77f0>"
            ]
          },
          "metadata": {
            "tags": []
          },
          "execution_count": 261
        },
        {
          "output_type": "display_data",
          "data": {
            "image/png": "[encoded data removed]",
            "text/plain": [
              "<Figure size 1080x720 with 2 Axes>"
            ]
          },
          "metadata": {
            "tags": [],
            "needs_background": "light"
          }
        }
      ]
    },
    {
      "cell_type": "markdown",
      "metadata": {
        "id": "ti6VRra13xB0",
        "colab_type": "text"
      },
      "source": [
        "The maximum value in any cell is 0.65 which not very high, hence the columns are not highly correlated and there is no multi-collinearity"
      ]
    },
    {
      "cell_type": "code",
      "metadata": {
        "id": "_OmIPGQ04y1o",
        "colab_type": "code",
        "colab": {
          "base_uri": "https://localhost:8080/",
          "height": 253
        },
        "outputId": "587252f6-9566-4eac-a623-f8cf1fae6c38"
      },
      "source": [
        "data.nunique()"
      ],
      "execution_count": 262,
      "outputs": [
        {
          "output_type": "execute_result",
          "data": {
            "text/plain": [
              "Age                    45\n",
              "Income                162\n",
              "ZIP Code              467\n",
              "Family                  4\n",
              "CCAvg                 108\n",
              "Education               3\n",
              "Mortgage              347\n",
              "Personal Loan           2\n",
              "Securities Account      2\n",
              "CD Account              2\n",
              "Online                  2\n",
              "CreditCard              2\n",
              "dtype: int64"
            ]
          },
          "metadata": {
            "tags": []
          },
          "execution_count": 262
        }
      ]
    },
    {
      "cell_type": "markdown",
      "metadata": {
        "id": "LP8LZOBXg2hY",
        "colab_type": "text"
      },
      "source": [
        "Since the Number of unique values for Zip-code is very large it would not make sense to incorporate the zip-code data. This is because the zip-code is a categorical column with nominal data. Hence to account for all the zip-codes 467 new columns(one for each zip-code) would have to be made, which won't be beneficial for the machine learning model as these columns would be highly correlated. Therefore it makes sense to remove this column from the dataset."
      ]
    },
    {
      "cell_type": "code",
      "metadata": {
        "id": "EIKctFBMhvkl",
        "colab_type": "code",
        "colab": {
          "base_uri": "https://localhost:8080/",
          "height": 424
        },
        "outputId": "c456a3a1-2cf7-4d6a-9ee0-db5ac4f2dc3b"
      },
      "source": [
        "data=data.drop(columns='ZIP Code')    #removing the zip code column\n",
        "data"
      ],
      "execution_count": 263,
      "outputs": [
        {
          "output_type": "execute_result",
          "data": {
            "text/html": [
              "<div>\n",
              "<style scoped>\n",
              "    .dataframe tbody tr th:only-of-type {\n",
              "        vertical-align: middle;\n",
              "    }\n",
              "\n",
              "    .dataframe tbody tr th {\n",
              "        vertical-align: top;\n",
              "    }\n",
              "\n",
              "    .dataframe thead th {\n",
              "        text-align: right;\n",
              "    }\n",
              "</style>\n",
              "<table border=\"1\" class=\"dataframe\">\n",
              "  <thead>\n",
              "    <tr style=\"text-align: right;\">\n",
              "      <th></th>\n",
              "      <th>Age</th>\n",
              "      <th>Income</th>\n",
              "      <th>Family</th>\n",
              "      <th>CCAvg</th>\n",
              "      <th>Education</th>\n",
              "      <th>Mortgage</th>\n",
              "      <th>Personal Loan</th>\n",
              "      <th>Securities Account</th>\n",
              "      <th>CD Account</th>\n",
              "      <th>Online</th>\n",
              "      <th>CreditCard</th>\n",
              "    </tr>\n",
              "  </thead>\n",
              "  <tbody>\n",
              "    <tr>\n",
              "      <th>0</th>\n",
              "      <td>25</td>\n",
              "      <td>49</td>\n",
              "      <td>4</td>\n",
              "      <td>1.6</td>\n",
              "      <td>1</td>\n",
              "      <td>0</td>\n",
              "      <td>0</td>\n",
              "      <td>1</td>\n",
              "      <td>0</td>\n",
              "      <td>0</td>\n",
              "      <td>0</td>\n",
              "    </tr>\n",
              "    <tr>\n",
              "      <th>1</th>\n",
              "      <td>45</td>\n",
              "      <td>34</td>\n",
              "      <td>3</td>\n",
              "      <td>1.5</td>\n",
              "      <td>1</td>\n",
              "      <td>0</td>\n",
              "      <td>0</td>\n",
              "      <td>1</td>\n",
              "      <td>0</td>\n",
              "      <td>0</td>\n",
              "      <td>0</td>\n",
              "    </tr>\n",
              "    <tr>\n",
              "      <th>2</th>\n",
              "      <td>39</td>\n",
              "      <td>11</td>\n",
              "      <td>1</td>\n",
              "      <td>1.0</td>\n",
              "      <td>1</td>\n",
              "      <td>0</td>\n",
              "      <td>0</td>\n",
              "      <td>0</td>\n",
              "      <td>0</td>\n",
              "      <td>0</td>\n",
              "      <td>0</td>\n",
              "    </tr>\n",
              "    <tr>\n",
              "      <th>3</th>\n",
              "      <td>35</td>\n",
              "      <td>100</td>\n",
              "      <td>1</td>\n",
              "      <td>2.7</td>\n",
              "      <td>2</td>\n",
              "      <td>0</td>\n",
              "      <td>0</td>\n",
              "      <td>0</td>\n",
              "      <td>0</td>\n",
              "      <td>0</td>\n",
              "      <td>0</td>\n",
              "    </tr>\n",
              "    <tr>\n",
              "      <th>4</th>\n",
              "      <td>35</td>\n",
              "      <td>45</td>\n",
              "      <td>4</td>\n",
              "      <td>1.0</td>\n",
              "      <td>2</td>\n",
              "      <td>0</td>\n",
              "      <td>0</td>\n",
              "      <td>0</td>\n",
              "      <td>0</td>\n",
              "      <td>0</td>\n",
              "      <td>1</td>\n",
              "    </tr>\n",
              "    <tr>\n",
              "      <th>...</th>\n",
              "      <td>...</td>\n",
              "      <td>...</td>\n",
              "      <td>...</td>\n",
              "      <td>...</td>\n",
              "      <td>...</td>\n",
              "      <td>...</td>\n",
              "      <td>...</td>\n",
              "      <td>...</td>\n",
              "      <td>...</td>\n",
              "      <td>...</td>\n",
              "      <td>...</td>\n",
              "    </tr>\n",
              "    <tr>\n",
              "      <th>4995</th>\n",
              "      <td>29</td>\n",
              "      <td>40</td>\n",
              "      <td>1</td>\n",
              "      <td>1.9</td>\n",
              "      <td>3</td>\n",
              "      <td>0</td>\n",
              "      <td>0</td>\n",
              "      <td>0</td>\n",
              "      <td>0</td>\n",
              "      <td>1</td>\n",
              "      <td>0</td>\n",
              "    </tr>\n",
              "    <tr>\n",
              "      <th>4996</th>\n",
              "      <td>30</td>\n",
              "      <td>15</td>\n",
              "      <td>4</td>\n",
              "      <td>0.4</td>\n",
              "      <td>1</td>\n",
              "      <td>85</td>\n",
              "      <td>0</td>\n",
              "      <td>0</td>\n",
              "      <td>0</td>\n",
              "      <td>1</td>\n",
              "      <td>0</td>\n",
              "    </tr>\n",
              "    <tr>\n",
              "      <th>4997</th>\n",
              "      <td>63</td>\n",
              "      <td>24</td>\n",
              "      <td>2</td>\n",
              "      <td>0.3</td>\n",
              "      <td>3</td>\n",
              "      <td>0</td>\n",
              "      <td>0</td>\n",
              "      <td>0</td>\n",
              "      <td>0</td>\n",
              "      <td>0</td>\n",
              "      <td>0</td>\n",
              "    </tr>\n",
              "    <tr>\n",
              "      <th>4998</th>\n",
              "      <td>65</td>\n",
              "      <td>49</td>\n",
              "      <td>3</td>\n",
              "      <td>0.5</td>\n",
              "      <td>2</td>\n",
              "      <td>0</td>\n",
              "      <td>0</td>\n",
              "      <td>0</td>\n",
              "      <td>0</td>\n",
              "      <td>1</td>\n",
              "      <td>0</td>\n",
              "    </tr>\n",
              "    <tr>\n",
              "      <th>4999</th>\n",
              "      <td>28</td>\n",
              "      <td>83</td>\n",
              "      <td>3</td>\n",
              "      <td>0.8</td>\n",
              "      <td>1</td>\n",
              "      <td>0</td>\n",
              "      <td>0</td>\n",
              "      <td>0</td>\n",
              "      <td>0</td>\n",
              "      <td>1</td>\n",
              "      <td>1</td>\n",
              "    </tr>\n",
              "  </tbody>\n",
              "</table>\n",
              "<p>5000 rows × 11 columns</p>\n",
              "</div>"
            ],
            "text/plain": [
              "      Age  Income  Family  ...  CD Account  Online  CreditCard\n",
              "0      25      49       4  ...           0       0           0\n",
              "1      45      34       3  ...           0       0           0\n",
              "2      39      11       1  ...           0       0           0\n",
              "3      35     100       1  ...           0       0           0\n",
              "4      35      45       4  ...           0       0           1\n",
              "...   ...     ...     ...  ...         ...     ...         ...\n",
              "4995   29      40       1  ...           0       1           0\n",
              "4996   30      15       4  ...           0       1           0\n",
              "4997   63      24       2  ...           0       0           0\n",
              "4998   65      49       3  ...           0       1           0\n",
              "4999   28      83       3  ...           0       1           1\n",
              "\n",
              "[5000 rows x 11 columns]"
            ]
          },
          "metadata": {
            "tags": []
          },
          "execution_count": 263
        }
      ]
    },
    {
      "cell_type": "markdown",
      "metadata": {
        "id": "Qc5xuRfqkHIW",
        "colab_type": "text"
      },
      "source": [
        "<h2><strong>Normalizing the Data</strong><h1>"
      ]
    },
    {
      "cell_type": "markdown",
      "metadata": {
        "id": "mb99A09hiDKx",
        "colab_type": "text"
      },
      "source": [
        "In order to increase the accuracy of our machine learning model we need to normalize the data as well as get rid of the outliers. This can be done by applying power transformation on the necessary columns"
      ]
    },
    {
      "cell_type": "code",
      "metadata": {
        "id": "lPLBREUlnQOq",
        "colab_type": "code",
        "colab": {}
      },
      "source": [
        "from sklearn.preprocessing import PowerTransformer\n",
        "pt = PowerTransformer(method='yeo-johnson',standardize=False)   #applying power transformation on Income column\n",
        "pt.fit(data['Income'].values.reshape(-1,1))\n",
        "income=pt.transform(data['Income'].values.reshape(-1,1))"
      ],
      "execution_count": 264,
      "outputs": []
    },
    {
      "cell_type": "code",
      "metadata": {
        "id": "3xPS9ziEnYT2",
        "colab_type": "code",
        "colab": {
          "base_uri": "https://localhost:8080/",
          "height": 283
        },
        "outputId": "e47a3b26-d03d-427a-dbcb-530902d9d119"
      },
      "source": [
        "sns.distplot(income)  #new income distribution"
      ],
      "execution_count": 265,
      "outputs": [
        {
          "output_type": "execute_result",
          "data": {
            "text/plain": [
              "<matplotlib.axes._subplots.AxesSubplot at 0x7f7ae63b0fd0>"
            ]
          },
          "metadata": {
            "tags": []
          },
          "execution_count": 265
        },
        {
          "output_type": "display_data",
          "data": {
            "image/png": "[encoded data removed]",
            "text/plain": [
              "<Figure size 432x288 with 1 Axes>"
            ]
          },
          "metadata": {
            "tags": [],
            "needs_background": "light"
          }
        }
      ]
    },
    {
      "cell_type": "code",
      "metadata": {
        "id": "7kShTPNVoRGP",
        "colab_type": "code",
        "colab": {
          "base_uri": "https://localhost:8080/",
          "height": 299
        },
        "outputId": "a7b1da84-fd88-4b93-cd76-ffcccf03670d"
      },
      "source": [
        "sns.distplot(data[\"Income\"])  #old income distribution"
      ],
      "execution_count": 266,
      "outputs": [
        {
          "output_type": "execute_result",
          "data": {
            "text/plain": [
              "<matplotlib.axes._subplots.AxesSubplot at 0x7f7a985b0e80>"
            ]
          },
          "metadata": {
            "tags": []
          },
          "execution_count": 266
        },
        {
          "output_type": "display_data",
          "data": {
            "image/png": "[encoded data removed]",
            "text/plain": [
              "<Figure size 432x288 with 1 Axes>"
            ]
          },
          "metadata": {
            "tags": [],
            "needs_background": "light"
          }
        }
      ]
    },
    {
      "cell_type": "markdown",
      "metadata": {
        "id": "YrXrUuJap-5r",
        "colab_type": "text"
      },
      "source": [
        "The new graph is less skewed and is normalized"
      ]
    },
    {
      "cell_type": "code",
      "metadata": {
        "id": "0LBPGjO9qjpv",
        "colab_type": "code",
        "colab": {}
      },
      "source": [
        "income=pd.DataFrame(income,columns=['Val'])['Val']"
      ],
      "execution_count": 267,
      "outputs": []
    },
    {
      "cell_type": "code",
      "metadata": {
        "id": "rOgaY6y9q4xy",
        "colab_type": "code",
        "colab": {}
      },
      "source": [
        "data['Income']=income"
      ],
      "execution_count": 268,
      "outputs": []
    },
    {
      "cell_type": "code",
      "metadata": {
        "id": "jDeNj1q9r3so",
        "colab_type": "code",
        "colab": {}
      },
      "source": [
        "data['CCAvg']=pd.Series(pt.fit_transform(data['CCAvg'].values.reshape(-1,1)).flatten())"
      ],
      "execution_count": 269,
      "outputs": []
    },
    {
      "cell_type": "code",
      "metadata": {
        "id": "qiwkSc3CuISU",
        "colab_type": "code",
        "colab": {
          "base_uri": "https://localhost:8080/",
          "height": 297
        },
        "outputId": "c40ab0dd-3f67-4566-d7a5-9f17d1a64521"
      },
      "source": [
        "sns.distplot(data['CCAvg'])"
      ],
      "execution_count": 270,
      "outputs": [
        {
          "output_type": "execute_result",
          "data": {
            "text/plain": [
              "<matplotlib.axes._subplots.AxesSubplot at 0x7f7a98860e48>"
            ]
          },
          "metadata": {
            "tags": []
          },
          "execution_count": 270
        },
        {
          "output_type": "display_data",
          "data": {
            "image/png": "[encoded data removed]",
            "text/plain": [
              "<Figure size 432x288 with 1 Axes>"
            ]
          },
          "metadata": {
            "tags": [],
            "needs_background": "light"
          }
        }
      ]
    },
    {
      "cell_type": "markdown",
      "metadata": {
        "id": "ZoSzx4hNuro3",
        "colab_type": "text"
      },
      "source": [
        "The graph is less skewed and approximately normally distributed"
      ]
    },
    {
      "cell_type": "code",
      "metadata": {
        "id": "zY-tqaJkvWP9",
        "colab_type": "code",
        "colab": {}
      },
      "source": [
        "#Transforming Mortgage using Label Encoding\n",
        "data['Mortgage_New']=pd.cut(data['Mortgage'],bins=[0,100,200,300,400,500,600,700],labels=[0,1,2,3,4,5,6],include_lowest=True)\n",
        "data.drop(['Mortgage'], axis=1, inplace=True)"
      ],
      "execution_count": 271,
      "outputs": []
    },
    {
      "cell_type": "code",
      "metadata": {
        "id": "D_UWbPmPv834",
        "colab_type": "code",
        "colab": {
          "base_uri": "https://localhost:8080/",
          "height": 298
        },
        "outputId": "f535f861-d6b3-4ac2-fd4f-53efaa045205"
      },
      "source": [
        "sns.distplot(data['Mortgage_New'])"
      ],
      "execution_count": 272,
      "outputs": [
        {
          "output_type": "execute_result",
          "data": {
            "text/plain": [
              "<matplotlib.axes._subplots.AxesSubplot at 0x7f7a9823dcc0>"
            ]
          },
          "metadata": {
            "tags": []
          },
          "execution_count": 272
        },
        {
          "output_type": "display_data",
          "data": {
            "image/png": "[encoded data removed]",
            "text/plain": [
              "<Figure size 432x288 with 1 Axes>"
            ]
          },
          "metadata": {
            "tags": [],
            "needs_background": "light"
          }
        }
      ]
    },
    {
      "cell_type": "markdown",
      "metadata": {
        "id": "MA-lOwBHwYCk",
        "colab_type": "text"
      },
      "source": [
        "<h2>Separating Target and Feature Variables"
      ]
    },
    {
      "cell_type": "code",
      "metadata": {
        "id": "bCbUwCBpwyWo",
        "colab_type": "code",
        "colab": {
          "base_uri": "https://localhost:8080/",
          "height": 424
        },
        "outputId": "7da85ba1-c840-4feb-d70e-331ae456be6c"
      },
      "source": [
        "X = data.drop(columns='Personal Loan')\n",
        "Y= data[['Personal Loan']]\n",
        "X"
      ],
      "execution_count": 273,
      "outputs": [
        {
          "output_type": "execute_result",
          "data": {
            "text/html": [
              "<div>\n",
              "<style scoped>\n",
              "    .dataframe tbody tr th:only-of-type {\n",
              "        vertical-align: middle;\n",
              "    }\n",
              "\n",
              "    .dataframe tbody tr th {\n",
              "        vertical-align: top;\n",
              "    }\n",
              "\n",
              "    .dataframe thead th {\n",
              "        text-align: right;\n",
              "    }\n",
              "</style>\n",
              "<table border=\"1\" class=\"dataframe\">\n",
              "  <thead>\n",
              "    <tr style=\"text-align: right;\">\n",
              "      <th></th>\n",
              "      <th>Age</th>\n",
              "      <th>Income</th>\n",
              "      <th>Family</th>\n",
              "      <th>CCAvg</th>\n",
              "      <th>Education</th>\n",
              "      <th>Securities Account</th>\n",
              "      <th>CD Account</th>\n",
              "      <th>Online</th>\n",
              "      <th>CreditCard</th>\n",
              "      <th>Mortgage_New</th>\n",
              "    </tr>\n",
              "  </thead>\n",
              "  <tbody>\n",
              "    <tr>\n",
              "      <th>0</th>\n",
              "      <td>25</td>\n",
              "      <td>6.827583</td>\n",
              "      <td>4</td>\n",
              "      <td>0.845150</td>\n",
              "      <td>1</td>\n",
              "      <td>1</td>\n",
              "      <td>0</td>\n",
              "      <td>0</td>\n",
              "      <td>0</td>\n",
              "      <td>0</td>\n",
              "    </tr>\n",
              "    <tr>\n",
              "      <th>1</th>\n",
              "      <td>45</td>\n",
              "      <td>5.876952</td>\n",
              "      <td>3</td>\n",
              "      <td>0.814468</td>\n",
              "      <td>1</td>\n",
              "      <td>1</td>\n",
              "      <td>0</td>\n",
              "      <td>0</td>\n",
              "      <td>0</td>\n",
              "      <td>0</td>\n",
              "    </tr>\n",
              "    <tr>\n",
              "      <th>2</th>\n",
              "      <td>39</td>\n",
              "      <td>3.504287</td>\n",
              "      <td>1</td>\n",
              "      <td>0.633771</td>\n",
              "      <td>1</td>\n",
              "      <td>0</td>\n",
              "      <td>0</td>\n",
              "      <td>0</td>\n",
              "      <td>0</td>\n",
              "      <td>0</td>\n",
              "    </tr>\n",
              "    <tr>\n",
              "      <th>3</th>\n",
              "      <td>35</td>\n",
              "      <td>8.983393</td>\n",
              "      <td>1</td>\n",
              "      <td>1.107409</td>\n",
              "      <td>2</td>\n",
              "      <td>0</td>\n",
              "      <td>0</td>\n",
              "      <td>0</td>\n",
              "      <td>0</td>\n",
              "      <td>0</td>\n",
              "    </tr>\n",
              "    <tr>\n",
              "      <th>4</th>\n",
              "      <td>35</td>\n",
              "      <td>6.597314</td>\n",
              "      <td>4</td>\n",
              "      <td>0.633771</td>\n",
              "      <td>2</td>\n",
              "      <td>0</td>\n",
              "      <td>0</td>\n",
              "      <td>0</td>\n",
              "      <td>1</td>\n",
              "      <td>0</td>\n",
              "    </tr>\n",
              "    <tr>\n",
              "      <th>...</th>\n",
              "      <td>...</td>\n",
              "      <td>...</td>\n",
              "      <td>...</td>\n",
              "      <td>...</td>\n",
              "      <td>...</td>\n",
              "      <td>...</td>\n",
              "      <td>...</td>\n",
              "      <td>...</td>\n",
              "      <td>...</td>\n",
              "      <td>...</td>\n",
              "    </tr>\n",
              "    <tr>\n",
              "      <th>4995</th>\n",
              "      <td>29</td>\n",
              "      <td>6.287699</td>\n",
              "      <td>1</td>\n",
              "      <td>0.928929</td>\n",
              "      <td>3</td>\n",
              "      <td>0</td>\n",
              "      <td>0</td>\n",
              "      <td>1</td>\n",
              "      <td>0</td>\n",
              "      <td>0</td>\n",
              "    </tr>\n",
              "    <tr>\n",
              "      <th>4996</th>\n",
              "      <td>30</td>\n",
              "      <td>4.077942</td>\n",
              "      <td>4</td>\n",
              "      <td>0.322048</td>\n",
              "      <td>1</td>\n",
              "      <td>0</td>\n",
              "      <td>0</td>\n",
              "      <td>1</td>\n",
              "      <td>0</td>\n",
              "      <td>0</td>\n",
              "    </tr>\n",
              "    <tr>\n",
              "      <th>4997</th>\n",
              "      <td>63</td>\n",
              "      <td>5.058173</td>\n",
              "      <td>2</td>\n",
              "      <td>0.253538</td>\n",
              "      <td>3</td>\n",
              "      <td>0</td>\n",
              "      <td>0</td>\n",
              "      <td>0</td>\n",
              "      <td>0</td>\n",
              "      <td>0</td>\n",
              "    </tr>\n",
              "    <tr>\n",
              "      <th>4998</th>\n",
              "      <td>65</td>\n",
              "      <td>6.827583</td>\n",
              "      <td>3</td>\n",
              "      <td>0.384643</td>\n",
              "      <td>2</td>\n",
              "      <td>0</td>\n",
              "      <td>0</td>\n",
              "      <td>1</td>\n",
              "      <td>0</td>\n",
              "      <td>0</td>\n",
              "    </tr>\n",
              "    <tr>\n",
              "      <th>4999</th>\n",
              "      <td>28</td>\n",
              "      <td>8.379274</td>\n",
              "      <td>3</td>\n",
              "      <td>0.544705</td>\n",
              "      <td>1</td>\n",
              "      <td>0</td>\n",
              "      <td>0</td>\n",
              "      <td>1</td>\n",
              "      <td>1</td>\n",
              "      <td>0</td>\n",
              "    </tr>\n",
              "  </tbody>\n",
              "</table>\n",
              "<p>5000 rows × 10 columns</p>\n",
              "</div>"
            ],
            "text/plain": [
              "      Age    Income  Family  ...  Online  CreditCard  Mortgage_New\n",
              "0      25  6.827583       4  ...       0           0             0\n",
              "1      45  5.876952       3  ...       0           0             0\n",
              "2      39  3.504287       1  ...       0           0             0\n",
              "3      35  8.983393       1  ...       0           0             0\n",
              "4      35  6.597314       4  ...       0           1             0\n",
              "...   ...       ...     ...  ...     ...         ...           ...\n",
              "4995   29  6.287699       1  ...       1           0             0\n",
              "4996   30  4.077942       4  ...       1           0             0\n",
              "4997   63  5.058173       2  ...       0           0             0\n",
              "4998   65  6.827583       3  ...       1           0             0\n",
              "4999   28  8.379274       3  ...       1           1             0\n",
              "\n",
              "[5000 rows x 10 columns]"
            ]
          },
          "metadata": {
            "tags": []
          },
          "execution_count": 273
        }
      ]
    },
    {
      "cell_type": "code",
      "metadata": {
        "id": "tx9JNjdb1TbT",
        "colab_type": "code",
        "colab": {
          "base_uri": "https://localhost:8080/",
          "height": 424
        },
        "outputId": "57cd9213-279c-4c96-8b38-5eff70bb6f43"
      },
      "source": [
        "Y"
      ],
      "execution_count": 274,
      "outputs": [
        {
          "output_type": "execute_result",
          "data": {
            "text/html": [
              "<div>\n",
              "<style scoped>\n",
              "    .dataframe tbody tr th:only-of-type {\n",
              "        vertical-align: middle;\n",
              "    }\n",
              "\n",
              "    .dataframe tbody tr th {\n",
              "        vertical-align: top;\n",
              "    }\n",
              "\n",
              "    .dataframe thead th {\n",
              "        text-align: right;\n",
              "    }\n",
              "</style>\n",
              "<table border=\"1\" class=\"dataframe\">\n",
              "  <thead>\n",
              "    <tr style=\"text-align: right;\">\n",
              "      <th></th>\n",
              "      <th>Personal Loan</th>\n",
              "    </tr>\n",
              "  </thead>\n",
              "  <tbody>\n",
              "    <tr>\n",
              "      <th>0</th>\n",
              "      <td>0</td>\n",
              "    </tr>\n",
              "    <tr>\n",
              "      <th>1</th>\n",
              "      <td>0</td>\n",
              "    </tr>\n",
              "    <tr>\n",
              "      <th>2</th>\n",
              "      <td>0</td>\n",
              "    </tr>\n",
              "    <tr>\n",
              "      <th>3</th>\n",
              "      <td>0</td>\n",
              "    </tr>\n",
              "    <tr>\n",
              "      <th>4</th>\n",
              "      <td>0</td>\n",
              "    </tr>\n",
              "    <tr>\n",
              "      <th>...</th>\n",
              "      <td>...</td>\n",
              "    </tr>\n",
              "    <tr>\n",
              "      <th>4995</th>\n",
              "      <td>0</td>\n",
              "    </tr>\n",
              "    <tr>\n",
              "      <th>4996</th>\n",
              "      <td>0</td>\n",
              "    </tr>\n",
              "    <tr>\n",
              "      <th>4997</th>\n",
              "      <td>0</td>\n",
              "    </tr>\n",
              "    <tr>\n",
              "      <th>4998</th>\n",
              "      <td>0</td>\n",
              "    </tr>\n",
              "    <tr>\n",
              "      <th>4999</th>\n",
              "      <td>0</td>\n",
              "    </tr>\n",
              "  </tbody>\n",
              "</table>\n",
              "<p>5000 rows × 1 columns</p>\n",
              "</div>"
            ],
            "text/plain": [
              "      Personal Loan\n",
              "0                 0\n",
              "1                 0\n",
              "2                 0\n",
              "3                 0\n",
              "4                 0\n",
              "...             ...\n",
              "4995              0\n",
              "4996              0\n",
              "4997              0\n",
              "4998              0\n",
              "4999              0\n",
              "\n",
              "[5000 rows x 1 columns]"
            ]
          },
          "metadata": {
            "tags": []
          },
          "execution_count": 274
        }
      ]
    },
    {
      "cell_type": "markdown",
      "metadata": {
        "id": "nd_wXurBxDJw",
        "colab_type": "text"
      },
      "source": [
        "<h2><Strong>Splitting the dataset using stratified sampling"
      ]
    },
    {
      "cell_type": "markdown",
      "metadata": {
        "id": "CXEPXndLzKAs",
        "colab_type": "text"
      },
      "source": [
        "We are using stratified sampling because the dataset is biased. There are only about 10% of the people in the whole dataset who have Personal Loan. Hence , to ensure same proportion of these people in both the training and test sets we are using stratified sampling"
      ]
    },
    {
      "cell_type": "code",
      "metadata": {
        "id": "PxAeiOyI0VLk",
        "colab_type": "code",
        "colab": {}
      },
      "source": [
        "from sklearn.model_selection import train_test_split\n",
        "train_X,test_X,train_Y,test_Y=train_test_split(X,Y,test_size=0.3,stratify=Y,random_state=0,)"
      ],
      "execution_count": 275,
      "outputs": []
    },
    {
      "cell_type": "markdown",
      "metadata": {
        "id": "4mibgFtk84tI",
        "colab_type": "text"
      },
      "source": [
        "<h2>Standardizing the training as well as test data separately"
      ]
    },
    {
      "cell_type": "markdown",
      "metadata": {
        "id": "xF9RHfyx33yE",
        "colab_type": "text"
      },
      "source": [
        "We are standardizing the test and training data separately because we want the test data to remain isolated from the machine learning model. If we would have standardized data before splitting some of the information of test data would get reflected on the training data , which is not desirable "
      ]
    },
    {
      "cell_type": "code",
      "metadata": {
        "id": "rWSEMnZk-Zwd",
        "colab_type": "code",
        "colab": {
          "base_uri": "https://localhost:8080/",
          "height": 424
        },
        "outputId": "22feb214-1306-42c1-dffd-840aa5f7ad48"
      },
      "source": [
        "train_X"
      ],
      "execution_count": 276,
      "outputs": [
        {
          "output_type": "execute_result",
          "data": {
            "text/html": [
              "<div>\n",
              "<style scoped>\n",
              "    .dataframe tbody tr th:only-of-type {\n",
              "        vertical-align: middle;\n",
              "    }\n",
              "\n",
              "    .dataframe tbody tr th {\n",
              "        vertical-align: top;\n",
              "    }\n",
              "\n",
              "    .dataframe thead th {\n",
              "        text-align: right;\n",
              "    }\n",
              "</style>\n",
              "<table border=\"1\" class=\"dataframe\">\n",
              "  <thead>\n",
              "    <tr style=\"text-align: right;\">\n",
              "      <th></th>\n",
              "      <th>Age</th>\n",
              "      <th>Income</th>\n",
              "      <th>Family</th>\n",
              "      <th>CCAvg</th>\n",
              "      <th>Education</th>\n",
              "      <th>Securities Account</th>\n",
              "      <th>CD Account</th>\n",
              "      <th>Online</th>\n",
              "      <th>CreditCard</th>\n",
              "      <th>Mortgage_New</th>\n",
              "    </tr>\n",
              "  </thead>\n",
              "  <tbody>\n",
              "    <tr>\n",
              "      <th>3789</th>\n",
              "      <td>51</td>\n",
              "      <td>5.058173</td>\n",
              "      <td>3</td>\n",
              "      <td>0.322048</td>\n",
              "      <td>1</td>\n",
              "      <td>0</td>\n",
              "      <td>0</td>\n",
              "      <td>1</td>\n",
              "      <td>1</td>\n",
              "      <td>0</td>\n",
              "    </tr>\n",
              "    <tr>\n",
              "      <th>758</th>\n",
              "      <td>64</td>\n",
              "      <td>5.948841</td>\n",
              "      <td>1</td>\n",
              "      <td>0.814468</td>\n",
              "      <td>2</td>\n",
              "      <td>1</td>\n",
              "      <td>0</td>\n",
              "      <td>0</td>\n",
              "      <td>0</td>\n",
              "      <td>0</td>\n",
              "    </tr>\n",
              "    <tr>\n",
              "      <th>2868</th>\n",
              "      <td>52</td>\n",
              "      <td>5.651776</td>\n",
              "      <td>4</td>\n",
              "      <td>0.902268</td>\n",
              "      <td>1</td>\n",
              "      <td>0</td>\n",
              "      <td>0</td>\n",
              "      <td>1</td>\n",
              "      <td>1</td>\n",
              "      <td>0</td>\n",
              "    </tr>\n",
              "    <tr>\n",
              "      <th>2550</th>\n",
              "      <td>32</td>\n",
              "      <td>4.661500</td>\n",
              "      <td>1</td>\n",
              "      <td>0.384643</td>\n",
              "      <td>3</td>\n",
              "      <td>0</td>\n",
              "      <td>0</td>\n",
              "      <td>1</td>\n",
              "      <td>0</td>\n",
              "      <td>1</td>\n",
              "    </tr>\n",
              "    <tr>\n",
              "      <th>2150</th>\n",
              "      <td>62</td>\n",
              "      <td>7.097040</td>\n",
              "      <td>1</td>\n",
              "      <td>0.544705</td>\n",
              "      <td>1</td>\n",
              "      <td>1</td>\n",
              "      <td>0</td>\n",
              "      <td>0</td>\n",
              "      <td>1</td>\n",
              "      <td>0</td>\n",
              "    </tr>\n",
              "    <tr>\n",
              "      <th>...</th>\n",
              "      <td>...</td>\n",
              "      <td>...</td>\n",
              "      <td>...</td>\n",
              "      <td>...</td>\n",
              "      <td>...</td>\n",
              "      <td>...</td>\n",
              "      <td>...</td>\n",
              "      <td>...</td>\n",
              "      <td>...</td>\n",
              "      <td>...</td>\n",
              "    </tr>\n",
              "    <tr>\n",
              "      <th>3597</th>\n",
              "      <td>56</td>\n",
              "      <td>6.937650</td>\n",
              "      <td>3</td>\n",
              "      <td>0.954454</td>\n",
              "      <td>3</td>\n",
              "      <td>0</td>\n",
              "      <td>0</td>\n",
              "      <td>1</td>\n",
              "      <td>0</td>\n",
              "      <td>0</td>\n",
              "    </tr>\n",
              "    <tr>\n",
              "      <th>4670</th>\n",
              "      <td>52</td>\n",
              "      <td>11.394571</td>\n",
              "      <td>1</td>\n",
              "      <td>0.874376</td>\n",
              "      <td>1</td>\n",
              "      <td>0</td>\n",
              "      <td>0</td>\n",
              "      <td>1</td>\n",
              "      <td>0</td>\n",
              "      <td>0</td>\n",
              "    </tr>\n",
              "    <tr>\n",
              "      <th>988</th>\n",
              "      <td>63</td>\n",
              "      <td>5.728502</td>\n",
              "      <td>1</td>\n",
              "      <td>0.928929</td>\n",
              "      <td>2</td>\n",
              "      <td>0</td>\n",
              "      <td>0</td>\n",
              "      <td>0</td>\n",
              "      <td>0</td>\n",
              "      <td>0</td>\n",
              "    </tr>\n",
              "    <tr>\n",
              "      <th>2037</th>\n",
              "      <td>35</td>\n",
              "      <td>6.991517</td>\n",
              "      <td>2</td>\n",
              "      <td>0.633771</td>\n",
              "      <td>2</td>\n",
              "      <td>0</td>\n",
              "      <td>0</td>\n",
              "      <td>0</td>\n",
              "      <td>1</td>\n",
              "      <td>0</td>\n",
              "    </tr>\n",
              "    <tr>\n",
              "      <th>2174</th>\n",
              "      <td>30</td>\n",
              "      <td>9.691160</td>\n",
              "      <td>2</td>\n",
              "      <td>1.179264</td>\n",
              "      <td>1</td>\n",
              "      <td>0</td>\n",
              "      <td>0</td>\n",
              "      <td>1</td>\n",
              "      <td>0</td>\n",
              "      <td>0</td>\n",
              "    </tr>\n",
              "  </tbody>\n",
              "</table>\n",
              "<p>3500 rows × 10 columns</p>\n",
              "</div>"
            ],
            "text/plain": [
              "      Age     Income  Family  ...  Online  CreditCard  Mortgage_New\n",
              "3789   51   5.058173       3  ...       1           1             0\n",
              "758    64   5.948841       1  ...       0           0             0\n",
              "2868   52   5.651776       4  ...       1           1             0\n",
              "2550   32   4.661500       1  ...       1           0             1\n",
              "2150   62   7.097040       1  ...       0           1             0\n",
              "...   ...        ...     ...  ...     ...         ...           ...\n",
              "3597   56   6.937650       3  ...       1           0             0\n",
              "4670   52  11.394571       1  ...       1           0             0\n",
              "988    63   5.728502       1  ...       0           0             0\n",
              "2037   35   6.991517       2  ...       0           1             0\n",
              "2174   30   9.691160       2  ...       1           0             0\n",
              "\n",
              "[3500 rows x 10 columns]"
            ]
          },
          "metadata": {
            "tags": []
          },
          "execution_count": 276
        }
      ]
    },
    {
      "cell_type": "code",
      "metadata": {
        "id": "dak3SeUm75dj",
        "colab_type": "code",
        "colab": {}
      },
      "source": [
        "from sklearn.preprocessing import StandardScaler\n",
        "from sklearn_pandas import DataFrameMapper\n",
        "\n",
        "mapper = DataFrameMapper([(train_X.columns, StandardScaler())])\n",
        "scaled_features = mapper.fit_transform(train_X.copy())\n",
        "train_X = pd.DataFrame(scaled_features, index=train_X.index, columns=train_X.columns)"
      ],
      "execution_count": 277,
      "outputs": []
    },
    {
      "cell_type": "code",
      "metadata": {
        "id": "lnsqWBdvg397",
        "colab_type": "code",
        "colab": {}
      },
      "source": [
        "mapper = DataFrameMapper([(test_X.columns, StandardScaler())])\n",
        "scaled_features = mapper.fit_transform(test_X.copy())\n",
        "test_X = pd.DataFrame(scaled_features, index=test_X.index, columns=test_X.columns)"
      ],
      "execution_count": 278,
      "outputs": []
    },
    {
      "cell_type": "code",
      "metadata": {
        "id": "WBE8SMbRnVDj",
        "colab_type": "code",
        "colab": {}
      },
      "source": [
        "np_train_X=train_X.values   #converting data to numpy array\n",
        "np_train_Y=train_Y.values\n",
        "np_test_X=test_X.values\n",
        "np_test_Y=test_Y.values"
      ],
      "execution_count": 279,
      "outputs": []
    },
    {
      "cell_type": "markdown",
      "metadata": {
        "id": "GmFgY-Km40qk",
        "colab_type": "text"
      },
      "source": [
        "<h2><strong><em>Model Building</em></strong></h2>\n",
        "\n",
        "\n",
        "---\n",
        "\n",
        "\n",
        "\n"
      ]
    },
    {
      "cell_type": "markdown",
      "metadata": {
        "id": "EAUWxpKD09pX",
        "colab_type": "text"
      },
      "source": [
        "<h2><strong>Logistic Regression Model</strong></h2>"
      ]
    },
    {
      "cell_type": "code",
      "metadata": {
        "id": "_Ug_jjV-2F42",
        "colab_type": "code",
        "colab": {
          "base_uri": "https://localhost:8080/",
          "height": 164
        },
        "outputId": "206e03aa-9736-450c-c809-9699071e960c"
      },
      "source": [
        "from sklearn.linear_model import LogisticRegression\n",
        "lreg = LogisticRegression()\n",
        "lreg.fit(np_train_X,np_train_Y) #fitting the training data to build the model"
      ],
      "execution_count": 280,
      "outputs": [
        {
          "output_type": "stream",
          "text": [
            "/usr/local/lib/python3.6/dist-packages/sklearn/utils/validation.py:760: DataConversionWarning: A column-vector y was passed when a 1d array was expected. Please change the shape of y to (n_samples, ), for example using ravel().\n",
            "  y = column_or_1d(y, warn=True)\n"
          ],
          "name": "stderr"
        },
        {
          "output_type": "execute_result",
          "data": {
            "text/plain": [
              "LogisticRegression(C=1.0, class_weight=None, dual=False, fit_intercept=True,\n",
              "                   intercept_scaling=1, l1_ratio=None, max_iter=100,\n",
              "                   multi_class='auto', n_jobs=None, penalty='l2',\n",
              "                   random_state=None, solver='lbfgs', tol=0.0001, verbose=0,\n",
              "                   warm_start=False)"
            ]
          },
          "metadata": {
            "tags": []
          },
          "execution_count": 280
        }
      ]
    },
    {
      "cell_type": "code",
      "metadata": {
        "id": "_F-OcMNl2T-D",
        "colab_type": "code",
        "colab": {}
      },
      "source": [
        "Y_pred_train= lreg.predict(np_train_X)  #predicting training data\n",
        "Y_pred_test=lreg.predict(np_test_X)     #predicting test data"
      ],
      "execution_count": 281,
      "outputs": []
    },
    {
      "cell_type": "code",
      "metadata": {
        "id": "PVj2FBzr4n37",
        "colab_type": "code",
        "colab": {
          "base_uri": "https://localhost:8080/",
          "height": 53
        },
        "outputId": "f9c80923-c5ba-4ca2-8001-81e891802994"
      },
      "source": [
        "from sklearn.metrics import confusion_matrix,accuracy_score,f1_score,precision_score,recall_score,roc_auc_score\n",
        "print(\"Training Accuracy :\",accuracy_score(np_train_Y,Y_pred_train))\n",
        "print(\"Test Accuracy :\",accuracy_score(np_test_Y,Y_pred_test))"
      ],
      "execution_count": 282,
      "outputs": [
        {
          "output_type": "stream",
          "text": [
            "Training Accuracy : 0.9568571428571429\n",
            "Test Accuracy : 0.9546666666666667\n"
          ],
          "name": "stdout"
        }
      ]
    },
    {
      "cell_type": "code",
      "metadata": {
        "id": "bdKvEC3k5S2K",
        "colab_type": "code",
        "colab": {
          "base_uri": "https://localhost:8080/",
          "height": 283
        },
        "outputId": "e92f3e26-c98f-47fa-fa26-216d0879b92b"
      },
      "source": [
        "cm = confusion_matrix(np_test_Y,Y_pred_test)  #confusion matrix\n",
        "sns.heatmap(cm,annot=True,fmt='.2f')\n",
        "print(\"Confusion Matrix\")\n",
        "plt.show()"
      ],
      "execution_count": 283,
      "outputs": [
        {
          "output_type": "stream",
          "text": [
            "Confusion Matrix\n"
          ],
          "name": "stdout"
        },
        {
          "output_type": "display_data",
          "data": {
            "image/png": "[encoded data removed]",
            "text/plain": [
              "<Figure size 432x288 with 2 Axes>"
            ]
          },
          "metadata": {
            "tags": [],
            "needs_background": "light"
          }
        }
      ]
    },
    {
      "cell_type": "code",
      "metadata": {
        "id": "W1bpmzhp5aW7",
        "colab_type": "code",
        "colab": {}
      },
      "source": [
        "def show_scores(model,pred,actual):  #method to print various classification metric scores\n",
        "  print(\"Results of \",model,\" model\")\n",
        "  print(\"Recall_Score :\",recall_score(actual,pred))   #different Evaluation Metrics\n",
        "  print(\"F1_Score : \",f1_score(actual,pred))\n",
        "  print(\"Precision_Score : \",precision_score(actual,pred))\n",
        "  print(\"ROC_AUC_Score : \",roc_auc_score(actual,pred))"
      ],
      "execution_count": 284,
      "outputs": []
    },
    {
      "cell_type": "code",
      "metadata": {
        "id": "nvUlX1cYr40W",
        "colab_type": "code",
        "colab": {
          "base_uri": "https://localhost:8080/",
          "height": 108
        },
        "outputId": "77afcade-e39e-44f2-98c2-426c6760fbf2"
      },
      "source": [
        "show_scores(\"Logistic Regression\",Y_pred_test,np_test_Y)"
      ],
      "execution_count": 285,
      "outputs": [
        {
          "output_type": "stream",
          "text": [
            "Results of  Logistic Regression  model\n",
            "Recall_Score : 0.6458333333333334\n",
            "F1_Score :  0.7322834645669292\n",
            "Precision_Score :  0.8454545454545455\n",
            "ROC_AUC_Score :  0.8166482300884956\n"
          ],
          "name": "stdout"
        }
      ]
    },
    {
      "cell_type": "markdown",
      "metadata": {
        "id": "EXGisbxcpfSW",
        "colab_type": "text"
      },
      "source": [
        "<h2><strong>Decision Tree Algorithm</strong><h2>"
      ]
    },
    {
      "cell_type": "markdown",
      "metadata": {
        "id": "JaqklZ6rxNrc",
        "colab_type": "text"
      },
      "source": [
        "I tried using max_depth=8 as well as max_depth=9. I got almost same accuracy results for both the training and test data</br> (test = 98%+ ,train =99%+) but for max_depth=8, the recall_score was greater by about 1% hence I have used max_depth=8 while building the model. Higher recall means less false negatives which is more favourable"
      ]
    },
    {
      "cell_type": "code",
      "metadata": {
        "id": "p0vRKmOiQ7I3",
        "colab_type": "code",
        "colab": {
          "base_uri": "https://localhost:8080/",
          "height": 53
        },
        "outputId": "96fe48e0-4a8a-46c8-d493-413e541e83b8"
      },
      "source": [
        "from sklearn.tree import DecisionTreeClassifier           #building the model\n",
        "dt = DecisionTreeClassifier(random_state=0,max_depth=8)\n",
        "dt.fit(np_train_X,np_train_Y)\n",
        "dt_pred_train = dt.predict(np_train_X)            #predicting on training values\n",
        "dt_pred_test  =dt.predict(np_test_X)              #predicting on test values\n",
        "print(\"Train Accuracy : \",accuracy_score(np_train_Y,dt_pred_train))\n",
        "print(\"Test Accuracy : \",accuracy_score(np_test_Y,dt_pred_test))"
      ],
      "execution_count": 286,
      "outputs": [
        {
          "output_type": "stream",
          "text": [
            "Train Accuracy :  0.9957142857142857\n",
            "Test Accuracy :  0.9826666666666667\n"
          ],
          "name": "stdout"
        }
      ]
    },
    {
      "cell_type": "code",
      "metadata": {
        "id": "iDShCyjLkhTo",
        "colab_type": "code",
        "colab": {
          "base_uri": "https://localhost:8080/",
          "height": 283
        },
        "outputId": "8f5eaccb-c6c2-49af-8b96-5df76245b852"
      },
      "source": [
        "cm = confusion_matrix(np_test_Y,dt_pred_test)  #confusion matrix\n",
        "sns.heatmap(cm,annot=True,fmt='.2f')\n",
        "print(\"Confusion Matrix\")\n",
        "plt.show()"
      ],
      "execution_count": 287,
      "outputs": [
        {
          "output_type": "stream",
          "text": [
            "Confusion Matrix\n"
          ],
          "name": "stdout"
        },
        {
          "output_type": "display_data",
          "data": {
            "image/png": "[encoded data removed]",
            "text/plain": [
              "<Figure size 432x288 with 2 Axes>"
            ]
          },
          "metadata": {
            "tags": [],
            "needs_background": "light"
          }
        }
      ]
    },
    {
      "cell_type": "code",
      "metadata": {
        "id": "aTyH135UqbAT",
        "colab_type": "code",
        "colab": {
          "base_uri": "https://localhost:8080/",
          "height": 108
        },
        "outputId": "46cc0622-6369-4c63-a880-2a739ac8292b"
      },
      "source": [
        "show_scores(\"Decision Tree\",dt_pred_test,np_test_Y)"
      ],
      "execution_count": 288,
      "outputs": [
        {
          "output_type": "stream",
          "text": [
            "Results of  Decision Tree  model\n",
            "Recall_Score : 0.9027777777777778\n",
            "F1_Score :  0.9090909090909091\n",
            "Precision_Score :  0.9154929577464789\n",
            "ROC_AUC_Score :  0.9469641101278269\n"
          ],
          "name": "stdout"
        }
      ]
    },
    {
      "cell_type": "markdown",
      "metadata": {
        "id": "vP0DfdupCG5l",
        "colab_type": "text"
      },
      "source": [
        "Displaying the Decision Tree"
      ]
    },
    {
      "cell_type": "code",
      "metadata": {
        "id": "jwhkE-JNw7jy",
        "colab_type": "code",
        "colab": {
          "base_uri": "https://localhost:8080/",
          "height": 726
        },
        "outputId": "fd6bc297-0d55-4780-d31f-71f43c3222b8"
      },
      "source": [
        "from sklearn import tree\n",
        "import pydotplus\n",
        "dot_data = tree.export_graphviz(dt, out_file=None,feature_names=train_X.columns,class_names=[\"won't purchase\",'will purchase'],filled=True, rounded=True,  special_characters=True)  \n",
        "pydot_graph = pydotplus.graph_from_dot_data(dot_data)\n",
        "pydot_graph.set_size('\"30,30!\"')\n",
        "import graphviz\n",
        "gvz_graph = graphviz.Source(pydot_graph.to_string())\n",
        "gvz_graph"
      ],
      "execution_count": 289,
      "outputs": [
        {
          "output_type": "execute_result",
          "data": {
            "text/plain": [
              "<graphviz.files.Source at 0x7f7adf570128>"
            ],
            "image/svg+xml": "<?xml version=\"1.0\" encoding=\"UTF-8\" standalone=\"no\"?>\n<!DOCTYPE svg PUBLIC \"-//W3C//DTD SVG 1.1//EN\"\n \"http://www.w3.org/Graphics/SVG/1.1/DTD/svg11.dtd\">\n<!-- Generated by graphviz version 2.40.1 (20161225.0304)\n -->\n<!-- Title: Tree Pages: 1 -->\n<svg width=\"2160pt\" height=\"514pt\"\n viewBox=\"0.00 0.00 2160.00 513.76\" xmlns=\"http://www.w3.org/2000/svg\" xmlns:xlink=\"http://www.w3.org/1999/xlink\">\n<g id=\"graph0\" class=\"graph\" transform=\"scale(.4998 .4998) rotate(0) translate(4 1024)\">\n<title>Tree</title>\n<polygon fill=\"#ffffff\" stroke=\"transparent\" points=\"-4,4 -4,-1024 4318,-1024 4318,4 -4,4\"/>\n<!-- 0 -->\n<g id=\"node1\" class=\"node\">\n<title>0</title>\n<path fill=\"#e88e4e\" stroke=\"#000000\" d=\"M3623,-1020C3623,-1020 3483,-1020 3483,-1020 3477,-1020 3471,-1014 3471,-1008 3471,-1008 3471,-949 3471,-949 3471,-943 3477,-937 3483,-937 3483,-937 3623,-937 3623,-937 3629,-937 3635,-943 3635,-949 3635,-949 3635,-1008 3635,-1008 3635,-1014 3629,-1020 3623,-1020\"/>\n<text text-anchor=\"start\" x=\"3503\" y=\"-1004.8\" font-family=\"Helvetica,sans-Serif\" font-size=\"14.00\" fill=\"#000000\">Income ≤ 0.962</text>\n<text text-anchor=\"start\" x=\"3515\" y=\"-989.8\" font-family=\"Helvetica,sans-Serif\" font-size=\"14.00\" fill=\"#000000\">gini = 0.174</text>\n<text text-anchor=\"start\" x=\"3501\" y=\"-974.8\" font-family=\"Helvetica,sans-Serif\" font-size=\"14.00\" fill=\"#000000\">samples = 3500</text>\n<text text-anchor=\"start\" x=\"3491\" y=\"-959.8\" font-family=\"Helvetica,sans-Serif\" font-size=\"14.00\" fill=\"#000000\">value = [3164, 336]</text>\n<text text-anchor=\"start\" x=\"3479\" y=\"-944.8\" font-family=\"Helvetica,sans-Serif\" font-size=\"14.00\" fill=\"#000000\">class = won&#39;t purchase</text>\n</g>\n<!-- 1 -->\n<g id=\"node2\" class=\"node\">\n<title>1</title>\n<path fill=\"#e6843e\" stroke=\"#000000\" d=\"M3364,-901C3364,-901 3224,-901 3224,-901 3218,-901 3212,-895 3212,-889 3212,-889 3212,-830 3212,-830 3212,-824 3218,-818 3224,-818 3224,-818 3364,-818 3364,-818 3370,-818 3376,-824 3376,-830 3376,-830 3376,-889 3376,-889 3376,-895 3370,-901 3364,-901\"/>\n<text text-anchor=\"start\" x=\"3244.5\" y=\"-885.8\" font-family=\"Helvetica,sans-Serif\" font-size=\"14.00\" fill=\"#000000\">CCAvg ≤ 0.862</text>\n<text text-anchor=\"start\" x=\"3256\" y=\"-870.8\" font-family=\"Helvetica,sans-Serif\" font-size=\"14.00\" fill=\"#000000\">gini = 0.044</text>\n<text text-anchor=\"start\" x=\"3242\" y=\"-855.8\" font-family=\"Helvetica,sans-Serif\" font-size=\"14.00\" fill=\"#000000\">samples = 2851</text>\n<text text-anchor=\"start\" x=\"3236\" y=\"-840.8\" font-family=\"Helvetica,sans-Serif\" font-size=\"14.00\" fill=\"#000000\">value = [2787, 64]</text>\n<text text-anchor=\"start\" x=\"3220\" y=\"-825.8\" font-family=\"Helvetica,sans-Serif\" font-size=\"14.00\" fill=\"#000000\">class = won&#39;t purchase</text>\n</g>\n<!-- 0&#45;&gt;1 -->\n<g id=\"edge1\" class=\"edge\">\n<title>0&#45;&gt;1</title>\n<path fill=\"none\" stroke=\"#000000\" d=\"M3470.6949,-940.6841C3443.5468,-928.2107 3413.1928,-914.2643 3385.4071,-901.4979\"/>\n<polygon fill=\"#000000\" stroke=\"#000000\" points=\"3386.639,-898.2122 3376.091,-897.2175 3383.7165,-904.5729 3386.639,-898.2122\"/>\n<text text-anchor=\"middle\" x=\"3384.7738\" y=\"-916.9612\" font-family=\"Helvetica,sans-Serif\" font-size=\"14.00\" fill=\"#000000\">True</text>\n</g>\n<!-- 78 -->\n<g id=\"node79\" class=\"node\">\n<title>78</title>\n<path fill=\"#f8dcc8\" stroke=\"#000000\" d=\"M3778,-901C3778,-901 3638,-901 3638,-901 3632,-901 3626,-895 3626,-889 3626,-889 3626,-830 3626,-830 3626,-824 3632,-818 3638,-818 3638,-818 3778,-818 3778,-818 3784,-818 3790,-824 3790,-830 3790,-830 3790,-889 3790,-889 3790,-895 3784,-901 3778,-901\"/>\n<text text-anchor=\"start\" x=\"3647\" y=\"-885.8\" font-family=\"Helvetica,sans-Serif\" font-size=\"14.00\" fill=\"#000000\">Education ≤ &#45;0.441</text>\n<text text-anchor=\"start\" x=\"3670\" y=\"-870.8\" font-family=\"Helvetica,sans-Serif\" font-size=\"14.00\" fill=\"#000000\">gini = 0.487</text>\n<text text-anchor=\"start\" x=\"3660\" y=\"-855.8\" font-family=\"Helvetica,sans-Serif\" font-size=\"14.00\" fill=\"#000000\">samples = 649</text>\n<text text-anchor=\"start\" x=\"3650\" y=\"-840.8\" font-family=\"Helvetica,sans-Serif\" font-size=\"14.00\" fill=\"#000000\">value = [377, 272]</text>\n<text text-anchor=\"start\" x=\"3634\" y=\"-825.8\" font-family=\"Helvetica,sans-Serif\" font-size=\"14.00\" fill=\"#000000\">class = won&#39;t purchase</text>\n</g>\n<!-- 0&#45;&gt;78 -->\n<g id=\"edge78\" class=\"edge\">\n<title>0&#45;&gt;78</title>\n<path fill=\"none\" stroke=\"#000000\" d=\"M3607.2115,-936.8796C3619.6006,-927.368 3632.8649,-917.1843 3645.5676,-907.432\"/>\n<polygon fill=\"#000000\" stroke=\"#000000\" points=\"3648.0186,-909.9628 3653.8191,-901.0969 3643.7558,-904.4105 3648.0186,-909.9628\"/>\n<text text-anchor=\"middle\" x=\"3650.5624\" y=\"-922.1839\" font-family=\"Helvetica,sans-Serif\" font-size=\"14.00\" fill=\"#000000\">False</text>\n</g>\n<!-- 2 -->\n<g id=\"node3\" class=\"node\">\n<title>2</title>\n<path fill=\"#e5813a\" stroke=\"#000000\" d=\"M1304,-782C1304,-782 1164,-782 1164,-782 1158,-782 1152,-776 1152,-770 1152,-770 1152,-711 1152,-711 1152,-705 1158,-699 1164,-699 1164,-699 1304,-699 1304,-699 1310,-699 1316,-705 1316,-711 1316,-711 1316,-770 1316,-770 1316,-776 1310,-782 1304,-782\"/>\n<text text-anchor=\"start\" x=\"1184\" y=\"-766.8\" font-family=\"Helvetica,sans-Serif\" font-size=\"14.00\" fill=\"#000000\">Income ≤ 0.869</text>\n<text text-anchor=\"start\" x=\"1196\" y=\"-751.8\" font-family=\"Helvetica,sans-Serif\" font-size=\"14.00\" fill=\"#000000\">gini = 0.007</text>\n<text text-anchor=\"start\" x=\"1182\" y=\"-736.8\" font-family=\"Helvetica,sans-Serif\" font-size=\"14.00\" fill=\"#000000\">samples = 2620</text>\n<text text-anchor=\"start\" x=\"1180\" y=\"-721.8\" font-family=\"Helvetica,sans-Serif\" font-size=\"14.00\" fill=\"#000000\">value = [2611, 9]</text>\n<text text-anchor=\"start\" x=\"1160\" y=\"-706.8\" font-family=\"Helvetica,sans-Serif\" font-size=\"14.00\" fill=\"#000000\">class = won&#39;t purchase</text>\n</g>\n<!-- 1&#45;&gt;2 -->\n<g id=\"edge2\" class=\"edge\">\n<title>1&#45;&gt;2</title>\n<path fill=\"none\" stroke=\"#000000\" d=\"M3211.9743,-854.7616C2884.5317,-835.8462 1672.0489,-765.8048 1326.4746,-745.842\"/>\n<polygon fill=\"#000000\" stroke=\"#000000\" points=\"1326.4453,-742.3345 1316.26,-745.2519 1326.0415,-749.3229 1326.4453,-742.3345\"/>\n</g>\n<!-- 29 -->\n<g id=\"node30\" class=\"node\">\n<title>29</title>\n<path fill=\"#eda877\" stroke=\"#000000\" d=\"M3364,-782C3364,-782 3224,-782 3224,-782 3218,-782 3212,-776 3212,-770 3212,-770 3212,-711 3212,-711 3212,-705 3218,-699 3224,-699 3224,-699 3364,-699 3364,-699 3370,-699 3376,-705 3376,-711 3376,-711 3376,-770 3376,-770 3376,-776 3370,-782 3364,-782\"/>\n<text text-anchor=\"start\" x=\"3229\" y=\"-766.8\" font-family=\"Helvetica,sans-Serif\" font-size=\"14.00\" fill=\"#000000\">CD Account ≤ 1.885</text>\n<text text-anchor=\"start\" x=\"3256\" y=\"-751.8\" font-family=\"Helvetica,sans-Serif\" font-size=\"14.00\" fill=\"#000000\">gini = 0.363</text>\n<text text-anchor=\"start\" x=\"3246\" y=\"-736.8\" font-family=\"Helvetica,sans-Serif\" font-size=\"14.00\" fill=\"#000000\">samples = 231</text>\n<text text-anchor=\"start\" x=\"3240\" y=\"-721.8\" font-family=\"Helvetica,sans-Serif\" font-size=\"14.00\" fill=\"#000000\">value = [176, 55]</text>\n<text text-anchor=\"start\" x=\"3220\" y=\"-706.8\" font-family=\"Helvetica,sans-Serif\" font-size=\"14.00\" fill=\"#000000\">class = won&#39;t purchase</text>\n</g>\n<!-- 1&#45;&gt;29 -->\n<g id=\"edge29\" class=\"edge\">\n<title>1&#45;&gt;29</title>\n<path fill=\"none\" stroke=\"#000000\" d=\"M3294,-817.8796C3294,-809.6838 3294,-800.9891 3294,-792.5013\"/>\n<polygon fill=\"#000000\" stroke=\"#000000\" points=\"3297.5001,-792.298 3294,-782.2981 3290.5001,-792.2981 3297.5001,-792.298\"/>\n</g>\n<!-- 3 -->\n<g id=\"node4\" class=\"node\">\n<title>3</title>\n<path fill=\"#e58139\" stroke=\"#000000\" d=\"M1122,-655.5C1122,-655.5 982,-655.5 982,-655.5 976,-655.5 970,-649.5 970,-643.5 970,-643.5 970,-599.5 970,-599.5 970,-593.5 976,-587.5 982,-587.5 982,-587.5 1122,-587.5 1122,-587.5 1128,-587.5 1134,-593.5 1134,-599.5 1134,-599.5 1134,-643.5 1134,-643.5 1134,-649.5 1128,-655.5 1122,-655.5\"/>\n<text text-anchor=\"start\" x=\"1022.5\" y=\"-640.3\" font-family=\"Helvetica,sans-Serif\" font-size=\"14.00\" fill=\"#000000\">gini = 0.0</text>\n<text text-anchor=\"start\" x=\"1000\" y=\"-625.3\" font-family=\"Helvetica,sans-Serif\" font-size=\"14.00\" fill=\"#000000\">samples = 2544</text>\n<text text-anchor=\"start\" x=\"998\" y=\"-610.3\" font-family=\"Helvetica,sans-Serif\" font-size=\"14.00\" fill=\"#000000\">value = [2544, 0]</text>\n<text text-anchor=\"start\" x=\"978\" y=\"-595.3\" font-family=\"Helvetica,sans-Serif\" font-size=\"14.00\" fill=\"#000000\">class = won&#39;t purchase</text>\n</g>\n<!-- 2&#45;&gt;3 -->\n<g id=\"edge3\" class=\"edge\">\n<title>2&#45;&gt;3</title>\n<path fill=\"none\" stroke=\"#000000\" d=\"M1170.3452,-698.8796C1151.5889,-686.6158 1131.1239,-673.2348 1112.567,-661.1015\"/>\n<polygon fill=\"#000000\" stroke=\"#000000\" points=\"1114.4733,-658.1662 1104.1882,-655.623 1110.6425,-664.025 1114.4733,-658.1662\"/>\n</g>\n<!-- 4 -->\n<g id=\"node5\" class=\"node\">\n<title>4</title>\n<path fill=\"#e89254\" stroke=\"#000000\" d=\"M1304,-663C1304,-663 1164,-663 1164,-663 1158,-663 1152,-657 1152,-651 1152,-651 1152,-592 1152,-592 1152,-586 1158,-580 1164,-580 1164,-580 1304,-580 1304,-580 1310,-580 1316,-586 1316,-592 1316,-592 1316,-651 1316,-651 1316,-657 1310,-663 1304,-663\"/>\n<text text-anchor=\"start\" x=\"1186.5\" y=\"-647.8\" font-family=\"Helvetica,sans-Serif\" font-size=\"14.00\" fill=\"#000000\">Family ≤ 0.966</text>\n<text text-anchor=\"start\" x=\"1196\" y=\"-632.8\" font-family=\"Helvetica,sans-Serif\" font-size=\"14.00\" fill=\"#000000\">gini = 0.209</text>\n<text text-anchor=\"start\" x=\"1190\" y=\"-617.8\" font-family=\"Helvetica,sans-Serif\" font-size=\"14.00\" fill=\"#000000\">samples = 76</text>\n<text text-anchor=\"start\" x=\"1188.5\" y=\"-602.8\" font-family=\"Helvetica,sans-Serif\" font-size=\"14.00\" fill=\"#000000\">value = [67, 9]</text>\n<text text-anchor=\"start\" x=\"1160\" y=\"-587.8\" font-family=\"Helvetica,sans-Serif\" font-size=\"14.00\" fill=\"#000000\">class = won&#39;t purchase</text>\n</g>\n<!-- 2&#45;&gt;4 -->\n<g id=\"edge4\" class=\"edge\">\n<title>2&#45;&gt;4</title>\n<path fill=\"none\" stroke=\"#000000\" d=\"M1234,-698.8796C1234,-690.6838 1234,-681.9891 1234,-673.5013\"/>\n<polygon fill=\"#000000\" stroke=\"#000000\" points=\"1237.5001,-673.298 1234,-663.2981 1230.5001,-673.2981 1237.5001,-673.298\"/>\n</g>\n<!-- 5 -->\n<g id=\"node6\" class=\"node\">\n<title>5</title>\n<path fill=\"#e78a47\" stroke=\"#000000\" d=\"M776,-544C776,-544 636,-544 636,-544 630,-544 624,-538 624,-532 624,-532 624,-473 624,-473 624,-467 630,-461 636,-461 636,-461 776,-461 776,-461 782,-461 788,-467 788,-473 788,-473 788,-532 788,-532 788,-538 782,-544 776,-544\"/>\n<text text-anchor=\"start\" x=\"647\" y=\"-528.8\" font-family=\"Helvetica,sans-Serif\" font-size=\"14.00\" fill=\"#000000\">Education ≤ 0.745</text>\n<text text-anchor=\"start\" x=\"668\" y=\"-513.8\" font-family=\"Helvetica,sans-Serif\" font-size=\"14.00\" fill=\"#000000\">gini = 0.126</text>\n<text text-anchor=\"start\" x=\"662\" y=\"-498.8\" font-family=\"Helvetica,sans-Serif\" font-size=\"14.00\" fill=\"#000000\">samples = 59</text>\n<text text-anchor=\"start\" x=\"660.5\" y=\"-483.8\" font-family=\"Helvetica,sans-Serif\" font-size=\"14.00\" fill=\"#000000\">value = [55, 4]</text>\n<text text-anchor=\"start\" x=\"632\" y=\"-468.8\" font-family=\"Helvetica,sans-Serif\" font-size=\"14.00\" fill=\"#000000\">class = won&#39;t purchase</text>\n</g>\n<!-- 4&#45;&gt;5 -->\n<g id=\"edge5\" class=\"edge\">\n<title>4&#45;&gt;5</title>\n<path fill=\"none\" stroke=\"#000000\" d=\"M1151.7726,-582.9063C1148.8314,-581.8763 1145.9014,-580.9029 1143,-580 1026.8198,-543.8454 887.6903,-522.8056 798.1315,-511.9905\"/>\n<polygon fill=\"#000000\" stroke=\"#000000\" points=\"798.3453,-508.4914 788.0018,-510.7854 797.5183,-515.4423 798.3453,-508.4914\"/>\n</g>\n<!-- 20 -->\n<g id=\"node21\" class=\"node\">\n<title>20</title>\n<path fill=\"#f0b58b\" stroke=\"#000000\" d=\"M1304,-544C1304,-544 1164,-544 1164,-544 1158,-544 1152,-538 1152,-532 1152,-532 1152,-473 1152,-473 1152,-467 1158,-461 1164,-461 1164,-461 1304,-461 1304,-461 1310,-461 1316,-467 1316,-473 1316,-473 1316,-532 1316,-532 1316,-538 1310,-544 1304,-544\"/>\n<text text-anchor=\"start\" x=\"1182.5\" y=\"-528.8\" font-family=\"Helvetica,sans-Serif\" font-size=\"14.00\" fill=\"#000000\">CCAvg ≤ &#45;0.336</text>\n<text text-anchor=\"start\" x=\"1196\" y=\"-513.8\" font-family=\"Helvetica,sans-Serif\" font-size=\"14.00\" fill=\"#000000\">gini = 0.415</text>\n<text text-anchor=\"start\" x=\"1190\" y=\"-498.8\" font-family=\"Helvetica,sans-Serif\" font-size=\"14.00\" fill=\"#000000\">samples = 17</text>\n<text text-anchor=\"start\" x=\"1188.5\" y=\"-483.8\" font-family=\"Helvetica,sans-Serif\" font-size=\"14.00\" fill=\"#000000\">value = [12, 5]</text>\n<text text-anchor=\"start\" x=\"1160\" y=\"-468.8\" font-family=\"Helvetica,sans-Serif\" font-size=\"14.00\" fill=\"#000000\">class = won&#39;t purchase</text>\n</g>\n<!-- 4&#45;&gt;20 -->\n<g id=\"edge20\" class=\"edge\">\n<title>4&#45;&gt;20</title>\n<path fill=\"none\" stroke=\"#000000\" d=\"M1234,-579.8796C1234,-571.6838 1234,-562.9891 1234,-554.5013\"/>\n<polygon fill=\"#000000\" stroke=\"#000000\" points=\"1237.5001,-554.298 1234,-544.2981 1230.5001,-554.2981 1237.5001,-554.298\"/>\n</g>\n<!-- 6 -->\n<g id=\"node7\" class=\"node\">\n<title>6</title>\n<path fill=\"#e6843d\" stroke=\"#000000\" d=\"M507,-425C507,-425 367,-425 367,-425 361,-425 355,-419 355,-413 355,-413 355,-354 355,-354 355,-348 361,-342 367,-342 367,-342 507,-342 507,-342 513,-342 519,-348 519,-354 519,-354 519,-413 519,-413 519,-419 513,-425 507,-425\"/>\n<text text-anchor=\"start\" x=\"395.5\" y=\"-409.8\" font-family=\"Helvetica,sans-Serif\" font-size=\"14.00\" fill=\"#000000\">Age ≤ &#45;1.452</text>\n<text text-anchor=\"start\" x=\"399\" y=\"-394.8\" font-family=\"Helvetica,sans-Serif\" font-size=\"14.00\" fill=\"#000000\">gini = 0.043</text>\n<text text-anchor=\"start\" x=\"393\" y=\"-379.8\" font-family=\"Helvetica,sans-Serif\" font-size=\"14.00\" fill=\"#000000\">samples = 45</text>\n<text text-anchor=\"start\" x=\"391.5\" y=\"-364.8\" font-family=\"Helvetica,sans-Serif\" font-size=\"14.00\" fill=\"#000000\">value = [44, 1]</text>\n<text text-anchor=\"start\" x=\"363\" y=\"-349.8\" font-family=\"Helvetica,sans-Serif\" font-size=\"14.00\" fill=\"#000000\">class = won&#39;t purchase</text>\n</g>\n<!-- 5&#45;&gt;6 -->\n<g id=\"edge6\" class=\"edge\">\n<title>5&#45;&gt;6</title>\n<path fill=\"none\" stroke=\"#000000\" d=\"M623.8295,-466.1495C593.7246,-452.8317 559.4759,-437.6808 528.597,-424.0206\"/>\n<polygon fill=\"#000000\" stroke=\"#000000\" points=\"529.6916,-420.6777 519.1305,-419.8328 526.8596,-427.0793 529.6916,-420.6777\"/>\n</g>\n<!-- 11 -->\n<g id=\"node12\" class=\"node\">\n<title>11</title>\n<path fill=\"#eca36f\" stroke=\"#000000\" d=\"M776,-425C776,-425 636,-425 636,-425 630,-425 624,-419 624,-413 624,-413 624,-354 624,-354 624,-348 630,-342 636,-342 636,-342 776,-342 776,-342 782,-342 788,-348 788,-354 788,-354 788,-413 788,-413 788,-419 782,-425 776,-425\"/>\n<text text-anchor=\"start\" x=\"656\" y=\"-409.8\" font-family=\"Helvetica,sans-Serif\" font-size=\"14.00\" fill=\"#000000\">Family ≤ &#45;0.781</text>\n<text text-anchor=\"start\" x=\"668\" y=\"-394.8\" font-family=\"Helvetica,sans-Serif\" font-size=\"14.00\" fill=\"#000000\">gini = 0.337</text>\n<text text-anchor=\"start\" x=\"662\" y=\"-379.8\" font-family=\"Helvetica,sans-Serif\" font-size=\"14.00\" fill=\"#000000\">samples = 14</text>\n<text text-anchor=\"start\" x=\"660.5\" y=\"-364.8\" font-family=\"Helvetica,sans-Serif\" font-size=\"14.00\" fill=\"#000000\">value = [11, 3]</text>\n<text text-anchor=\"start\" x=\"632\" y=\"-349.8\" font-family=\"Helvetica,sans-Serif\" font-size=\"14.00\" fill=\"#000000\">class = won&#39;t purchase</text>\n</g>\n<!-- 5&#45;&gt;11 -->\n<g id=\"edge11\" class=\"edge\">\n<title>5&#45;&gt;11</title>\n<path fill=\"none\" stroke=\"#000000\" d=\"M706,-460.8796C706,-452.6838 706,-443.9891 706,-435.5013\"/>\n<polygon fill=\"#000000\" stroke=\"#000000\" points=\"709.5001,-435.298 706,-425.2981 702.5001,-435.2981 709.5001,-435.298\"/>\n</g>\n<!-- 7 -->\n<g id=\"node8\" class=\"node\">\n<title>7</title>\n<path fill=\"#eca06a\" stroke=\"#000000\" d=\"M325,-306C325,-306 185,-306 185,-306 179,-306 173,-300 173,-294 173,-294 173,-235 173,-235 173,-229 179,-223 185,-223 185,-223 325,-223 325,-223 331,-223 337,-229 337,-235 337,-235 337,-294 337,-294 337,-300 331,-306 325,-306\"/>\n<text text-anchor=\"start\" x=\"217.5\" y=\"-290.8\" font-family=\"Helvetica,sans-Serif\" font-size=\"14.00\" fill=\"#000000\">Age ≤ &#45;1.54</text>\n<text text-anchor=\"start\" x=\"221.5\" y=\"-275.8\" font-family=\"Helvetica,sans-Serif\" font-size=\"14.00\" fill=\"#000000\">gini = 0.32</text>\n<text text-anchor=\"start\" x=\"215.5\" y=\"-260.8\" font-family=\"Helvetica,sans-Serif\" font-size=\"14.00\" fill=\"#000000\">samples = 5</text>\n<text text-anchor=\"start\" x=\"213.5\" y=\"-245.8\" font-family=\"Helvetica,sans-Serif\" font-size=\"14.00\" fill=\"#000000\">value = [4, 1]</text>\n<text text-anchor=\"start\" x=\"181\" y=\"-230.8\" font-family=\"Helvetica,sans-Serif\" font-size=\"14.00\" fill=\"#000000\">class = won&#39;t purchase</text>\n</g>\n<!-- 6&#45;&gt;7 -->\n<g id=\"edge7\" class=\"edge\">\n<title>6&#45;&gt;7</title>\n<path fill=\"none\" stroke=\"#000000\" d=\"M373.3452,-341.8796C358.3824,-332.0962 342.3323,-321.6019 327.0309,-311.5971\"/>\n<polygon fill=\"#000000\" stroke=\"#000000\" points=\"328.9039,-308.6401 318.6188,-306.0969 325.0731,-314.4989 328.9039,-308.6401\"/>\n</g>\n<!-- 10 -->\n<g id=\"node11\" class=\"node\">\n<title>10</title>\n<path fill=\"#e58139\" stroke=\"#000000\" d=\"M507,-298.5C507,-298.5 367,-298.5 367,-298.5 361,-298.5 355,-292.5 355,-286.5 355,-286.5 355,-242.5 355,-242.5 355,-236.5 361,-230.5 367,-230.5 367,-230.5 507,-230.5 507,-230.5 513,-230.5 519,-236.5 519,-242.5 519,-242.5 519,-286.5 519,-286.5 519,-292.5 513,-298.5 507,-298.5\"/>\n<text text-anchor=\"start\" x=\"407.5\" y=\"-283.3\" font-family=\"Helvetica,sans-Serif\" font-size=\"14.00\" fill=\"#000000\">gini = 0.0</text>\n<text text-anchor=\"start\" x=\"393\" y=\"-268.3\" font-family=\"Helvetica,sans-Serif\" font-size=\"14.00\" fill=\"#000000\">samples = 40</text>\n<text text-anchor=\"start\" x=\"391.5\" y=\"-253.3\" font-family=\"Helvetica,sans-Serif\" font-size=\"14.00\" fill=\"#000000\">value = [40, 0]</text>\n<text text-anchor=\"start\" x=\"363\" y=\"-238.3\" font-family=\"Helvetica,sans-Serif\" font-size=\"14.00\" fill=\"#000000\">class = won&#39;t purchase</text>\n</g>\n<!-- 6&#45;&gt;10 -->\n<g id=\"edge10\" class=\"edge\">\n<title>6&#45;&gt;10</title>\n<path fill=\"none\" stroke=\"#000000\" d=\"M437,-341.8796C437,-331.2134 437,-319.7021 437,-308.9015\"/>\n<polygon fill=\"#000000\" stroke=\"#000000\" points=\"440.5001,-308.8149 437,-298.8149 433.5001,-308.815 440.5001,-308.8149\"/>\n</g>\n<!-- 8 -->\n<g id=\"node9\" class=\"node\">\n<title>8</title>\n<path fill=\"#e58139\" stroke=\"#000000\" d=\"M152,-179.5C152,-179.5 12,-179.5 12,-179.5 6,-179.5 0,-173.5 0,-167.5 0,-167.5 0,-123.5 0,-123.5 0,-117.5 6,-111.5 12,-111.5 12,-111.5 152,-111.5 152,-111.5 158,-111.5 164,-117.5 164,-123.5 164,-123.5 164,-167.5 164,-167.5 164,-173.5 158,-179.5 152,-179.5\"/>\n<text text-anchor=\"start\" x=\"52.5\" y=\"-164.3\" font-family=\"Helvetica,sans-Serif\" font-size=\"14.00\" fill=\"#000000\">gini = 0.0</text>\n<text text-anchor=\"start\" x=\"42.5\" y=\"-149.3\" font-family=\"Helvetica,sans-Serif\" font-size=\"14.00\" fill=\"#000000\">samples = 4</text>\n<text text-anchor=\"start\" x=\"40.5\" y=\"-134.3\" font-family=\"Helvetica,sans-Serif\" font-size=\"14.00\" fill=\"#000000\">value = [4, 0]</text>\n<text text-anchor=\"start\" x=\"8\" y=\"-119.3\" font-family=\"Helvetica,sans-Serif\" font-size=\"14.00\" fill=\"#000000\">class = won&#39;t purchase</text>\n</g>\n<!-- 7&#45;&gt;8 -->\n<g id=\"edge8\" class=\"edge\">\n<title>7&#45;&gt;8</title>\n<path fill=\"none\" stroke=\"#000000\" d=\"M194.493,-222.8796C176.8248,-210.7263 157.5615,-197.4759 140.0491,-185.4297\"/>\n<polygon fill=\"#000000\" stroke=\"#000000\" points=\"141.8301,-182.4067 131.6074,-179.623 137.8629,-188.1741 141.8301,-182.4067\"/>\n</g>\n<!-- 9 -->\n<g id=\"node10\" class=\"node\">\n<title>9</title>\n<path fill=\"#399de5\" stroke=\"#000000\" d=\"M320,-179.5C320,-179.5 194,-179.5 194,-179.5 188,-179.5 182,-173.5 182,-167.5 182,-167.5 182,-123.5 182,-123.5 182,-117.5 188,-111.5 194,-111.5 194,-111.5 320,-111.5 320,-111.5 326,-111.5 332,-117.5 332,-123.5 332,-123.5 332,-167.5 332,-167.5 332,-173.5 326,-179.5 320,-179.5\"/>\n<text text-anchor=\"start\" x=\"227.5\" y=\"-164.3\" font-family=\"Helvetica,sans-Serif\" font-size=\"14.00\" fill=\"#000000\">gini = 0.0</text>\n<text text-anchor=\"start\" x=\"217.5\" y=\"-149.3\" font-family=\"Helvetica,sans-Serif\" font-size=\"14.00\" fill=\"#000000\">samples = 1</text>\n<text text-anchor=\"start\" x=\"215.5\" y=\"-134.3\" font-family=\"Helvetica,sans-Serif\" font-size=\"14.00\" fill=\"#000000\">value = [0, 1]</text>\n<text text-anchor=\"start\" x=\"190\" y=\"-119.3\" font-family=\"Helvetica,sans-Serif\" font-size=\"14.00\" fill=\"#000000\">class = will purchase</text>\n</g>\n<!-- 7&#45;&gt;9 -->\n<g id=\"edge9\" class=\"edge\">\n<title>7&#45;&gt;9</title>\n<path fill=\"none\" stroke=\"#000000\" d=\"M255.6995,-222.8796C255.8788,-212.2134 256.0722,-200.7021 256.2538,-189.9015\"/>\n<polygon fill=\"#000000\" stroke=\"#000000\" points=\"259.7546,-189.8724 256.4233,-179.8149 252.7556,-189.7547 259.7546,-189.8724\"/>\n</g>\n<!-- 12 -->\n<g id=\"node13\" class=\"node\">\n<title>12</title>\n<path fill=\"#e88e4d\" stroke=\"#000000\" d=\"M689,-306C689,-306 549,-306 549,-306 543,-306 537,-300 537,-294 537,-294 537,-235 537,-235 537,-229 543,-223 549,-223 549,-223 689,-223 689,-223 695,-223 701,-229 701,-235 701,-235 701,-294 701,-294 701,-300 695,-306 689,-306\"/>\n<text text-anchor=\"start\" x=\"569.5\" y=\"-290.8\" font-family=\"Helvetica,sans-Serif\" font-size=\"14.00\" fill=\"#000000\">CCAvg ≤ 0.243</text>\n<text text-anchor=\"start\" x=\"581\" y=\"-275.8\" font-family=\"Helvetica,sans-Serif\" font-size=\"14.00\" fill=\"#000000\">gini = 0.165</text>\n<text text-anchor=\"start\" x=\"575\" y=\"-260.8\" font-family=\"Helvetica,sans-Serif\" font-size=\"14.00\" fill=\"#000000\">samples = 11</text>\n<text text-anchor=\"start\" x=\"573.5\" y=\"-245.8\" font-family=\"Helvetica,sans-Serif\" font-size=\"14.00\" fill=\"#000000\">value = [10, 1]</text>\n<text text-anchor=\"start\" x=\"545\" y=\"-230.8\" font-family=\"Helvetica,sans-Serif\" font-size=\"14.00\" fill=\"#000000\">class = won&#39;t purchase</text>\n</g>\n<!-- 11&#45;&gt;12 -->\n<g id=\"edge12\" class=\"edge\">\n<title>11&#45;&gt;12</title>\n<path fill=\"none\" stroke=\"#000000\" d=\"M675.5716,-341.8796C669.1189,-333.0534 662.243,-323.6485 655.5887,-314.5466\"/>\n<polygon fill=\"#000000\" stroke=\"#000000\" points=\"658.2856,-312.3051 649.5583,-306.2981 652.6347,-316.4364 658.2856,-312.3051\"/>\n</g>\n<!-- 17 -->\n<g id=\"node18\" class=\"node\">\n<title>17</title>\n<path fill=\"#9ccef2\" stroke=\"#000000\" d=\"M862,-306C862,-306 736,-306 736,-306 730,-306 724,-300 724,-294 724,-294 724,-235 724,-235 724,-229 730,-223 736,-223 736,-223 862,-223 862,-223 868,-223 874,-229 874,-235 874,-235 874,-294 874,-294 874,-300 868,-306 862,-306\"/>\n<text text-anchor=\"start\" x=\"757.5\" y=\"-290.8\" font-family=\"Helvetica,sans-Serif\" font-size=\"14.00\" fill=\"#000000\">Age ≤ &#45;1.016</text>\n<text text-anchor=\"start\" x=\"761\" y=\"-275.8\" font-family=\"Helvetica,sans-Serif\" font-size=\"14.00\" fill=\"#000000\">gini = 0.444</text>\n<text text-anchor=\"start\" x=\"759.5\" y=\"-260.8\" font-family=\"Helvetica,sans-Serif\" font-size=\"14.00\" fill=\"#000000\">samples = 3</text>\n<text text-anchor=\"start\" x=\"757.5\" y=\"-245.8\" font-family=\"Helvetica,sans-Serif\" font-size=\"14.00\" fill=\"#000000\">value = [1, 2]</text>\n<text text-anchor=\"start\" x=\"732\" y=\"-230.8\" font-family=\"Helvetica,sans-Serif\" font-size=\"14.00\" fill=\"#000000\">class = will purchase</text>\n</g>\n<!-- 11&#45;&gt;17 -->\n<g id=\"edge17\" class=\"edge\">\n<title>11&#45;&gt;17</title>\n<path fill=\"none\" stroke=\"#000000\" d=\"M738.5269,-341.8796C745.4951,-332.9633 752.9247,-323.4565 760.1056,-314.268\"/>\n<polygon fill=\"#000000\" stroke=\"#000000\" points=\"762.9343,-316.3326 766.3343,-306.2981 757.4188,-312.0221 762.9343,-316.3326\"/>\n</g>\n<!-- 13 -->\n<g id=\"node14\" class=\"node\">\n<title>13</title>\n<path fill=\"#e58139\" stroke=\"#000000\" d=\"M505,-179.5C505,-179.5 365,-179.5 365,-179.5 359,-179.5 353,-173.5 353,-167.5 353,-167.5 353,-123.5 353,-123.5 353,-117.5 359,-111.5 365,-111.5 365,-111.5 505,-111.5 505,-111.5 511,-111.5 517,-117.5 517,-123.5 517,-123.5 517,-167.5 517,-167.5 517,-173.5 511,-179.5 505,-179.5\"/>\n<text text-anchor=\"start\" x=\"405.5\" y=\"-164.3\" font-family=\"Helvetica,sans-Serif\" font-size=\"14.00\" fill=\"#000000\">gini = 0.0</text>\n<text text-anchor=\"start\" x=\"395.5\" y=\"-149.3\" font-family=\"Helvetica,sans-Serif\" font-size=\"14.00\" fill=\"#000000\">samples = 9</text>\n<text text-anchor=\"start\" x=\"393.5\" y=\"-134.3\" font-family=\"Helvetica,sans-Serif\" font-size=\"14.00\" fill=\"#000000\">value = [9, 0]</text>\n<text text-anchor=\"start\" x=\"361\" y=\"-119.3\" font-family=\"Helvetica,sans-Serif\" font-size=\"14.00\" fill=\"#000000\">class = won&#39;t purchase</text>\n</g>\n<!-- 12&#45;&gt;13 -->\n<g id=\"edge13\" class=\"edge\">\n<title>12&#45;&gt;13</title>\n<path fill=\"none\" stroke=\"#000000\" d=\"M554.6457,-222.8796C535.6833,-210.6158 514.9934,-197.2348 496.2326,-185.1015\"/>\n<polygon fill=\"#000000\" stroke=\"#000000\" points=\"498.0593,-182.1148 487.7617,-179.623 494.2579,-187.9926 498.0593,-182.1148\"/>\n</g>\n<!-- 14 -->\n<g id=\"node15\" class=\"node\">\n<title>14</title>\n<path fill=\"#ffffff\" stroke=\"#000000\" d=\"M687,-187C687,-187 547,-187 547,-187 541,-187 535,-181 535,-175 535,-175 535,-116 535,-116 535,-110 541,-104 547,-104 547,-104 687,-104 687,-104 693,-104 699,-110 699,-116 699,-116 699,-175 699,-175 699,-181 693,-187 687,-187\"/>\n<text text-anchor=\"start\" x=\"567\" y=\"-171.8\" font-family=\"Helvetica,sans-Serif\" font-size=\"14.00\" fill=\"#000000\">Income ≤ 0.923</text>\n<text text-anchor=\"start\" x=\"587.5\" y=\"-156.8\" font-family=\"Helvetica,sans-Serif\" font-size=\"14.00\" fill=\"#000000\">gini = 0.5</text>\n<text text-anchor=\"start\" x=\"577.5\" y=\"-141.8\" font-family=\"Helvetica,sans-Serif\" font-size=\"14.00\" fill=\"#000000\">samples = 2</text>\n<text text-anchor=\"start\" x=\"575.5\" y=\"-126.8\" font-family=\"Helvetica,sans-Serif\" font-size=\"14.00\" fill=\"#000000\">value = [1, 1]</text>\n<text text-anchor=\"start\" x=\"543\" y=\"-111.8\" font-family=\"Helvetica,sans-Serif\" font-size=\"14.00\" fill=\"#000000\">class = won&#39;t purchase</text>\n</g>\n<!-- 12&#45;&gt;14 -->\n<g id=\"edge14\" class=\"edge\">\n<title>12&#45;&gt;14</title>\n<path fill=\"none\" stroke=\"#000000\" d=\"M618.3005,-222.8796C618.1628,-214.6838 618.0166,-205.9891 617.874,-197.5013\"/>\n<polygon fill=\"#000000\" stroke=\"#000000\" points=\"621.3701,-197.2378 617.7025,-187.2981 614.3711,-197.3555 621.3701,-197.2378\"/>\n</g>\n<!-- 15 -->\n<g id=\"node16\" class=\"node\">\n<title>15</title>\n<path fill=\"#e58139\" stroke=\"#000000\" d=\"M600,-68C600,-68 460,-68 460,-68 454,-68 448,-62 448,-56 448,-56 448,-12 448,-12 448,-6 454,0 460,0 460,0 600,0 600,0 606,0 612,-6 612,-12 612,-12 612,-56 612,-56 612,-62 606,-68 600,-68\"/>\n<text text-anchor=\"start\" x=\"500.5\" y=\"-52.8\" font-family=\"Helvetica,sans-Serif\" font-size=\"14.00\" fill=\"#000000\">gini = 0.0</text>\n<text text-anchor=\"start\" x=\"490.5\" y=\"-37.8\" font-family=\"Helvetica,sans-Serif\" font-size=\"14.00\" fill=\"#000000\">samples = 1</text>\n<text text-anchor=\"start\" x=\"488.5\" y=\"-22.8\" font-family=\"Helvetica,sans-Serif\" font-size=\"14.00\" fill=\"#000000\">value = [1, 0]</text>\n<text text-anchor=\"start\" x=\"456\" y=\"-7.8\" font-family=\"Helvetica,sans-Serif\" font-size=\"14.00\" fill=\"#000000\">class = won&#39;t purchase</text>\n</g>\n<!-- 14&#45;&gt;15 -->\n<g id=\"edge15\" class=\"edge\">\n<title>14&#45;&gt;15</title>\n<path fill=\"none\" stroke=\"#000000\" d=\"M584.6044,-103.9815C577.5766,-94.9747 570.1345,-85.4367 563.0807,-76.3965\"/>\n<polygon fill=\"#000000\" stroke=\"#000000\" points=\"565.646,-73.9946 556.7349,-68.2637 560.1272,-78.3008 565.646,-73.9946\"/>\n</g>\n<!-- 16 -->\n<g id=\"node17\" class=\"node\">\n<title>16</title>\n<path fill=\"#399de5\" stroke=\"#000000\" d=\"M768,-68C768,-68 642,-68 642,-68 636,-68 630,-62 630,-56 630,-56 630,-12 630,-12 630,-6 636,0 642,0 642,0 768,0 768,0 774,0 780,-6 780,-12 780,-12 780,-56 780,-56 780,-62 774,-68 768,-68\"/>\n<text text-anchor=\"start\" x=\"675.5\" y=\"-52.8\" font-family=\"Helvetica,sans-Serif\" font-size=\"14.00\" fill=\"#000000\">gini = 0.0</text>\n<text text-anchor=\"start\" x=\"665.5\" y=\"-37.8\" font-family=\"Helvetica,sans-Serif\" font-size=\"14.00\" fill=\"#000000\">samples = 1</text>\n<text text-anchor=\"start\" x=\"663.5\" y=\"-22.8\" font-family=\"Helvetica,sans-Serif\" font-size=\"14.00\" fill=\"#000000\">value = [0, 1]</text>\n<text text-anchor=\"start\" x=\"638\" y=\"-7.8\" font-family=\"Helvetica,sans-Serif\" font-size=\"14.00\" fill=\"#000000\">class = will purchase</text>\n</g>\n<!-- 14&#45;&gt;16 -->\n<g id=\"edge16\" class=\"edge\">\n<title>14&#45;&gt;16</title>\n<path fill=\"none\" stroke=\"#000000\" d=\"M649.768,-103.9815C656.949,-94.8828 664.5579,-85.242 671.7574,-76.1199\"/>\n<polygon fill=\"#000000\" stroke=\"#000000\" points=\"674.5099,-78.2818 677.9578,-68.2637 669.0151,-73.9451 674.5099,-78.2818\"/>\n</g>\n<!-- 18 -->\n<g id=\"node19\" class=\"node\">\n<title>18</title>\n<path fill=\"#e58139\" stroke=\"#000000\" d=\"M869,-179.5C869,-179.5 729,-179.5 729,-179.5 723,-179.5 717,-173.5 717,-167.5 717,-167.5 717,-123.5 717,-123.5 717,-117.5 723,-111.5 729,-111.5 729,-111.5 869,-111.5 869,-111.5 875,-111.5 881,-117.5 881,-123.5 881,-123.5 881,-167.5 881,-167.5 881,-173.5 875,-179.5 869,-179.5\"/>\n<text text-anchor=\"start\" x=\"769.5\" y=\"-164.3\" font-family=\"Helvetica,sans-Serif\" font-size=\"14.00\" fill=\"#000000\">gini = 0.0</text>\n<text text-anchor=\"start\" x=\"759.5\" y=\"-149.3\" font-family=\"Helvetica,sans-Serif\" font-size=\"14.00\" fill=\"#000000\">samples = 1</text>\n<text text-anchor=\"start\" x=\"757.5\" y=\"-134.3\" font-family=\"Helvetica,sans-Serif\" font-size=\"14.00\" fill=\"#000000\">value = [1, 0]</text>\n<text text-anchor=\"start\" x=\"725\" y=\"-119.3\" font-family=\"Helvetica,sans-Serif\" font-size=\"14.00\" fill=\"#000000\">class = won&#39;t purchase</text>\n</g>\n<!-- 17&#45;&gt;18 -->\n<g id=\"edge18\" class=\"edge\">\n<title>17&#45;&gt;18</title>\n<path fill=\"none\" stroke=\"#000000\" d=\"M799,-222.8796C799,-212.2134 799,-200.7021 799,-189.9015\"/>\n<polygon fill=\"#000000\" stroke=\"#000000\" points=\"802.5001,-189.8149 799,-179.8149 795.5001,-189.815 802.5001,-189.8149\"/>\n</g>\n<!-- 19 -->\n<g id=\"node20\" class=\"node\">\n<title>19</title>\n<path fill=\"#399de5\" stroke=\"#000000\" d=\"M1037,-179.5C1037,-179.5 911,-179.5 911,-179.5 905,-179.5 899,-173.5 899,-167.5 899,-167.5 899,-123.5 899,-123.5 899,-117.5 905,-111.5 911,-111.5 911,-111.5 1037,-111.5 1037,-111.5 1043,-111.5 1049,-117.5 1049,-123.5 1049,-123.5 1049,-167.5 1049,-167.5 1049,-173.5 1043,-179.5 1037,-179.5\"/>\n<text text-anchor=\"start\" x=\"944.5\" y=\"-164.3\" font-family=\"Helvetica,sans-Serif\" font-size=\"14.00\" fill=\"#000000\">gini = 0.0</text>\n<text text-anchor=\"start\" x=\"934.5\" y=\"-149.3\" font-family=\"Helvetica,sans-Serif\" font-size=\"14.00\" fill=\"#000000\">samples = 2</text>\n<text text-anchor=\"start\" x=\"932.5\" y=\"-134.3\" font-family=\"Helvetica,sans-Serif\" font-size=\"14.00\" fill=\"#000000\">value = [0, 2]</text>\n<text text-anchor=\"start\" x=\"907\" y=\"-119.3\" font-family=\"Helvetica,sans-Serif\" font-size=\"14.00\" fill=\"#000000\">class = will purchase</text>\n</g>\n<!-- 17&#45;&gt;19 -->\n<g id=\"edge19\" class=\"edge\">\n<title>17&#45;&gt;19</title>\n<path fill=\"none\" stroke=\"#000000\" d=\"M860.2065,-222.8796C878.079,-210.7263 897.5649,-197.4759 915.2798,-185.4297\"/>\n<polygon fill=\"#000000\" stroke=\"#000000\" points=\"917.5179,-188.1404 923.8191,-179.623 913.5817,-182.3519 917.5179,-188.1404\"/>\n</g>\n<!-- 21 -->\n<g id=\"node22\" class=\"node\">\n<title>21</title>\n<path fill=\"#399de5\" stroke=\"#000000\" d=\"M1209,-417.5C1209,-417.5 1083,-417.5 1083,-417.5 1077,-417.5 1071,-411.5 1071,-405.5 1071,-405.5 1071,-361.5 1071,-361.5 1071,-355.5 1077,-349.5 1083,-349.5 1083,-349.5 1209,-349.5 1209,-349.5 1215,-349.5 1221,-355.5 1221,-361.5 1221,-361.5 1221,-405.5 1221,-405.5 1221,-411.5 1215,-417.5 1209,-417.5\"/>\n<text text-anchor=\"start\" x=\"1116.5\" y=\"-402.3\" font-family=\"Helvetica,sans-Serif\" font-size=\"14.00\" fill=\"#000000\">gini = 0.0</text>\n<text text-anchor=\"start\" x=\"1106.5\" y=\"-387.3\" font-family=\"Helvetica,sans-Serif\" font-size=\"14.00\" fill=\"#000000\">samples = 2</text>\n<text text-anchor=\"start\" x=\"1104.5\" y=\"-372.3\" font-family=\"Helvetica,sans-Serif\" font-size=\"14.00\" fill=\"#000000\">value = [0, 2]</text>\n<text text-anchor=\"start\" x=\"1079\" y=\"-357.3\" font-family=\"Helvetica,sans-Serif\" font-size=\"14.00\" fill=\"#000000\">class = will purchase</text>\n</g>\n<!-- 20&#45;&gt;21 -->\n<g id=\"edge21\" class=\"edge\">\n<title>20&#45;&gt;21</title>\n<path fill=\"none\" stroke=\"#000000\" d=\"M1203.2219,-460.8796C1194.8464,-449.5536 1185.7662,-437.2748 1177.3589,-425.9058\"/>\n<polygon fill=\"#000000\" stroke=\"#000000\" points=\"1180.1357,-423.7743 1171.3758,-417.8149 1174.5075,-427.9364 1180.1357,-423.7743\"/>\n</g>\n<!-- 22 -->\n<g id=\"node23\" class=\"node\">\n<title>22</title>\n<path fill=\"#eca06a\" stroke=\"#000000\" d=\"M1391,-425C1391,-425 1251,-425 1251,-425 1245,-425 1239,-419 1239,-413 1239,-413 1239,-354 1239,-354 1239,-348 1245,-342 1251,-342 1251,-342 1391,-342 1391,-342 1397,-342 1403,-348 1403,-354 1403,-354 1403,-413 1403,-413 1403,-419 1397,-425 1391,-425\"/>\n<text text-anchor=\"start\" x=\"1271.5\" y=\"-409.8\" font-family=\"Helvetica,sans-Serif\" font-size=\"14.00\" fill=\"#000000\">Online ≤ &#45;0.177</text>\n<text text-anchor=\"start\" x=\"1287.5\" y=\"-394.8\" font-family=\"Helvetica,sans-Serif\" font-size=\"14.00\" fill=\"#000000\">gini = 0.32</text>\n<text text-anchor=\"start\" x=\"1277\" y=\"-379.8\" font-family=\"Helvetica,sans-Serif\" font-size=\"14.00\" fill=\"#000000\">samples = 15</text>\n<text text-anchor=\"start\" x=\"1275.5\" y=\"-364.8\" font-family=\"Helvetica,sans-Serif\" font-size=\"14.00\" fill=\"#000000\">value = [12, 3]</text>\n<text text-anchor=\"start\" x=\"1247\" y=\"-349.8\" font-family=\"Helvetica,sans-Serif\" font-size=\"14.00\" fill=\"#000000\">class = won&#39;t purchase</text>\n</g>\n<!-- 20&#45;&gt;22 -->\n<g id=\"edge22\" class=\"edge\">\n<title>20&#45;&gt;22</title>\n<path fill=\"none\" stroke=\"#000000\" d=\"M1264.4284,-460.8796C1270.8811,-452.0534 1277.757,-442.6485 1284.4113,-433.5466\"/>\n<polygon fill=\"#000000\" stroke=\"#000000\" points=\"1287.3653,-435.4364 1290.4417,-425.2981 1281.7144,-431.3051 1287.3653,-435.4364\"/>\n</g>\n<!-- 23 -->\n<g id=\"node24\" class=\"node\">\n<title>23</title>\n<path fill=\"#ffffff\" stroke=\"#000000\" d=\"M1300,-306C1300,-306 1160,-306 1160,-306 1154,-306 1148,-300 1148,-294 1148,-294 1148,-235 1148,-235 1148,-229 1154,-223 1160,-223 1160,-223 1300,-223 1300,-223 1306,-223 1312,-229 1312,-235 1312,-235 1312,-294 1312,-294 1312,-300 1306,-306 1300,-306\"/>\n<text text-anchor=\"start\" x=\"1169\" y=\"-290.8\" font-family=\"Helvetica,sans-Serif\" font-size=\"14.00\" fill=\"#000000\">CreditCard ≤ 0.438</text>\n<text text-anchor=\"start\" x=\"1200.5\" y=\"-275.8\" font-family=\"Helvetica,sans-Serif\" font-size=\"14.00\" fill=\"#000000\">gini = 0.5</text>\n<text text-anchor=\"start\" x=\"1190.5\" y=\"-260.8\" font-family=\"Helvetica,sans-Serif\" font-size=\"14.00\" fill=\"#000000\">samples = 6</text>\n<text text-anchor=\"start\" x=\"1188.5\" y=\"-245.8\" font-family=\"Helvetica,sans-Serif\" font-size=\"14.00\" fill=\"#000000\">value = [3, 3]</text>\n<text text-anchor=\"start\" x=\"1156\" y=\"-230.8\" font-family=\"Helvetica,sans-Serif\" font-size=\"14.00\" fill=\"#000000\">class = won&#39;t purchase</text>\n</g>\n<!-- 22&#45;&gt;23 -->\n<g id=\"edge23\" class=\"edge\">\n<title>22&#45;&gt;23</title>\n<path fill=\"none\" stroke=\"#000000\" d=\"M1289.1726,-341.8796C1282.3543,-332.9633 1275.0844,-323.4565 1268.0579,-314.268\"/>\n<polygon fill=\"#000000\" stroke=\"#000000\" points=\"1270.818,-312.1156 1261.9632,-306.2981 1265.2575,-316.3678 1270.818,-312.1156\"/>\n</g>\n<!-- 28 -->\n<g id=\"node29\" class=\"node\">\n<title>28</title>\n<path fill=\"#e58139\" stroke=\"#000000\" d=\"M1482,-298.5C1482,-298.5 1342,-298.5 1342,-298.5 1336,-298.5 1330,-292.5 1330,-286.5 1330,-286.5 1330,-242.5 1330,-242.5 1330,-236.5 1336,-230.5 1342,-230.5 1342,-230.5 1482,-230.5 1482,-230.5 1488,-230.5 1494,-236.5 1494,-242.5 1494,-242.5 1494,-286.5 1494,-286.5 1494,-292.5 1488,-298.5 1482,-298.5\"/>\n<text text-anchor=\"start\" x=\"1382.5\" y=\"-283.3\" font-family=\"Helvetica,sans-Serif\" font-size=\"14.00\" fill=\"#000000\">gini = 0.0</text>\n<text text-anchor=\"start\" x=\"1372.5\" y=\"-268.3\" font-family=\"Helvetica,sans-Serif\" font-size=\"14.00\" fill=\"#000000\">samples = 9</text>\n<text text-anchor=\"start\" x=\"1370.5\" y=\"-253.3\" font-family=\"Helvetica,sans-Serif\" font-size=\"14.00\" fill=\"#000000\">value = [9, 0]</text>\n<text text-anchor=\"start\" x=\"1338\" y=\"-238.3\" font-family=\"Helvetica,sans-Serif\" font-size=\"14.00\" fill=\"#000000\">class = won&#39;t purchase</text>\n</g>\n<!-- 22&#45;&gt;28 -->\n<g id=\"edge28\" class=\"edge\">\n<title>22&#45;&gt;28</title>\n<path fill=\"none\" stroke=\"#000000\" d=\"M1352.8274,-341.8796C1361.4884,-330.5536 1370.8781,-318.2748 1379.572,-306.9058\"/>\n<polygon fill=\"#000000\" stroke=\"#000000\" points=\"1382.4649,-308.8846 1385.7592,-298.8149 1376.9044,-304.6324 1382.4649,-308.8846\"/>\n</g>\n<!-- 24 -->\n<g id=\"node25\" class=\"node\">\n<title>24</title>\n<path fill=\"#399de5\" stroke=\"#000000\" d=\"M1205,-179.5C1205,-179.5 1079,-179.5 1079,-179.5 1073,-179.5 1067,-173.5 1067,-167.5 1067,-167.5 1067,-123.5 1067,-123.5 1067,-117.5 1073,-111.5 1079,-111.5 1079,-111.5 1205,-111.5 1205,-111.5 1211,-111.5 1217,-117.5 1217,-123.5 1217,-123.5 1217,-167.5 1217,-167.5 1217,-173.5 1211,-179.5 1205,-179.5\"/>\n<text text-anchor=\"start\" x=\"1112.5\" y=\"-164.3\" font-family=\"Helvetica,sans-Serif\" font-size=\"14.00\" fill=\"#000000\">gini = 0.0</text>\n<text text-anchor=\"start\" x=\"1102.5\" y=\"-149.3\" font-family=\"Helvetica,sans-Serif\" font-size=\"14.00\" fill=\"#000000\">samples = 2</text>\n<text text-anchor=\"start\" x=\"1100.5\" y=\"-134.3\" font-family=\"Helvetica,sans-Serif\" font-size=\"14.00\" fill=\"#000000\">value = [0, 2]</text>\n<text text-anchor=\"start\" x=\"1075\" y=\"-119.3\" font-family=\"Helvetica,sans-Serif\" font-size=\"14.00\" fill=\"#000000\">class = will purchase</text>\n</g>\n<!-- 23&#45;&gt;24 -->\n<g id=\"edge24\" class=\"edge\">\n<title>23&#45;&gt;24</title>\n<path fill=\"none\" stroke=\"#000000\" d=\"M1199.2219,-222.8796C1190.8464,-211.5536 1181.7662,-199.2748 1173.3589,-187.9058\"/>\n<polygon fill=\"#000000\" stroke=\"#000000\" points=\"1176.1357,-185.7743 1167.3758,-179.8149 1170.5075,-189.9364 1176.1357,-185.7743\"/>\n</g>\n<!-- 25 -->\n<g id=\"node26\" class=\"node\">\n<title>25</title>\n<path fill=\"#eeab7b\" stroke=\"#000000\" d=\"M1387,-187C1387,-187 1247,-187 1247,-187 1241,-187 1235,-181 1235,-175 1235,-175 1235,-116 1235,-116 1235,-110 1241,-104 1247,-104 1247,-104 1387,-104 1387,-104 1393,-104 1399,-110 1399,-116 1399,-116 1399,-175 1399,-175 1399,-181 1393,-187 1387,-187\"/>\n<text text-anchor=\"start\" x=\"1267\" y=\"-171.8\" font-family=\"Helvetica,sans-Serif\" font-size=\"14.00\" fill=\"#000000\">Income ≤ 0.931</text>\n<text text-anchor=\"start\" x=\"1279\" y=\"-156.8\" font-family=\"Helvetica,sans-Serif\" font-size=\"14.00\" fill=\"#000000\">gini = 0.375</text>\n<text text-anchor=\"start\" x=\"1277.5\" y=\"-141.8\" font-family=\"Helvetica,sans-Serif\" font-size=\"14.00\" fill=\"#000000\">samples = 4</text>\n<text text-anchor=\"start\" x=\"1275.5\" y=\"-126.8\" font-family=\"Helvetica,sans-Serif\" font-size=\"14.00\" fill=\"#000000\">value = [3, 1]</text>\n<text text-anchor=\"start\" x=\"1243\" y=\"-111.8\" font-family=\"Helvetica,sans-Serif\" font-size=\"14.00\" fill=\"#000000\">class = won&#39;t purchase</text>\n</g>\n<!-- 23&#45;&gt;25 -->\n<g id=\"edge25\" class=\"edge\">\n<title>23&#45;&gt;25</title>\n<path fill=\"none\" stroke=\"#000000\" d=\"M1260.4284,-222.8796C1266.8811,-214.0534 1273.757,-204.6485 1280.4113,-195.5466\"/>\n<polygon fill=\"#000000\" stroke=\"#000000\" points=\"1283.3653,-197.4364 1286.4417,-187.2981 1277.7144,-193.3051 1283.3653,-197.4364\"/>\n</g>\n<!-- 26 -->\n<g id=\"node27\" class=\"node\">\n<title>26</title>\n<path fill=\"#e58139\" stroke=\"#000000\" d=\"M1212,-68C1212,-68 1072,-68 1072,-68 1066,-68 1060,-62 1060,-56 1060,-56 1060,-12 1060,-12 1060,-6 1066,0 1072,0 1072,0 1212,0 1212,0 1218,0 1224,-6 1224,-12 1224,-12 1224,-56 1224,-56 1224,-62 1218,-68 1212,-68\"/>\n<text text-anchor=\"start\" x=\"1112.5\" y=\"-52.8\" font-family=\"Helvetica,sans-Serif\" font-size=\"14.00\" fill=\"#000000\">gini = 0.0</text>\n<text text-anchor=\"start\" x=\"1102.5\" y=\"-37.8\" font-family=\"Helvetica,sans-Serif\" font-size=\"14.00\" fill=\"#000000\">samples = 3</text>\n<text text-anchor=\"start\" x=\"1100.5\" y=\"-22.8\" font-family=\"Helvetica,sans-Serif\" font-size=\"14.00\" fill=\"#000000\">value = [3, 0]</text>\n<text text-anchor=\"start\" x=\"1068\" y=\"-7.8\" font-family=\"Helvetica,sans-Serif\" font-size=\"14.00\" fill=\"#000000\">class = won&#39;t purchase</text>\n</g>\n<!-- 25&#45;&gt;26 -->\n<g id=\"edge26\" class=\"edge\">\n<title>25&#45;&gt;26</title>\n<path fill=\"none\" stroke=\"#000000\" d=\"M1251.8365,-103.9815C1236.1757,-94.0034 1219.4918,-83.3733 1203.9805,-73.4904\"/>\n<polygon fill=\"#000000\" stroke=\"#000000\" points=\"1205.812,-70.5073 1195.4976,-68.0856 1202.0506,-76.4109 1205.812,-70.5073\"/>\n</g>\n<!-- 27 -->\n<g id=\"node28\" class=\"node\">\n<title>27</title>\n<path fill=\"#399de5\" stroke=\"#000000\" d=\"M1380,-68C1380,-68 1254,-68 1254,-68 1248,-68 1242,-62 1242,-56 1242,-56 1242,-12 1242,-12 1242,-6 1248,0 1254,0 1254,0 1380,0 1380,0 1386,0 1392,-6 1392,-12 1392,-12 1392,-56 1392,-56 1392,-62 1386,-68 1380,-68\"/>\n<text text-anchor=\"start\" x=\"1287.5\" y=\"-52.8\" font-family=\"Helvetica,sans-Serif\" font-size=\"14.00\" fill=\"#000000\">gini = 0.0</text>\n<text text-anchor=\"start\" x=\"1277.5\" y=\"-37.8\" font-family=\"Helvetica,sans-Serif\" font-size=\"14.00\" fill=\"#000000\">samples = 1</text>\n<text text-anchor=\"start\" x=\"1275.5\" y=\"-22.8\" font-family=\"Helvetica,sans-Serif\" font-size=\"14.00\" fill=\"#000000\">value = [0, 1]</text>\n<text text-anchor=\"start\" x=\"1250\" y=\"-7.8\" font-family=\"Helvetica,sans-Serif\" font-size=\"14.00\" fill=\"#000000\">class = will purchase</text>\n</g>\n<!-- 25&#45;&gt;27 -->\n<g id=\"edge27\" class=\"edge\">\n<title>25&#45;&gt;27</title>\n<path fill=\"none\" stroke=\"#000000\" d=\"M1317,-103.9815C1317,-95.618 1317,-86.7965 1317,-78.3409\"/>\n<polygon fill=\"#000000\" stroke=\"#000000\" points=\"1320.5001,-78.2636 1317,-68.2637 1313.5001,-78.2637 1320.5001,-78.2636\"/>\n</g>\n<!-- 30 -->\n<g id=\"node31\" class=\"node\">\n<title>30</title>\n<path fill=\"#eb9f69\" stroke=\"#000000\" d=\"M3277,-663C3277,-663 3137,-663 3137,-663 3131,-663 3125,-657 3125,-651 3125,-651 3125,-592 3125,-592 3125,-586 3131,-580 3137,-580 3137,-580 3277,-580 3277,-580 3283,-580 3289,-586 3289,-592 3289,-592 3289,-651 3289,-651 3289,-657 3283,-663 3277,-663\"/>\n<text text-anchor=\"start\" x=\"3157\" y=\"-647.8\" font-family=\"Helvetica,sans-Serif\" font-size=\"14.00\" fill=\"#000000\">Income ≤ 0.599</text>\n<text text-anchor=\"start\" x=\"3169\" y=\"-632.8\" font-family=\"Helvetica,sans-Serif\" font-size=\"14.00\" fill=\"#000000\">gini = 0.313</text>\n<text text-anchor=\"start\" x=\"3159\" y=\"-617.8\" font-family=\"Helvetica,sans-Serif\" font-size=\"14.00\" fill=\"#000000\">samples = 211</text>\n<text text-anchor=\"start\" x=\"3153\" y=\"-602.8\" font-family=\"Helvetica,sans-Serif\" font-size=\"14.00\" fill=\"#000000\">value = [170, 41]</text>\n<text text-anchor=\"start\" x=\"3133\" y=\"-587.8\" font-family=\"Helvetica,sans-Serif\" font-size=\"14.00\" fill=\"#000000\">class = won&#39;t purchase</text>\n</g>\n<!-- 29&#45;&gt;30 -->\n<g id=\"edge30\" class=\"edge\">\n<title>29&#45;&gt;30</title>\n<path fill=\"none\" stroke=\"#000000\" d=\"M3263.5716,-698.8796C3257.1189,-690.0534 3250.243,-680.6485 3243.5887,-671.5466\"/>\n<polygon fill=\"#000000\" stroke=\"#000000\" points=\"3246.2856,-669.3051 3237.5583,-663.2981 3240.6347,-673.4364 3246.2856,-669.3051\"/>\n</g>\n<!-- 67 -->\n<g id=\"node68\" class=\"node\">\n<title>67</title>\n<path fill=\"#8ec7f0\" stroke=\"#000000\" d=\"M3487,-663C3487,-663 3361,-663 3361,-663 3355,-663 3349,-657 3349,-651 3349,-651 3349,-592 3349,-592 3349,-586 3355,-580 3361,-580 3361,-580 3487,-580 3487,-580 3493,-580 3499,-586 3499,-592 3499,-592 3499,-651 3499,-651 3499,-657 3493,-663 3487,-663\"/>\n<text text-anchor=\"start\" x=\"3374.5\" y=\"-647.8\" font-family=\"Helvetica,sans-Serif\" font-size=\"14.00\" fill=\"#000000\">CCAvg ≤ 1.199</text>\n<text text-anchor=\"start\" x=\"3390.5\" y=\"-632.8\" font-family=\"Helvetica,sans-Serif\" font-size=\"14.00\" fill=\"#000000\">gini = 0.42</text>\n<text text-anchor=\"start\" x=\"3380\" y=\"-617.8\" font-family=\"Helvetica,sans-Serif\" font-size=\"14.00\" fill=\"#000000\">samples = 20</text>\n<text text-anchor=\"start\" x=\"3378.5\" y=\"-602.8\" font-family=\"Helvetica,sans-Serif\" font-size=\"14.00\" fill=\"#000000\">value = [6, 14]</text>\n<text text-anchor=\"start\" x=\"3357\" y=\"-587.8\" font-family=\"Helvetica,sans-Serif\" font-size=\"14.00\" fill=\"#000000\">class = will purchase</text>\n</g>\n<!-- 29&#45;&gt;67 -->\n<g id=\"edge67\" class=\"edge\">\n<title>29&#45;&gt;67</title>\n<path fill=\"none\" stroke=\"#000000\" d=\"M3339.4677,-698.8796C3349.6017,-689.6031 3360.434,-679.6874 3370.8465,-670.1559\"/>\n<polygon fill=\"#000000\" stroke=\"#000000\" points=\"3373.3252,-672.6319 3378.3382,-663.2981 3368.5987,-667.4685 3373.3252,-672.6319\"/>\n</g>\n<!-- 31 -->\n<g id=\"node32\" class=\"node\">\n<title>31</title>\n<path fill=\"#e88f4f\" stroke=\"#000000\" d=\"M2248,-544C2248,-544 2108,-544 2108,-544 2102,-544 2096,-538 2096,-532 2096,-532 2096,-473 2096,-473 2096,-467 2102,-461 2108,-461 2108,-461 2248,-461 2248,-461 2254,-461 2260,-467 2260,-473 2260,-473 2260,-532 2260,-532 2260,-538 2254,-544 2248,-544\"/>\n<text text-anchor=\"start\" x=\"2136.5\" y=\"-528.8\" font-family=\"Helvetica,sans-Serif\" font-size=\"14.00\" fill=\"#000000\">Age ≤ &#45;1.365</text>\n<text text-anchor=\"start\" x=\"2144.5\" y=\"-513.8\" font-family=\"Helvetica,sans-Serif\" font-size=\"14.00\" fill=\"#000000\">gini = 0.18</text>\n<text text-anchor=\"start\" x=\"2130\" y=\"-498.8\" font-family=\"Helvetica,sans-Serif\" font-size=\"14.00\" fill=\"#000000\">samples = 130</text>\n<text text-anchor=\"start\" x=\"2124\" y=\"-483.8\" font-family=\"Helvetica,sans-Serif\" font-size=\"14.00\" fill=\"#000000\">value = [117, 13]</text>\n<text text-anchor=\"start\" x=\"2104\" y=\"-468.8\" font-family=\"Helvetica,sans-Serif\" font-size=\"14.00\" fill=\"#000000\">class = won&#39;t purchase</text>\n</g>\n<!-- 30&#45;&gt;31 -->\n<g id=\"edge31\" class=\"edge\">\n<title>30&#45;&gt;31</title>\n<path fill=\"none\" stroke=\"#000000\" d=\"M3124.9645,-612.0129C2935.6603,-590.1206 2469.3303,-536.1913 2270.3687,-513.1821\"/>\n<polygon fill=\"#000000\" stroke=\"#000000\" points=\"2270.5719,-509.6823 2260.236,-512.0103 2269.7677,-516.636 2270.5719,-509.6823\"/>\n</g>\n<!-- 50 -->\n<g id=\"node51\" class=\"node\">\n<title>50</title>\n<path fill=\"#f3c4a2\" stroke=\"#000000\" d=\"M3277,-544C3277,-544 3137,-544 3137,-544 3131,-544 3125,-538 3125,-532 3125,-532 3125,-473 3125,-473 3125,-467 3131,-461 3137,-461 3137,-461 3277,-461 3277,-461 3283,-461 3289,-467 3289,-473 3289,-473 3289,-532 3289,-532 3289,-538 3283,-544 3277,-544\"/>\n<text text-anchor=\"start\" x=\"3146\" y=\"-528.8\" font-family=\"Helvetica,sans-Serif\" font-size=\"14.00\" fill=\"#000000\">Education ≤ &#45;0.441</text>\n<text text-anchor=\"start\" x=\"3169\" y=\"-513.8\" font-family=\"Helvetica,sans-Serif\" font-size=\"14.00\" fill=\"#000000\">gini = 0.452</text>\n<text text-anchor=\"start\" x=\"3163\" y=\"-498.8\" font-family=\"Helvetica,sans-Serif\" font-size=\"14.00\" fill=\"#000000\">samples = 81</text>\n<text text-anchor=\"start\" x=\"3157\" y=\"-483.8\" font-family=\"Helvetica,sans-Serif\" font-size=\"14.00\" fill=\"#000000\">value = [53, 28]</text>\n<text text-anchor=\"start\" x=\"3133\" y=\"-468.8\" font-family=\"Helvetica,sans-Serif\" font-size=\"14.00\" fill=\"#000000\">class = won&#39;t purchase</text>\n</g>\n<!-- 30&#45;&gt;50 -->\n<g id=\"edge50\" class=\"edge\">\n<title>30&#45;&gt;50</title>\n<path fill=\"none\" stroke=\"#000000\" d=\"M3207,-579.8796C3207,-571.6838 3207,-562.9891 3207,-554.5013\"/>\n<polygon fill=\"#000000\" stroke=\"#000000\" points=\"3210.5001,-554.298 3207,-544.2981 3203.5001,-554.2981 3210.5001,-554.298\"/>\n</g>\n<!-- 32 -->\n<g id=\"node33\" class=\"node\">\n<title>32</title>\n<path fill=\"#7bbeee\" stroke=\"#000000\" d=\"M1947,-425C1947,-425 1821,-425 1821,-425 1815,-425 1809,-419 1809,-413 1809,-413 1809,-354 1809,-354 1809,-348 1815,-342 1821,-342 1821,-342 1947,-342 1947,-342 1953,-342 1959,-348 1959,-354 1959,-354 1959,-413 1959,-413 1959,-419 1953,-425 1947,-425\"/>\n<text text-anchor=\"start\" x=\"1834\" y=\"-409.8\" font-family=\"Helvetica,sans-Serif\" font-size=\"14.00\" fill=\"#000000\">Income ≤ 0.581</text>\n<text text-anchor=\"start\" x=\"1846\" y=\"-394.8\" font-family=\"Helvetica,sans-Serif\" font-size=\"14.00\" fill=\"#000000\">gini = 0.375</text>\n<text text-anchor=\"start\" x=\"1844.5\" y=\"-379.8\" font-family=\"Helvetica,sans-Serif\" font-size=\"14.00\" fill=\"#000000\">samples = 4</text>\n<text text-anchor=\"start\" x=\"1842.5\" y=\"-364.8\" font-family=\"Helvetica,sans-Serif\" font-size=\"14.00\" fill=\"#000000\">value = [1, 3]</text>\n<text text-anchor=\"start\" x=\"1817\" y=\"-349.8\" font-family=\"Helvetica,sans-Serif\" font-size=\"14.00\" fill=\"#000000\">class = will purchase</text>\n</g>\n<!-- 31&#45;&gt;32 -->\n<g id=\"edge32\" class=\"edge\">\n<title>31&#45;&gt;32</title>\n<path fill=\"none\" stroke=\"#000000\" d=\"M2095.7137,-469.1936C2056.0826,-453.1525 2008.611,-433.9378 1968.6726,-417.7722\"/>\n<polygon fill=\"#000000\" stroke=\"#000000\" points=\"1969.8029,-414.454 1959.2203,-413.9463 1967.1766,-420.9426 1969.8029,-414.454\"/>\n</g>\n<!-- 35 -->\n<g id=\"node36\" class=\"node\">\n<title>35</title>\n<path fill=\"#e78c4a\" stroke=\"#000000\" d=\"M2248,-425C2248,-425 2108,-425 2108,-425 2102,-425 2096,-419 2096,-413 2096,-413 2096,-354 2096,-354 2096,-348 2102,-342 2108,-342 2108,-342 2248,-342 2248,-342 2254,-342 2260,-348 2260,-354 2260,-354 2260,-413 2260,-413 2260,-419 2254,-425 2248,-425\"/>\n<text text-anchor=\"start\" x=\"2128.5\" y=\"-409.8\" font-family=\"Helvetica,sans-Serif\" font-size=\"14.00\" fill=\"#000000\">CCAvg ≤ 1.078</text>\n<text text-anchor=\"start\" x=\"2140\" y=\"-394.8\" font-family=\"Helvetica,sans-Serif\" font-size=\"14.00\" fill=\"#000000\">gini = 0.146</text>\n<text text-anchor=\"start\" x=\"2130\" y=\"-379.8\" font-family=\"Helvetica,sans-Serif\" font-size=\"14.00\" fill=\"#000000\">samples = 126</text>\n<text text-anchor=\"start\" x=\"2124\" y=\"-364.8\" font-family=\"Helvetica,sans-Serif\" font-size=\"14.00\" fill=\"#000000\">value = [116, 10]</text>\n<text text-anchor=\"start\" x=\"2104\" y=\"-349.8\" font-family=\"Helvetica,sans-Serif\" font-size=\"14.00\" fill=\"#000000\">class = won&#39;t purchase</text>\n</g>\n<!-- 31&#45;&gt;35 -->\n<g id=\"edge35\" class=\"edge\">\n<title>31&#45;&gt;35</title>\n<path fill=\"none\" stroke=\"#000000\" d=\"M2178,-460.8796C2178,-452.6838 2178,-443.9891 2178,-435.5013\"/>\n<polygon fill=\"#000000\" stroke=\"#000000\" points=\"2181.5001,-435.298 2178,-425.2981 2174.5001,-435.2981 2181.5001,-435.298\"/>\n</g>\n<!-- 33 -->\n<g id=\"node34\" class=\"node\">\n<title>33</title>\n<path fill=\"#399de5\" stroke=\"#000000\" d=\"M1772,-298.5C1772,-298.5 1646,-298.5 1646,-298.5 1640,-298.5 1634,-292.5 1634,-286.5 1634,-286.5 1634,-242.5 1634,-242.5 1634,-236.5 1640,-230.5 1646,-230.5 1646,-230.5 1772,-230.5 1772,-230.5 1778,-230.5 1784,-236.5 1784,-242.5 1784,-242.5 1784,-286.5 1784,-286.5 1784,-292.5 1778,-298.5 1772,-298.5\"/>\n<text text-anchor=\"start\" x=\"1679.5\" y=\"-283.3\" font-family=\"Helvetica,sans-Serif\" font-size=\"14.00\" fill=\"#000000\">gini = 0.0</text>\n<text text-anchor=\"start\" x=\"1669.5\" y=\"-268.3\" font-family=\"Helvetica,sans-Serif\" font-size=\"14.00\" fill=\"#000000\">samples = 3</text>\n<text text-anchor=\"start\" x=\"1667.5\" y=\"-253.3\" font-family=\"Helvetica,sans-Serif\" font-size=\"14.00\" fill=\"#000000\">value = [0, 3]</text>\n<text text-anchor=\"start\" x=\"1642\" y=\"-238.3\" font-family=\"Helvetica,sans-Serif\" font-size=\"14.00\" fill=\"#000000\">class = will purchase</text>\n</g>\n<!-- 32&#45;&gt;33 -->\n<g id=\"edge33\" class=\"edge\">\n<title>32&#45;&gt;33</title>\n<path fill=\"none\" stroke=\"#000000\" d=\"M1822.7935,-341.8796C1804.921,-329.7263 1785.4351,-316.4759 1767.7202,-304.4297\"/>\n<polygon fill=\"#000000\" stroke=\"#000000\" points=\"1769.4183,-301.3519 1759.1809,-298.623 1765.4821,-307.1404 1769.4183,-301.3519\"/>\n</g>\n<!-- 34 -->\n<g id=\"node35\" class=\"node\">\n<title>34</title>\n<path fill=\"#e58139\" stroke=\"#000000\" d=\"M1954,-298.5C1954,-298.5 1814,-298.5 1814,-298.5 1808,-298.5 1802,-292.5 1802,-286.5 1802,-286.5 1802,-242.5 1802,-242.5 1802,-236.5 1808,-230.5 1814,-230.5 1814,-230.5 1954,-230.5 1954,-230.5 1960,-230.5 1966,-236.5 1966,-242.5 1966,-242.5 1966,-286.5 1966,-286.5 1966,-292.5 1960,-298.5 1954,-298.5\"/>\n<text text-anchor=\"start\" x=\"1854.5\" y=\"-283.3\" font-family=\"Helvetica,sans-Serif\" font-size=\"14.00\" fill=\"#000000\">gini = 0.0</text>\n<text text-anchor=\"start\" x=\"1844.5\" y=\"-268.3\" font-family=\"Helvetica,sans-Serif\" font-size=\"14.00\" fill=\"#000000\">samples = 1</text>\n<text text-anchor=\"start\" x=\"1842.5\" y=\"-253.3\" font-family=\"Helvetica,sans-Serif\" font-size=\"14.00\" fill=\"#000000\">value = [1, 0]</text>\n<text text-anchor=\"start\" x=\"1810\" y=\"-238.3\" font-family=\"Helvetica,sans-Serif\" font-size=\"14.00\" fill=\"#000000\">class = won&#39;t purchase</text>\n</g>\n<!-- 32&#45;&gt;34 -->\n<g id=\"edge34\" class=\"edge\">\n<title>32&#45;&gt;34</title>\n<path fill=\"none\" stroke=\"#000000\" d=\"M1884,-341.8796C1884,-331.2134 1884,-319.7021 1884,-308.9015\"/>\n<polygon fill=\"#000000\" stroke=\"#000000\" points=\"1887.5001,-308.8149 1884,-298.8149 1880.5001,-308.815 1887.5001,-308.8149\"/>\n</g>\n<!-- 36 -->\n<g id=\"node37\" class=\"node\">\n<title>36</title>\n<path fill=\"#eb9d65\" stroke=\"#000000\" d=\"M2136,-306C2136,-306 1996,-306 1996,-306 1990,-306 1984,-300 1984,-294 1984,-294 1984,-235 1984,-235 1984,-229 1990,-223 1996,-223 1996,-223 2136,-223 2136,-223 2142,-223 2148,-229 2148,-235 2148,-235 2148,-294 2148,-294 2148,-300 2142,-306 2136,-306\"/>\n<text text-anchor=\"start\" x=\"2016\" y=\"-290.8\" font-family=\"Helvetica,sans-Serif\" font-size=\"14.00\" fill=\"#000000\">Income ≤ 0.413</text>\n<text text-anchor=\"start\" x=\"2028\" y=\"-275.8\" font-family=\"Helvetica,sans-Serif\" font-size=\"14.00\" fill=\"#000000\">gini = 0.298</text>\n<text text-anchor=\"start\" x=\"2022\" y=\"-260.8\" font-family=\"Helvetica,sans-Serif\" font-size=\"14.00\" fill=\"#000000\">samples = 44</text>\n<text text-anchor=\"start\" x=\"2020.5\" y=\"-245.8\" font-family=\"Helvetica,sans-Serif\" font-size=\"14.00\" fill=\"#000000\">value = [36, 8]</text>\n<text text-anchor=\"start\" x=\"1992\" y=\"-230.8\" font-family=\"Helvetica,sans-Serif\" font-size=\"14.00\" fill=\"#000000\">class = won&#39;t purchase</text>\n</g>\n<!-- 35&#45;&gt;36 -->\n<g id=\"edge36\" class=\"edge\">\n<title>35&#45;&gt;36</title>\n<path fill=\"none\" stroke=\"#000000\" d=\"M2138.8278,-341.8796C2130.2665,-332.7832 2121.1268,-323.0722 2112.3168,-313.7116\"/>\n<polygon fill=\"#000000\" stroke=\"#000000\" points=\"2114.7417,-311.1813 2105.3394,-306.2981 2109.6443,-315.9789 2114.7417,-311.1813\"/>\n</g>\n<!-- 43 -->\n<g id=\"node44\" class=\"node\">\n<title>43</title>\n<path fill=\"#e6843e\" stroke=\"#000000\" d=\"M2360,-306C2360,-306 2220,-306 2220,-306 2214,-306 2208,-300 2208,-294 2208,-294 2208,-235 2208,-235 2208,-229 2214,-223 2220,-223 2220,-223 2360,-223 2360,-223 2366,-223 2372,-229 2372,-235 2372,-235 2372,-294 2372,-294 2372,-300 2366,-306 2360,-306\"/>\n<text text-anchor=\"start\" x=\"2250.5\" y=\"-290.8\" font-family=\"Helvetica,sans-Serif\" font-size=\"14.00\" fill=\"#000000\">Age ≤ 1.077</text>\n<text text-anchor=\"start\" x=\"2252\" y=\"-275.8\" font-family=\"Helvetica,sans-Serif\" font-size=\"14.00\" fill=\"#000000\">gini = 0.048</text>\n<text text-anchor=\"start\" x=\"2246\" y=\"-260.8\" font-family=\"Helvetica,sans-Serif\" font-size=\"14.00\" fill=\"#000000\">samples = 82</text>\n<text text-anchor=\"start\" x=\"2244.5\" y=\"-245.8\" font-family=\"Helvetica,sans-Serif\" font-size=\"14.00\" fill=\"#000000\">value = [80, 2]</text>\n<text text-anchor=\"start\" x=\"2216\" y=\"-230.8\" font-family=\"Helvetica,sans-Serif\" font-size=\"14.00\" fill=\"#000000\">class = won&#39;t purchase</text>\n</g>\n<!-- 35&#45;&gt;43 -->\n<g id=\"edge43\" class=\"edge\">\n<title>35&#45;&gt;43</title>\n<path fill=\"none\" stroke=\"#000000\" d=\"M2217.1722,-341.8796C2225.7335,-332.7832 2234.8732,-323.0722 2243.6832,-313.7116\"/>\n<polygon fill=\"#000000\" stroke=\"#000000\" points=\"2246.3557,-315.9789 2250.6606,-306.2981 2241.2583,-311.1813 2246.3557,-315.9789\"/>\n</g>\n<!-- 37 -->\n<g id=\"node38\" class=\"node\">\n<title>37</title>\n<path fill=\"#e88e4d\" stroke=\"#000000\" d=\"M1745.5,-187C1745.5,-187 1602.5,-187 1602.5,-187 1596.5,-187 1590.5,-181 1590.5,-175 1590.5,-175 1590.5,-116 1590.5,-116 1590.5,-110 1596.5,-104 1602.5,-104 1602.5,-104 1745.5,-104 1745.5,-104 1751.5,-104 1757.5,-110 1757.5,-116 1757.5,-116 1757.5,-175 1757.5,-175 1757.5,-181 1751.5,-187 1745.5,-187\"/>\n<text text-anchor=\"start\" x=\"1598.5\" y=\"-171.8\" font-family=\"Helvetica,sans-Serif\" font-size=\"14.00\" fill=\"#000000\">Mortgage_New ≤ 1.263</text>\n<text text-anchor=\"start\" x=\"1636\" y=\"-156.8\" font-family=\"Helvetica,sans-Serif\" font-size=\"14.00\" fill=\"#000000\">gini = 0.165</text>\n<text text-anchor=\"start\" x=\"1630\" y=\"-141.8\" font-family=\"Helvetica,sans-Serif\" font-size=\"14.00\" fill=\"#000000\">samples = 33</text>\n<text text-anchor=\"start\" x=\"1628.5\" y=\"-126.8\" font-family=\"Helvetica,sans-Serif\" font-size=\"14.00\" fill=\"#000000\">value = [30, 3]</text>\n<text text-anchor=\"start\" x=\"1600\" y=\"-111.8\" font-family=\"Helvetica,sans-Serif\" font-size=\"14.00\" fill=\"#000000\">class = won&#39;t purchase</text>\n</g>\n<!-- 36&#45;&gt;37 -->\n<g id=\"edge37\" class=\"edge\">\n<title>36&#45;&gt;37</title>\n<path fill=\"none\" stroke=\"#000000\" d=\"M1983.927,-226.2888C1980.9288,-225.1429 1977.9467,-224.0421 1975,-223 1906.8102,-198.8837 1827.51,-178.7753 1767.4276,-165.0891\"/>\n<polygon fill=\"#000000\" stroke=\"#000000\" points=\"1768.1026,-161.6535 1757.5771,-162.8635 1766.5599,-168.4814 1768.1026,-161.6535\"/>\n</g>\n<!-- 40 -->\n<g id=\"node41\" class=\"node\">\n<title>40</title>\n<path fill=\"#fbeade\" stroke=\"#000000\" d=\"M2094,-187C2094,-187 1954,-187 1954,-187 1948,-187 1942,-181 1942,-175 1942,-175 1942,-116 1942,-116 1942,-110 1948,-104 1954,-104 1954,-104 2094,-104 2094,-104 2100,-104 2106,-110 2106,-116 2106,-116 2106,-175 2106,-175 2106,-181 2100,-187 2094,-187\"/>\n<text text-anchor=\"start\" x=\"1974\" y=\"-171.8\" font-family=\"Helvetica,sans-Serif\" font-size=\"14.00\" fill=\"#000000\">Income ≤ 0.442</text>\n<text text-anchor=\"start\" x=\"1986\" y=\"-156.8\" font-family=\"Helvetica,sans-Serif\" font-size=\"14.00\" fill=\"#000000\">gini = 0.496</text>\n<text text-anchor=\"start\" x=\"1980\" y=\"-141.8\" font-family=\"Helvetica,sans-Serif\" font-size=\"14.00\" fill=\"#000000\">samples = 11</text>\n<text text-anchor=\"start\" x=\"1982.5\" y=\"-126.8\" font-family=\"Helvetica,sans-Serif\" font-size=\"14.00\" fill=\"#000000\">value = [6, 5]</text>\n<text text-anchor=\"start\" x=\"1950\" y=\"-111.8\" font-family=\"Helvetica,sans-Serif\" font-size=\"14.00\" fill=\"#000000\">class = won&#39;t purchase</text>\n</g>\n<!-- 36&#45;&gt;40 -->\n<g id=\"edge40\" class=\"edge\">\n<title>36&#45;&gt;40</title>\n<path fill=\"none\" stroke=\"#000000\" d=\"M2051.3104,-222.8796C2048.3542,-214.5037 2045.2141,-205.6067 2042.156,-196.942\"/>\n<polygon fill=\"#000000\" stroke=\"#000000\" points=\"2045.381,-195.5631 2038.7523,-187.2981 2038.7801,-197.8929 2045.381,-195.5631\"/>\n</g>\n<!-- 38 -->\n<g id=\"node39\" class=\"node\">\n<title>38</title>\n<path fill=\"#e78a47\" stroke=\"#000000\" d=\"M1562,-68C1562,-68 1422,-68 1422,-68 1416,-68 1410,-62 1410,-56 1410,-56 1410,-12 1410,-12 1410,-6 1416,0 1422,0 1422,0 1562,0 1562,0 1568,0 1574,-6 1574,-12 1574,-12 1574,-56 1574,-56 1574,-62 1568,-68 1562,-68\"/>\n<text text-anchor=\"start\" x=\"1454\" y=\"-52.8\" font-family=\"Helvetica,sans-Serif\" font-size=\"14.00\" fill=\"#000000\">gini = 0.121</text>\n<text text-anchor=\"start\" x=\"1448\" y=\"-37.8\" font-family=\"Helvetica,sans-Serif\" font-size=\"14.00\" fill=\"#000000\">samples = 31</text>\n<text text-anchor=\"start\" x=\"1446.5\" y=\"-22.8\" font-family=\"Helvetica,sans-Serif\" font-size=\"14.00\" fill=\"#000000\">value = [29, 2]</text>\n<text text-anchor=\"start\" x=\"1418\" y=\"-7.8\" font-family=\"Helvetica,sans-Serif\" font-size=\"14.00\" fill=\"#000000\">class = won&#39;t purchase</text>\n</g>\n<!-- 37&#45;&gt;38 -->\n<g id=\"edge38\" class=\"edge\">\n<title>37&#45;&gt;38</title>\n<path fill=\"none\" stroke=\"#000000\" d=\"M1606.2299,-103.9815C1589.9427,-94.0034 1572.5915,-83.3733 1556.4597,-73.4904\"/>\n<polygon fill=\"#000000\" stroke=\"#000000\" points=\"1557.993,-70.3252 1547.6375,-68.0856 1554.3362,-76.2941 1557.993,-70.3252\"/>\n</g>\n<!-- 39 -->\n<g id=\"node40\" class=\"node\">\n<title>39</title>\n<path fill=\"#ffffff\" stroke=\"#000000\" d=\"M1744,-68C1744,-68 1604,-68 1604,-68 1598,-68 1592,-62 1592,-56 1592,-56 1592,-12 1592,-12 1592,-6 1598,0 1604,0 1604,0 1744,0 1744,0 1750,0 1756,-6 1756,-12 1756,-12 1756,-56 1756,-56 1756,-62 1750,-68 1744,-68\"/>\n<text text-anchor=\"start\" x=\"1644.5\" y=\"-52.8\" font-family=\"Helvetica,sans-Serif\" font-size=\"14.00\" fill=\"#000000\">gini = 0.5</text>\n<text text-anchor=\"start\" x=\"1634.5\" y=\"-37.8\" font-family=\"Helvetica,sans-Serif\" font-size=\"14.00\" fill=\"#000000\">samples = 2</text>\n<text text-anchor=\"start\" x=\"1632.5\" y=\"-22.8\" font-family=\"Helvetica,sans-Serif\" font-size=\"14.00\" fill=\"#000000\">value = [1, 1]</text>\n<text text-anchor=\"start\" x=\"1600\" y=\"-7.8\" font-family=\"Helvetica,sans-Serif\" font-size=\"14.00\" fill=\"#000000\">class = won&#39;t purchase</text>\n</g>\n<!-- 37&#45;&gt;39 -->\n<g id=\"edge39\" class=\"edge\">\n<title>37&#45;&gt;39</title>\n<path fill=\"none\" stroke=\"#000000\" d=\"M1674,-103.9815C1674,-95.618 1674,-86.7965 1674,-78.3409\"/>\n<polygon fill=\"#000000\" stroke=\"#000000\" points=\"1677.5001,-78.2636 1674,-68.2637 1670.5001,-78.2637 1677.5001,-78.2636\"/>\n</g>\n<!-- 41 -->\n<g id=\"node42\" class=\"node\">\n<title>41</title>\n<path fill=\"#9ccef2\" stroke=\"#000000\" d=\"M1912,-68C1912,-68 1786,-68 1786,-68 1780,-68 1774,-62 1774,-56 1774,-56 1774,-12 1774,-12 1774,-6 1780,0 1786,0 1786,0 1912,0 1912,0 1918,0 1924,-6 1924,-12 1924,-12 1924,-56 1924,-56 1924,-62 1918,-68 1912,-68\"/>\n<text text-anchor=\"start\" x=\"1811\" y=\"-52.8\" font-family=\"Helvetica,sans-Serif\" font-size=\"14.00\" fill=\"#000000\">gini = 0.444</text>\n<text text-anchor=\"start\" x=\"1809.5\" y=\"-37.8\" font-family=\"Helvetica,sans-Serif\" font-size=\"14.00\" fill=\"#000000\">samples = 6</text>\n<text text-anchor=\"start\" x=\"1807.5\" y=\"-22.8\" font-family=\"Helvetica,sans-Serif\" font-size=\"14.00\" fill=\"#000000\">value = [2, 4]</text>\n<text text-anchor=\"start\" x=\"1782\" y=\"-7.8\" font-family=\"Helvetica,sans-Serif\" font-size=\"14.00\" fill=\"#000000\">class = will purchase</text>\n</g>\n<!-- 40&#45;&gt;41 -->\n<g id=\"edge41\" class=\"edge\">\n<title>40&#45;&gt;41</title>\n<path fill=\"none\" stroke=\"#000000\" d=\"M1958.8365,-103.9815C1943.1757,-94.0034 1926.4918,-83.3733 1910.9805,-73.4904\"/>\n<polygon fill=\"#000000\" stroke=\"#000000\" points=\"1912.812,-70.5073 1902.4976,-68.0856 1909.0506,-76.4109 1912.812,-70.5073\"/>\n</g>\n<!-- 42 -->\n<g id=\"node43\" class=\"node\">\n<title>42</title>\n<path fill=\"#eca06a\" stroke=\"#000000\" d=\"M2094,-68C2094,-68 1954,-68 1954,-68 1948,-68 1942,-62 1942,-56 1942,-56 1942,-12 1942,-12 1942,-6 1948,0 1954,0 1954,0 2094,0 2094,0 2100,0 2106,-6 2106,-12 2106,-12 2106,-56 2106,-56 2106,-62 2100,-68 2094,-68\"/>\n<text text-anchor=\"start\" x=\"1990.5\" y=\"-52.8\" font-family=\"Helvetica,sans-Serif\" font-size=\"14.00\" fill=\"#000000\">gini = 0.32</text>\n<text text-anchor=\"start\" x=\"1984.5\" y=\"-37.8\" font-family=\"Helvetica,sans-Serif\" font-size=\"14.00\" fill=\"#000000\">samples = 5</text>\n<text text-anchor=\"start\" x=\"1982.5\" y=\"-22.8\" font-family=\"Helvetica,sans-Serif\" font-size=\"14.00\" fill=\"#000000\">value = [4, 1]</text>\n<text text-anchor=\"start\" x=\"1950\" y=\"-7.8\" font-family=\"Helvetica,sans-Serif\" font-size=\"14.00\" fill=\"#000000\">class = won&#39;t purchase</text>\n</g>\n<!-- 40&#45;&gt;42 -->\n<g id=\"edge42\" class=\"edge\">\n<title>40&#45;&gt;42</title>\n<path fill=\"none\" stroke=\"#000000\" d=\"M2024,-103.9815C2024,-95.618 2024,-86.7965 2024,-78.3409\"/>\n<polygon fill=\"#000000\" stroke=\"#000000\" points=\"2027.5001,-78.2636 2024,-68.2637 2020.5001,-78.2637 2027.5001,-78.2636\"/>\n</g>\n<!-- 44 -->\n<g id=\"node45\" class=\"node\">\n<title>44</title>\n<path fill=\"#e5833c\" stroke=\"#000000\" d=\"M2360,-187C2360,-187 2220,-187 2220,-187 2214,-187 2208,-181 2208,-175 2208,-175 2208,-116 2208,-116 2208,-110 2214,-104 2220,-104 2220,-104 2360,-104 2360,-104 2366,-104 2372,-110 2372,-116 2372,-116 2372,-175 2372,-175 2372,-181 2366,-187 2360,-187\"/>\n<text text-anchor=\"start\" x=\"2250.5\" y=\"-171.8\" font-family=\"Helvetica,sans-Serif\" font-size=\"14.00\" fill=\"#000000\">Age ≤ 0.684</text>\n<text text-anchor=\"start\" x=\"2252\" y=\"-156.8\" font-family=\"Helvetica,sans-Serif\" font-size=\"14.00\" fill=\"#000000\">gini = 0.026</text>\n<text text-anchor=\"start\" x=\"2246\" y=\"-141.8\" font-family=\"Helvetica,sans-Serif\" font-size=\"14.00\" fill=\"#000000\">samples = 75</text>\n<text text-anchor=\"start\" x=\"2244.5\" y=\"-126.8\" font-family=\"Helvetica,sans-Serif\" font-size=\"14.00\" fill=\"#000000\">value = [74, 1]</text>\n<text text-anchor=\"start\" x=\"2216\" y=\"-111.8\" font-family=\"Helvetica,sans-Serif\" font-size=\"14.00\" fill=\"#000000\">class = won&#39;t purchase</text>\n</g>\n<!-- 43&#45;&gt;44 -->\n<g id=\"edge44\" class=\"edge\">\n<title>43&#45;&gt;44</title>\n<path fill=\"none\" stroke=\"#000000\" d=\"M2290,-222.8796C2290,-214.6838 2290,-205.9891 2290,-197.5013\"/>\n<polygon fill=\"#000000\" stroke=\"#000000\" points=\"2293.5001,-197.298 2290,-187.2981 2286.5001,-197.2981 2293.5001,-197.298\"/>\n</g>\n<!-- 47 -->\n<g id=\"node48\" class=\"node\">\n<title>47</title>\n<path fill=\"#e9965a\" stroke=\"#000000\" d=\"M2626,-187C2626,-187 2486,-187 2486,-187 2480,-187 2474,-181 2474,-175 2474,-175 2474,-116 2474,-116 2474,-110 2480,-104 2486,-104 2486,-104 2626,-104 2626,-104 2632,-104 2638,-110 2638,-116 2638,-116 2638,-175 2638,-175 2638,-181 2632,-187 2626,-187\"/>\n<text text-anchor=\"start\" x=\"2506.5\" y=\"-171.8\" font-family=\"Helvetica,sans-Serif\" font-size=\"14.00\" fill=\"#000000\">CCAvg ≤ 1.149</text>\n<text text-anchor=\"start\" x=\"2518\" y=\"-156.8\" font-family=\"Helvetica,sans-Serif\" font-size=\"14.00\" fill=\"#000000\">gini = 0.245</text>\n<text text-anchor=\"start\" x=\"2516.5\" y=\"-141.8\" font-family=\"Helvetica,sans-Serif\" font-size=\"14.00\" fill=\"#000000\">samples = 7</text>\n<text text-anchor=\"start\" x=\"2514.5\" y=\"-126.8\" font-family=\"Helvetica,sans-Serif\" font-size=\"14.00\" fill=\"#000000\">value = [6, 1]</text>\n<text text-anchor=\"start\" x=\"2482\" y=\"-111.8\" font-family=\"Helvetica,sans-Serif\" font-size=\"14.00\" fill=\"#000000\">class = won&#39;t purchase</text>\n</g>\n<!-- 43&#45;&gt;47 -->\n<g id=\"edge47\" class=\"edge\">\n<title>43&#45;&gt;47</title>\n<path fill=\"none\" stroke=\"#000000\" d=\"M2372.3424,-227.6626C2401.5188,-214.61 2434.519,-199.8468 2464.4172,-186.4712\"/>\n<polygon fill=\"#000000\" stroke=\"#000000\" points=\"2465.8899,-189.6468 2473.5888,-182.3682 2463.0313,-183.257 2465.8899,-189.6468\"/>\n</g>\n<!-- 45 -->\n<g id=\"node46\" class=\"node\">\n<title>45</title>\n<path fill=\"#e58139\" stroke=\"#000000\" d=\"M2276,-68C2276,-68 2136,-68 2136,-68 2130,-68 2124,-62 2124,-56 2124,-56 2124,-12 2124,-12 2124,-6 2130,0 2136,0 2136,0 2276,0 2276,0 2282,0 2288,-6 2288,-12 2288,-12 2288,-56 2288,-56 2288,-62 2282,-68 2276,-68\"/>\n<text text-anchor=\"start\" x=\"2176.5\" y=\"-52.8\" font-family=\"Helvetica,sans-Serif\" font-size=\"14.00\" fill=\"#000000\">gini = 0.0</text>\n<text text-anchor=\"start\" x=\"2162\" y=\"-37.8\" font-family=\"Helvetica,sans-Serif\" font-size=\"14.00\" fill=\"#000000\">samples = 49</text>\n<text text-anchor=\"start\" x=\"2160.5\" y=\"-22.8\" font-family=\"Helvetica,sans-Serif\" font-size=\"14.00\" fill=\"#000000\">value = [49, 0]</text>\n<text text-anchor=\"start\" x=\"2132\" y=\"-7.8\" font-family=\"Helvetica,sans-Serif\" font-size=\"14.00\" fill=\"#000000\">class = won&#39;t purchase</text>\n</g>\n<!-- 44&#45;&gt;45 -->\n<g id=\"edge45\" class=\"edge\">\n<title>44&#45;&gt;45</title>\n<path fill=\"none\" stroke=\"#000000\" d=\"M2258.7215,-103.9815C2251.9361,-94.9747 2244.7505,-85.4367 2237.9399,-76.3965\"/>\n<polygon fill=\"#000000\" stroke=\"#000000\" points=\"2240.6257,-74.1448 2231.813,-68.2637 2235.0347,-78.3568 2240.6257,-74.1448\"/>\n</g>\n<!-- 46 -->\n<g id=\"node47\" class=\"node\">\n<title>46</title>\n<path fill=\"#e68641\" stroke=\"#000000\" d=\"M2458,-68C2458,-68 2318,-68 2318,-68 2312,-68 2306,-62 2306,-56 2306,-56 2306,-12 2306,-12 2306,-6 2312,0 2318,0 2318,0 2458,0 2458,0 2464,0 2470,-6 2470,-12 2470,-12 2470,-56 2470,-56 2470,-62 2464,-68 2458,-68\"/>\n<text text-anchor=\"start\" x=\"2350\" y=\"-52.8\" font-family=\"Helvetica,sans-Serif\" font-size=\"14.00\" fill=\"#000000\">gini = 0.074</text>\n<text text-anchor=\"start\" x=\"2344\" y=\"-37.8\" font-family=\"Helvetica,sans-Serif\" font-size=\"14.00\" fill=\"#000000\">samples = 26</text>\n<text text-anchor=\"start\" x=\"2342.5\" y=\"-22.8\" font-family=\"Helvetica,sans-Serif\" font-size=\"14.00\" fill=\"#000000\">value = [25, 1]</text>\n<text text-anchor=\"start\" x=\"2314\" y=\"-7.8\" font-family=\"Helvetica,sans-Serif\" font-size=\"14.00\" fill=\"#000000\">class = won&#39;t purchase</text>\n</g>\n<!-- 44&#45;&gt;46 -->\n<g id=\"edge46\" class=\"edge\">\n<title>44&#45;&gt;46</title>\n<path fill=\"none\" stroke=\"#000000\" d=\"M2326.4916,-103.9815C2334.5695,-94.7908 2343.1334,-85.0472 2351.2226,-75.8436\"/>\n<polygon fill=\"#000000\" stroke=\"#000000\" points=\"2353.912,-78.0855 2357.8848,-68.2637 2348.6542,-73.4642 2353.912,-78.0855\"/>\n</g>\n<!-- 48 -->\n<g id=\"node49\" class=\"node\">\n<title>48</title>\n<path fill=\"#399de5\" stroke=\"#000000\" d=\"M2626,-68C2626,-68 2500,-68 2500,-68 2494,-68 2488,-62 2488,-56 2488,-56 2488,-12 2488,-12 2488,-6 2494,0 2500,0 2500,0 2626,0 2626,0 2632,0 2638,-6 2638,-12 2638,-12 2638,-56 2638,-56 2638,-62 2632,-68 2626,-68\"/>\n<text text-anchor=\"start\" x=\"2533.5\" y=\"-52.8\" font-family=\"Helvetica,sans-Serif\" font-size=\"14.00\" fill=\"#000000\">gini = 0.0</text>\n<text text-anchor=\"start\" x=\"2523.5\" y=\"-37.8\" font-family=\"Helvetica,sans-Serif\" font-size=\"14.00\" fill=\"#000000\">samples = 1</text>\n<text text-anchor=\"start\" x=\"2521.5\" y=\"-22.8\" font-family=\"Helvetica,sans-Serif\" font-size=\"14.00\" fill=\"#000000\">value = [0, 1]</text>\n<text text-anchor=\"start\" x=\"2496\" y=\"-7.8\" font-family=\"Helvetica,sans-Serif\" font-size=\"14.00\" fill=\"#000000\">class = will purchase</text>\n</g>\n<!-- 47&#45;&gt;48 -->\n<g id=\"edge48\" class=\"edge\">\n<title>47&#45;&gt;48</title>\n<path fill=\"none\" stroke=\"#000000\" d=\"M2558.6065,-103.9815C2559.1316,-95.618 2559.6854,-86.7965 2560.2163,-78.3409\"/>\n<polygon fill=\"#000000\" stroke=\"#000000\" points=\"2563.7154,-78.4634 2560.8489,-68.2637 2556.7291,-78.0247 2563.7154,-78.4634\"/>\n</g>\n<!-- 49 -->\n<g id=\"node50\" class=\"node\">\n<title>49</title>\n<path fill=\"#e58139\" stroke=\"#000000\" d=\"M2808,-68C2808,-68 2668,-68 2668,-68 2662,-68 2656,-62 2656,-56 2656,-56 2656,-12 2656,-12 2656,-6 2662,0 2668,0 2668,0 2808,0 2808,0 2814,0 2820,-6 2820,-12 2820,-12 2820,-56 2820,-56 2820,-62 2814,-68 2808,-68\"/>\n<text text-anchor=\"start\" x=\"2708.5\" y=\"-52.8\" font-family=\"Helvetica,sans-Serif\" font-size=\"14.00\" fill=\"#000000\">gini = 0.0</text>\n<text text-anchor=\"start\" x=\"2698.5\" y=\"-37.8\" font-family=\"Helvetica,sans-Serif\" font-size=\"14.00\" fill=\"#000000\">samples = 6</text>\n<text text-anchor=\"start\" x=\"2696.5\" y=\"-22.8\" font-family=\"Helvetica,sans-Serif\" font-size=\"14.00\" fill=\"#000000\">value = [6, 0]</text>\n<text text-anchor=\"start\" x=\"2664\" y=\"-7.8\" font-family=\"Helvetica,sans-Serif\" font-size=\"14.00\" fill=\"#000000\">class = won&#39;t purchase</text>\n</g>\n<!-- 47&#45;&gt;49 -->\n<g id=\"edge49\" class=\"edge\">\n<title>47&#45;&gt;49</title>\n<path fill=\"none\" stroke=\"#000000\" d=\"M2623.7701,-103.9815C2640.0573,-94.0034 2657.4085,-83.3733 2673.5403,-73.4904\"/>\n<polygon fill=\"#000000\" stroke=\"#000000\" points=\"2675.6638,-76.2941 2682.3625,-68.0856 2672.007,-70.3252 2675.6638,-76.2941\"/>\n</g>\n<!-- 51 -->\n<g id=\"node52\" class=\"node\">\n<title>51</title>\n<path fill=\"#e78a46\" stroke=\"#000000\" d=\"M3256,-425C3256,-425 3116,-425 3116,-425 3110,-425 3104,-419 3104,-413 3104,-413 3104,-354 3104,-354 3104,-348 3110,-342 3116,-342 3116,-342 3256,-342 3256,-342 3262,-342 3268,-348 3268,-354 3268,-354 3268,-413 3268,-413 3268,-419 3262,-425 3256,-425\"/>\n<text text-anchor=\"start\" x=\"3138.5\" y=\"-409.8\" font-family=\"Helvetica,sans-Serif\" font-size=\"14.00\" fill=\"#000000\">Family ≤ 0.093</text>\n<text text-anchor=\"start\" x=\"3152.5\" y=\"-394.8\" font-family=\"Helvetica,sans-Serif\" font-size=\"14.00\" fill=\"#000000\">gini = 0.12</text>\n<text text-anchor=\"start\" x=\"3142\" y=\"-379.8\" font-family=\"Helvetica,sans-Serif\" font-size=\"14.00\" fill=\"#000000\">samples = 47</text>\n<text text-anchor=\"start\" x=\"3140.5\" y=\"-364.8\" font-family=\"Helvetica,sans-Serif\" font-size=\"14.00\" fill=\"#000000\">value = [44, 3]</text>\n<text text-anchor=\"start\" x=\"3112\" y=\"-349.8\" font-family=\"Helvetica,sans-Serif\" font-size=\"14.00\" fill=\"#000000\">class = won&#39;t purchase</text>\n</g>\n<!-- 50&#45;&gt;51 -->\n<g id=\"edge51\" class=\"edge\">\n<title>50&#45;&gt;51</title>\n<path fill=\"none\" stroke=\"#000000\" d=\"M3199.6552,-460.8796C3198.193,-452.5938 3196.6408,-443.798 3195.1273,-435.2216\"/>\n<polygon fill=\"#000000\" stroke=\"#000000\" points=\"3198.5608,-434.5376 3193.3761,-425.2981 3191.6673,-435.7542 3198.5608,-434.5376\"/>\n</g>\n<!-- 60 -->\n<g id=\"node61\" class=\"node\">\n<title>60</title>\n<path fill=\"#80c0ee\" stroke=\"#000000\" d=\"M3508,-425C3508,-425 3382,-425 3382,-425 3376,-425 3370,-419 3370,-413 3370,-413 3370,-354 3370,-354 3370,-348 3376,-342 3382,-342 3382,-342 3508,-342 3508,-342 3514,-342 3520,-348 3520,-354 3520,-354 3520,-413 3520,-413 3520,-419 3514,-425 3508,-425\"/>\n<text text-anchor=\"start\" x=\"3395.5\" y=\"-409.8\" font-family=\"Helvetica,sans-Serif\" font-size=\"14.00\" fill=\"#000000\">Online ≤ &#45;0.177</text>\n<text text-anchor=\"start\" x=\"3407\" y=\"-394.8\" font-family=\"Helvetica,sans-Serif\" font-size=\"14.00\" fill=\"#000000\">gini = 0.389</text>\n<text text-anchor=\"start\" x=\"3401\" y=\"-379.8\" font-family=\"Helvetica,sans-Serif\" font-size=\"14.00\" fill=\"#000000\">samples = 34</text>\n<text text-anchor=\"start\" x=\"3399.5\" y=\"-364.8\" font-family=\"Helvetica,sans-Serif\" font-size=\"14.00\" fill=\"#000000\">value = [9, 25]</text>\n<text text-anchor=\"start\" x=\"3378\" y=\"-349.8\" font-family=\"Helvetica,sans-Serif\" font-size=\"14.00\" fill=\"#000000\">class = will purchase</text>\n</g>\n<!-- 50&#45;&gt;60 -->\n<g id=\"edge60\" class=\"edge\">\n<title>50&#45;&gt;60</title>\n<path fill=\"none\" stroke=\"#000000\" d=\"M3289.2394,-461.3803C3312.3694,-449.8153 3337.5541,-437.2229 3360.797,-425.6015\"/>\n<polygon fill=\"#000000\" stroke=\"#000000\" points=\"3362.562,-428.6322 3369.941,-421.0295 3359.4314,-422.3712 3362.562,-428.6322\"/>\n</g>\n<!-- 52 -->\n<g id=\"node53\" class=\"node\">\n<title>52</title>\n<path fill=\"#e6843e\" stroke=\"#000000\" d=\"M2990,-306C2990,-306 2850,-306 2850,-306 2844,-306 2838,-300 2838,-294 2838,-294 2838,-235 2838,-235 2838,-229 2844,-223 2850,-223 2850,-223 2990,-223 2990,-223 2996,-223 3002,-229 3002,-235 3002,-235 3002,-294 3002,-294 3002,-300 2996,-306 2990,-306\"/>\n<text text-anchor=\"start\" x=\"2885\" y=\"-290.8\" font-family=\"Helvetica,sans-Serif\" font-size=\"14.00\" fill=\"#000000\">Age ≤ 0.99</text>\n<text text-anchor=\"start\" x=\"2882\" y=\"-275.8\" font-family=\"Helvetica,sans-Serif\" font-size=\"14.00\" fill=\"#000000\">gini = 0.049</text>\n<text text-anchor=\"start\" x=\"2876\" y=\"-260.8\" font-family=\"Helvetica,sans-Serif\" font-size=\"14.00\" fill=\"#000000\">samples = 40</text>\n<text text-anchor=\"start\" x=\"2874.5\" y=\"-245.8\" font-family=\"Helvetica,sans-Serif\" font-size=\"14.00\" fill=\"#000000\">value = [39, 1]</text>\n<text text-anchor=\"start\" x=\"2846\" y=\"-230.8\" font-family=\"Helvetica,sans-Serif\" font-size=\"14.00\" fill=\"#000000\">class = won&#39;t purchase</text>\n</g>\n<!-- 51&#45;&gt;52 -->\n<g id=\"edge52\" class=\"edge\">\n<title>51&#45;&gt;52</title>\n<path fill=\"none\" stroke=\"#000000\" d=\"M3103.6576,-346.6626C3074.4812,-333.61 3041.481,-318.8468 3011.5828,-305.4712\"/>\n<polygon fill=\"#000000\" stroke=\"#000000\" points=\"3012.9687,-302.257 3002.4112,-301.3682 3010.1101,-308.6468 3012.9687,-302.257\"/>\n</g>\n<!-- 57 -->\n<g id=\"node58\" class=\"node\">\n<title>57</title>\n<path fill=\"#efb388\" stroke=\"#000000\" d=\"M3256,-306C3256,-306 3116,-306 3116,-306 3110,-306 3104,-300 3104,-294 3104,-294 3104,-235 3104,-235 3104,-229 3110,-223 3116,-223 3116,-223 3256,-223 3256,-223 3262,-223 3268,-229 3268,-235 3268,-235 3268,-294 3268,-294 3268,-300 3262,-306 3256,-306\"/>\n<text text-anchor=\"start\" x=\"3136.5\" y=\"-290.8\" font-family=\"Helvetica,sans-Serif\" font-size=\"14.00\" fill=\"#000000\">CCAvg ≤ 1.308</text>\n<text text-anchor=\"start\" x=\"3148\" y=\"-275.8\" font-family=\"Helvetica,sans-Serif\" font-size=\"14.00\" fill=\"#000000\">gini = 0.408</text>\n<text text-anchor=\"start\" x=\"3146.5\" y=\"-260.8\" font-family=\"Helvetica,sans-Serif\" font-size=\"14.00\" fill=\"#000000\">samples = 7</text>\n<text text-anchor=\"start\" x=\"3144.5\" y=\"-245.8\" font-family=\"Helvetica,sans-Serif\" font-size=\"14.00\" fill=\"#000000\">value = [5, 2]</text>\n<text text-anchor=\"start\" x=\"3112\" y=\"-230.8\" font-family=\"Helvetica,sans-Serif\" font-size=\"14.00\" fill=\"#000000\">class = won&#39;t purchase</text>\n</g>\n<!-- 51&#45;&gt;57 -->\n<g id=\"edge57\" class=\"edge\">\n<title>51&#45;&gt;57</title>\n<path fill=\"none\" stroke=\"#000000\" d=\"M3186,-341.8796C3186,-333.6838 3186,-324.9891 3186,-316.5013\"/>\n<polygon fill=\"#000000\" stroke=\"#000000\" points=\"3189.5001,-316.298 3186,-306.2981 3182.5001,-316.2981 3189.5001,-316.298\"/>\n</g>\n<!-- 53 -->\n<g id=\"node54\" class=\"node\">\n<title>53</title>\n<path fill=\"#e58139\" stroke=\"#000000\" d=\"M2808,-179.5C2808,-179.5 2668,-179.5 2668,-179.5 2662,-179.5 2656,-173.5 2656,-167.5 2656,-167.5 2656,-123.5 2656,-123.5 2656,-117.5 2662,-111.5 2668,-111.5 2668,-111.5 2808,-111.5 2808,-111.5 2814,-111.5 2820,-117.5 2820,-123.5 2820,-123.5 2820,-167.5 2820,-167.5 2820,-173.5 2814,-179.5 2808,-179.5\"/>\n<text text-anchor=\"start\" x=\"2708.5\" y=\"-164.3\" font-family=\"Helvetica,sans-Serif\" font-size=\"14.00\" fill=\"#000000\">gini = 0.0</text>\n<text text-anchor=\"start\" x=\"2694\" y=\"-149.3\" font-family=\"Helvetica,sans-Serif\" font-size=\"14.00\" fill=\"#000000\">samples = 35</text>\n<text text-anchor=\"start\" x=\"2692.5\" y=\"-134.3\" font-family=\"Helvetica,sans-Serif\" font-size=\"14.00\" fill=\"#000000\">value = [35, 0]</text>\n<text text-anchor=\"start\" x=\"2664\" y=\"-119.3\" font-family=\"Helvetica,sans-Serif\" font-size=\"14.00\" fill=\"#000000\">class = won&#39;t purchase</text>\n</g>\n<!-- 52&#45;&gt;53 -->\n<g id=\"edge53\" class=\"edge\">\n<title>52&#45;&gt;53</title>\n<path fill=\"none\" stroke=\"#000000\" d=\"M2856.3452,-222.8796C2837.5889,-210.6158 2817.1239,-197.2348 2798.567,-185.1015\"/>\n<polygon fill=\"#000000\" stroke=\"#000000\" points=\"2800.4733,-182.1662 2790.1882,-179.623 2796.6425,-188.025 2800.4733,-182.1662\"/>\n</g>\n<!-- 54 -->\n<g id=\"node55\" class=\"node\">\n<title>54</title>\n<path fill=\"#eca06a\" stroke=\"#000000\" d=\"M2990,-187C2990,-187 2850,-187 2850,-187 2844,-187 2838,-181 2838,-175 2838,-175 2838,-116 2838,-116 2838,-110 2844,-104 2850,-104 2850,-104 2990,-104 2990,-104 2996,-104 3002,-110 3002,-116 3002,-116 3002,-175 3002,-175 3002,-181 2996,-187 2990,-187\"/>\n<text text-anchor=\"start\" x=\"2870.5\" y=\"-171.8\" font-family=\"Helvetica,sans-Serif\" font-size=\"14.00\" fill=\"#000000\">CCAvg ≤ 1.354</text>\n<text text-anchor=\"start\" x=\"2886.5\" y=\"-156.8\" font-family=\"Helvetica,sans-Serif\" font-size=\"14.00\" fill=\"#000000\">gini = 0.32</text>\n<text text-anchor=\"start\" x=\"2880.5\" y=\"-141.8\" font-family=\"Helvetica,sans-Serif\" font-size=\"14.00\" fill=\"#000000\">samples = 5</text>\n<text text-anchor=\"start\" x=\"2878.5\" y=\"-126.8\" font-family=\"Helvetica,sans-Serif\" font-size=\"14.00\" fill=\"#000000\">value = [4, 1]</text>\n<text text-anchor=\"start\" x=\"2846\" y=\"-111.8\" font-family=\"Helvetica,sans-Serif\" font-size=\"14.00\" fill=\"#000000\">class = won&#39;t purchase</text>\n</g>\n<!-- 52&#45;&gt;54 -->\n<g id=\"edge54\" class=\"edge\">\n<title>52&#45;&gt;54</title>\n<path fill=\"none\" stroke=\"#000000\" d=\"M2920,-222.8796C2920,-214.6838 2920,-205.9891 2920,-197.5013\"/>\n<polygon fill=\"#000000\" stroke=\"#000000\" points=\"2923.5001,-197.298 2920,-187.2981 2916.5001,-197.2981 2923.5001,-197.298\"/>\n</g>\n<!-- 55 -->\n<g id=\"node56\" class=\"node\">\n<title>55</title>\n<path fill=\"#e58139\" stroke=\"#000000\" d=\"M2990,-68C2990,-68 2850,-68 2850,-68 2844,-68 2838,-62 2838,-56 2838,-56 2838,-12 2838,-12 2838,-6 2844,0 2850,0 2850,0 2990,0 2990,0 2996,0 3002,-6 3002,-12 3002,-12 3002,-56 3002,-56 3002,-62 2996,-68 2990,-68\"/>\n<text text-anchor=\"start\" x=\"2890.5\" y=\"-52.8\" font-family=\"Helvetica,sans-Serif\" font-size=\"14.00\" fill=\"#000000\">gini = 0.0</text>\n<text text-anchor=\"start\" x=\"2880.5\" y=\"-37.8\" font-family=\"Helvetica,sans-Serif\" font-size=\"14.00\" fill=\"#000000\">samples = 3</text>\n<text text-anchor=\"start\" x=\"2878.5\" y=\"-22.8\" font-family=\"Helvetica,sans-Serif\" font-size=\"14.00\" fill=\"#000000\">value = [3, 0]</text>\n<text text-anchor=\"start\" x=\"2846\" y=\"-7.8\" font-family=\"Helvetica,sans-Serif\" font-size=\"14.00\" fill=\"#000000\">class = won&#39;t purchase</text>\n</g>\n<!-- 54&#45;&gt;55 -->\n<g id=\"edge55\" class=\"edge\">\n<title>54&#45;&gt;55</title>\n<path fill=\"none\" stroke=\"#000000\" d=\"M2920,-103.9815C2920,-95.618 2920,-86.7965 2920,-78.3409\"/>\n<polygon fill=\"#000000\" stroke=\"#000000\" points=\"2923.5001,-78.2636 2920,-68.2637 2916.5001,-78.2637 2923.5001,-78.2636\"/>\n</g>\n<!-- 56 -->\n<g id=\"node57\" class=\"node\">\n<title>56</title>\n<path fill=\"#ffffff\" stroke=\"#000000\" d=\"M3172,-68C3172,-68 3032,-68 3032,-68 3026,-68 3020,-62 3020,-56 3020,-56 3020,-12 3020,-12 3020,-6 3026,0 3032,0 3032,0 3172,0 3172,0 3178,0 3184,-6 3184,-12 3184,-12 3184,-56 3184,-56 3184,-62 3178,-68 3172,-68\"/>\n<text text-anchor=\"start\" x=\"3072.5\" y=\"-52.8\" font-family=\"Helvetica,sans-Serif\" font-size=\"14.00\" fill=\"#000000\">gini = 0.5</text>\n<text text-anchor=\"start\" x=\"3062.5\" y=\"-37.8\" font-family=\"Helvetica,sans-Serif\" font-size=\"14.00\" fill=\"#000000\">samples = 2</text>\n<text text-anchor=\"start\" x=\"3060.5\" y=\"-22.8\" font-family=\"Helvetica,sans-Serif\" font-size=\"14.00\" fill=\"#000000\">value = [1, 1]</text>\n<text text-anchor=\"start\" x=\"3028\" y=\"-7.8\" font-family=\"Helvetica,sans-Serif\" font-size=\"14.00\" fill=\"#000000\">class = won&#39;t purchase</text>\n</g>\n<!-- 54&#45;&gt;56 -->\n<g id=\"edge56\" class=\"edge\">\n<title>54&#45;&gt;56</title>\n<path fill=\"none\" stroke=\"#000000\" d=\"M2987.7701,-103.9815C3004.0573,-94.0034 3021.4085,-83.3733 3037.5403,-73.4904\"/>\n<polygon fill=\"#000000\" stroke=\"#000000\" points=\"3039.6638,-76.2941 3046.3625,-68.0856 3036.007,-70.3252 3039.6638,-76.2941\"/>\n</g>\n<!-- 58 -->\n<g id=\"node59\" class=\"node\">\n<title>58</title>\n<path fill=\"#399de5\" stroke=\"#000000\" d=\"M3158,-179.5C3158,-179.5 3032,-179.5 3032,-179.5 3026,-179.5 3020,-173.5 3020,-167.5 3020,-167.5 3020,-123.5 3020,-123.5 3020,-117.5 3026,-111.5 3032,-111.5 3032,-111.5 3158,-111.5 3158,-111.5 3164,-111.5 3170,-117.5 3170,-123.5 3170,-123.5 3170,-167.5 3170,-167.5 3170,-173.5 3164,-179.5 3158,-179.5\"/>\n<text text-anchor=\"start\" x=\"3065.5\" y=\"-164.3\" font-family=\"Helvetica,sans-Serif\" font-size=\"14.00\" fill=\"#000000\">gini = 0.0</text>\n<text text-anchor=\"start\" x=\"3055.5\" y=\"-149.3\" font-family=\"Helvetica,sans-Serif\" font-size=\"14.00\" fill=\"#000000\">samples = 2</text>\n<text text-anchor=\"start\" x=\"3053.5\" y=\"-134.3\" font-family=\"Helvetica,sans-Serif\" font-size=\"14.00\" fill=\"#000000\">value = [0, 2]</text>\n<text text-anchor=\"start\" x=\"3028\" y=\"-119.3\" font-family=\"Helvetica,sans-Serif\" font-size=\"14.00\" fill=\"#000000\">class = will purchase</text>\n</g>\n<!-- 57&#45;&gt;58 -->\n<g id=\"edge58\" class=\"edge\">\n<title>57&#45;&gt;58</title>\n<path fill=\"none\" stroke=\"#000000\" d=\"M3154.1726,-222.8796C3145.5116,-211.5536 3136.1219,-199.2748 3127.428,-187.9058\"/>\n<polygon fill=\"#000000\" stroke=\"#000000\" points=\"3130.0956,-185.6324 3121.2408,-179.8149 3124.5351,-189.8846 3130.0956,-185.6324\"/>\n</g>\n<!-- 59 -->\n<g id=\"node60\" class=\"node\">\n<title>59</title>\n<path fill=\"#e58139\" stroke=\"#000000\" d=\"M3340,-179.5C3340,-179.5 3200,-179.5 3200,-179.5 3194,-179.5 3188,-173.5 3188,-167.5 3188,-167.5 3188,-123.5 3188,-123.5 3188,-117.5 3194,-111.5 3200,-111.5 3200,-111.5 3340,-111.5 3340,-111.5 3346,-111.5 3352,-117.5 3352,-123.5 3352,-123.5 3352,-167.5 3352,-167.5 3352,-173.5 3346,-179.5 3340,-179.5\"/>\n<text text-anchor=\"start\" x=\"3240.5\" y=\"-164.3\" font-family=\"Helvetica,sans-Serif\" font-size=\"14.00\" fill=\"#000000\">gini = 0.0</text>\n<text text-anchor=\"start\" x=\"3230.5\" y=\"-149.3\" font-family=\"Helvetica,sans-Serif\" font-size=\"14.00\" fill=\"#000000\">samples = 5</text>\n<text text-anchor=\"start\" x=\"3228.5\" y=\"-134.3\" font-family=\"Helvetica,sans-Serif\" font-size=\"14.00\" fill=\"#000000\">value = [5, 0]</text>\n<text text-anchor=\"start\" x=\"3196\" y=\"-119.3\" font-family=\"Helvetica,sans-Serif\" font-size=\"14.00\" fill=\"#000000\">class = won&#39;t purchase</text>\n</g>\n<!-- 57&#45;&gt;59 -->\n<g id=\"edge59\" class=\"edge\">\n<title>57&#45;&gt;59</title>\n<path fill=\"none\" stroke=\"#000000\" d=\"M3215.3791,-222.8796C3223.2963,-211.6636 3231.8731,-199.5131 3239.8325,-188.2372\"/>\n<polygon fill=\"#000000\" stroke=\"#000000\" points=\"3242.8702,-190.003 3245.7777,-179.8149 3237.1514,-185.9662 3242.8702,-190.003\"/>\n</g>\n<!-- 61 -->\n<g id=\"node62\" class=\"node\">\n<title>61</title>\n<path fill=\"#a8d4f4\" stroke=\"#000000\" d=\"M3508,-306C3508,-306 3382,-306 3382,-306 3376,-306 3370,-300 3370,-294 3370,-294 3370,-235 3370,-235 3370,-229 3376,-223 3382,-223 3382,-223 3508,-223 3508,-223 3514,-223 3520,-229 3520,-235 3520,-235 3520,-294 3520,-294 3520,-300 3514,-306 3508,-306\"/>\n<text text-anchor=\"start\" x=\"3403.5\" y=\"-290.8\" font-family=\"Helvetica,sans-Serif\" font-size=\"14.00\" fill=\"#000000\">Age ≤ &#45;1.234</text>\n<text text-anchor=\"start\" x=\"3407\" y=\"-275.8\" font-family=\"Helvetica,sans-Serif\" font-size=\"14.00\" fill=\"#000000\">gini = 0.461</text>\n<text text-anchor=\"start\" x=\"3401\" y=\"-260.8\" font-family=\"Helvetica,sans-Serif\" font-size=\"14.00\" fill=\"#000000\">samples = 25</text>\n<text text-anchor=\"start\" x=\"3399.5\" y=\"-245.8\" font-family=\"Helvetica,sans-Serif\" font-size=\"14.00\" fill=\"#000000\">value = [9, 16]</text>\n<text text-anchor=\"start\" x=\"3378\" y=\"-230.8\" font-family=\"Helvetica,sans-Serif\" font-size=\"14.00\" fill=\"#000000\">class = will purchase</text>\n</g>\n<!-- 60&#45;&gt;61 -->\n<g id=\"edge61\" class=\"edge\">\n<title>60&#45;&gt;61</title>\n<path fill=\"none\" stroke=\"#000000\" d=\"M3445,-341.8796C3445,-333.6838 3445,-324.9891 3445,-316.5013\"/>\n<polygon fill=\"#000000\" stroke=\"#000000\" points=\"3448.5001,-316.298 3445,-306.2981 3441.5001,-316.2981 3448.5001,-316.298\"/>\n</g>\n<!-- 66 -->\n<g id=\"node67\" class=\"node\">\n<title>66</title>\n<path fill=\"#399de5\" stroke=\"#000000\" d=\"M3676,-298.5C3676,-298.5 3550,-298.5 3550,-298.5 3544,-298.5 3538,-292.5 3538,-286.5 3538,-286.5 3538,-242.5 3538,-242.5 3538,-236.5 3544,-230.5 3550,-230.5 3550,-230.5 3676,-230.5 3676,-230.5 3682,-230.5 3688,-236.5 3688,-242.5 3688,-242.5 3688,-286.5 3688,-286.5 3688,-292.5 3682,-298.5 3676,-298.5\"/>\n<text text-anchor=\"start\" x=\"3583.5\" y=\"-283.3\" font-family=\"Helvetica,sans-Serif\" font-size=\"14.00\" fill=\"#000000\">gini = 0.0</text>\n<text text-anchor=\"start\" x=\"3573.5\" y=\"-268.3\" font-family=\"Helvetica,sans-Serif\" font-size=\"14.00\" fill=\"#000000\">samples = 9</text>\n<text text-anchor=\"start\" x=\"3571.5\" y=\"-253.3\" font-family=\"Helvetica,sans-Serif\" font-size=\"14.00\" fill=\"#000000\">value = [0, 9]</text>\n<text text-anchor=\"start\" x=\"3546\" y=\"-238.3\" font-family=\"Helvetica,sans-Serif\" font-size=\"14.00\" fill=\"#000000\">class = will purchase</text>\n</g>\n<!-- 60&#45;&gt;66 -->\n<g id=\"edge66\" class=\"edge\">\n<title>60&#45;&gt;66</title>\n<path fill=\"none\" stroke=\"#000000\" d=\"M3503.7582,-341.8796C3520.9158,-329.7263 3539.6223,-316.4759 3556.6286,-304.4297\"/>\n<polygon fill=\"#000000\" stroke=\"#000000\" points=\"3558.6891,-307.2593 3564.8263,-298.623 3554.643,-301.5472 3558.6891,-307.2593\"/>\n</g>\n<!-- 62 -->\n<g id=\"node63\" class=\"node\">\n<title>62</title>\n<path fill=\"#399de5\" stroke=\"#000000\" d=\"M3508,-179.5C3508,-179.5 3382,-179.5 3382,-179.5 3376,-179.5 3370,-173.5 3370,-167.5 3370,-167.5 3370,-123.5 3370,-123.5 3370,-117.5 3376,-111.5 3382,-111.5 3382,-111.5 3508,-111.5 3508,-111.5 3514,-111.5 3520,-117.5 3520,-123.5 3520,-123.5 3520,-167.5 3520,-167.5 3520,-173.5 3514,-179.5 3508,-179.5\"/>\n<text text-anchor=\"start\" x=\"3415.5\" y=\"-164.3\" font-family=\"Helvetica,sans-Serif\" font-size=\"14.00\" fill=\"#000000\">gini = 0.0</text>\n<text text-anchor=\"start\" x=\"3405.5\" y=\"-149.3\" font-family=\"Helvetica,sans-Serif\" font-size=\"14.00\" fill=\"#000000\">samples = 3</text>\n<text text-anchor=\"start\" x=\"3403.5\" y=\"-134.3\" font-family=\"Helvetica,sans-Serif\" font-size=\"14.00\" fill=\"#000000\">value = [0, 3]</text>\n<text text-anchor=\"start\" x=\"3378\" y=\"-119.3\" font-family=\"Helvetica,sans-Serif\" font-size=\"14.00\" fill=\"#000000\">class = will purchase</text>\n</g>\n<!-- 61&#45;&gt;62 -->\n<g id=\"edge62\" class=\"edge\">\n<title>61&#45;&gt;62</title>\n<path fill=\"none\" stroke=\"#000000\" d=\"M3445,-222.8796C3445,-212.2134 3445,-200.7021 3445,-189.9015\"/>\n<polygon fill=\"#000000\" stroke=\"#000000\" points=\"3448.5001,-189.8149 3445,-179.8149 3441.5001,-189.815 3448.5001,-189.8149\"/>\n</g>\n<!-- 63 -->\n<g id=\"node64\" class=\"node\">\n<title>63</title>\n<path fill=\"#c2e1f7\" stroke=\"#000000\" d=\"M3676,-187C3676,-187 3550,-187 3550,-187 3544,-187 3538,-181 3538,-175 3538,-175 3538,-116 3538,-116 3538,-110 3544,-104 3550,-104 3550,-104 3676,-104 3676,-104 3682,-104 3688,-110 3688,-116 3688,-116 3688,-175 3688,-175 3688,-181 3682,-187 3676,-187\"/>\n<text text-anchor=\"start\" x=\"3567.5\" y=\"-171.8\" font-family=\"Helvetica,sans-Serif\" font-size=\"14.00\" fill=\"#000000\">CCAvg ≤ 1.06</text>\n<text text-anchor=\"start\" x=\"3575\" y=\"-156.8\" font-family=\"Helvetica,sans-Serif\" font-size=\"14.00\" fill=\"#000000\">gini = 0.483</text>\n<text text-anchor=\"start\" x=\"3569\" y=\"-141.8\" font-family=\"Helvetica,sans-Serif\" font-size=\"14.00\" fill=\"#000000\">samples = 22</text>\n<text text-anchor=\"start\" x=\"3567.5\" y=\"-126.8\" font-family=\"Helvetica,sans-Serif\" font-size=\"14.00\" fill=\"#000000\">value = [9, 13]</text>\n<text text-anchor=\"start\" x=\"3546\" y=\"-111.8\" font-family=\"Helvetica,sans-Serif\" font-size=\"14.00\" fill=\"#000000\">class = will purchase</text>\n</g>\n<!-- 61&#45;&gt;63 -->\n<g id=\"edge63\" class=\"edge\">\n<title>61&#45;&gt;63</title>\n<path fill=\"none\" stroke=\"#000000\" d=\"M3503.7582,-222.8796C3517.3143,-213.2774 3531.8372,-202.9903 3545.7246,-193.1534\"/>\n<polygon fill=\"#000000\" stroke=\"#000000\" points=\"3548.1377,-195.7332 3554.2749,-187.0969 3544.0916,-190.021 3548.1377,-195.7332\"/>\n</g>\n<!-- 64 -->\n<g id=\"node65\" class=\"node\">\n<title>64</title>\n<path fill=\"#f2c09c\" stroke=\"#000000\" d=\"M3510,-68C3510,-68 3370,-68 3370,-68 3364,-68 3358,-62 3358,-56 3358,-56 3358,-12 3358,-12 3358,-6 3364,0 3370,0 3370,0 3510,0 3510,0 3516,0 3522,-6 3522,-12 3522,-12 3522,-56 3522,-56 3522,-62 3516,-68 3510,-68\"/>\n<text text-anchor=\"start\" x=\"3402\" y=\"-52.8\" font-family=\"Helvetica,sans-Serif\" font-size=\"14.00\" fill=\"#000000\">gini = 0.444</text>\n<text text-anchor=\"start\" x=\"3400.5\" y=\"-37.8\" font-family=\"Helvetica,sans-Serif\" font-size=\"14.00\" fill=\"#000000\">samples = 6</text>\n<text text-anchor=\"start\" x=\"3398.5\" y=\"-22.8\" font-family=\"Helvetica,sans-Serif\" font-size=\"14.00\" fill=\"#000000\">value = [4, 2]</text>\n<text text-anchor=\"start\" x=\"3366\" y=\"-7.8\" font-family=\"Helvetica,sans-Serif\" font-size=\"14.00\" fill=\"#000000\">class = won&#39;t purchase</text>\n</g>\n<!-- 63&#45;&gt;64 -->\n<g id=\"edge64\" class=\"edge\">\n<title>63&#45;&gt;64</title>\n<path fill=\"none\" stroke=\"#000000\" d=\"M3548.5812,-103.9815C3533.2427,-94.0957 3516.9115,-83.5701 3501.6984,-73.7651\"/>\n<polygon fill=\"#000000\" stroke=\"#000000\" points=\"3503.1878,-70.5611 3492.8862,-68.0856 3499.3956,-76.445 3503.1878,-70.5611\"/>\n</g>\n<!-- 65 -->\n<g id=\"node66\" class=\"node\">\n<title>65</title>\n<path fill=\"#93caf1\" stroke=\"#000000\" d=\"M3678,-68C3678,-68 3552,-68 3552,-68 3546,-68 3540,-62 3540,-56 3540,-56 3540,-12 3540,-12 3540,-6 3546,0 3552,0 3552,0 3678,0 3678,0 3684,0 3690,-6 3690,-12 3690,-12 3690,-56 3690,-56 3690,-62 3684,-68 3678,-68\"/>\n<text text-anchor=\"start\" x=\"3581.5\" y=\"-52.8\" font-family=\"Helvetica,sans-Serif\" font-size=\"14.00\" fill=\"#000000\">gini = 0.43</text>\n<text text-anchor=\"start\" x=\"3571\" y=\"-37.8\" font-family=\"Helvetica,sans-Serif\" font-size=\"14.00\" fill=\"#000000\">samples = 16</text>\n<text text-anchor=\"start\" x=\"3569.5\" y=\"-22.8\" font-family=\"Helvetica,sans-Serif\" font-size=\"14.00\" fill=\"#000000\">value = [5, 11]</text>\n<text text-anchor=\"start\" x=\"3548\" y=\"-7.8\" font-family=\"Helvetica,sans-Serif\" font-size=\"14.00\" fill=\"#000000\">class = will purchase</text>\n</g>\n<!-- 63&#45;&gt;65 -->\n<g id=\"edge65\" class=\"edge\">\n<title>63&#45;&gt;65</title>\n<path fill=\"none\" stroke=\"#000000\" d=\"M3613.7447,-103.9815C3613.8947,-95.618 3614.053,-86.7965 3614.2046,-78.3409\"/>\n<polygon fill=\"#000000\" stroke=\"#000000\" points=\"3617.7054,-78.3249 3614.3854,-68.2637 3610.7065,-78.1993 3617.7054,-78.3249\"/>\n</g>\n<!-- 68 -->\n<g id=\"node69\" class=\"node\">\n<title>68</title>\n<path fill=\"#399de5\" stroke=\"#000000\" d=\"M3487,-536.5C3487,-536.5 3361,-536.5 3361,-536.5 3355,-536.5 3349,-530.5 3349,-524.5 3349,-524.5 3349,-480.5 3349,-480.5 3349,-474.5 3355,-468.5 3361,-468.5 3361,-468.5 3487,-468.5 3487,-468.5 3493,-468.5 3499,-474.5 3499,-480.5 3499,-480.5 3499,-524.5 3499,-524.5 3499,-530.5 3493,-536.5 3487,-536.5\"/>\n<text text-anchor=\"start\" x=\"3394.5\" y=\"-521.3\" font-family=\"Helvetica,sans-Serif\" font-size=\"14.00\" fill=\"#000000\">gini = 0.0</text>\n<text text-anchor=\"start\" x=\"3380\" y=\"-506.3\" font-family=\"Helvetica,sans-Serif\" font-size=\"14.00\" fill=\"#000000\">samples = 11</text>\n<text text-anchor=\"start\" x=\"3378.5\" y=\"-491.3\" font-family=\"Helvetica,sans-Serif\" font-size=\"14.00\" fill=\"#000000\">value = [0, 11]</text>\n<text text-anchor=\"start\" x=\"3357\" y=\"-476.3\" font-family=\"Helvetica,sans-Serif\" font-size=\"14.00\" fill=\"#000000\">class = will purchase</text>\n</g>\n<!-- 67&#45;&gt;68 -->\n<g id=\"edge68\" class=\"edge\">\n<title>67&#45;&gt;68</title>\n<path fill=\"none\" stroke=\"#000000\" d=\"M3424,-579.8796C3424,-569.2134 3424,-557.7021 3424,-546.9015\"/>\n<polygon fill=\"#000000\" stroke=\"#000000\" points=\"3427.5001,-546.8149 3424,-536.8149 3420.5001,-546.815 3427.5001,-546.8149\"/>\n</g>\n<!-- 69 -->\n<g id=\"node70\" class=\"node\">\n<title>69</title>\n<path fill=\"#f2c09c\" stroke=\"#000000\" d=\"M3774,-544C3774,-544 3634,-544 3634,-544 3628,-544 3622,-538 3622,-532 3622,-532 3622,-473 3622,-473 3622,-467 3628,-461 3634,-461 3634,-461 3774,-461 3774,-461 3780,-461 3786,-467 3786,-473 3786,-473 3786,-532 3786,-532 3786,-538 3780,-544 3774,-544\"/>\n<text text-anchor=\"start\" x=\"3660.5\" y=\"-528.8\" font-family=\"Helvetica,sans-Serif\" font-size=\"14.00\" fill=\"#000000\">Family ≤ 0.53</text>\n<text text-anchor=\"start\" x=\"3666\" y=\"-513.8\" font-family=\"Helvetica,sans-Serif\" font-size=\"14.00\" fill=\"#000000\">gini = 0.444</text>\n<text text-anchor=\"start\" x=\"3664.5\" y=\"-498.8\" font-family=\"Helvetica,sans-Serif\" font-size=\"14.00\" fill=\"#000000\">samples = 9</text>\n<text text-anchor=\"start\" x=\"3662.5\" y=\"-483.8\" font-family=\"Helvetica,sans-Serif\" font-size=\"14.00\" fill=\"#000000\">value = [6, 3]</text>\n<text text-anchor=\"start\" x=\"3630\" y=\"-468.8\" font-family=\"Helvetica,sans-Serif\" font-size=\"14.00\" fill=\"#000000\">class = won&#39;t purchase</text>\n</g>\n<!-- 67&#45;&gt;69 -->\n<g id=\"edge69\" class=\"edge\">\n<title>67&#45;&gt;69</title>\n<path fill=\"none\" stroke=\"#000000\" d=\"M3499.0349,-589.6102C3533.9794,-574.7588 3575.8623,-556.9585 3612.6338,-541.3306\"/>\n<polygon fill=\"#000000\" stroke=\"#000000\" points=\"3614.0307,-544.54 3621.865,-537.4074 3611.2927,-538.0977 3614.0307,-544.54\"/>\n</g>\n<!-- 70 -->\n<g id=\"node71\" class=\"node\">\n<title>70</title>\n<path fill=\"#eeab7b\" stroke=\"#000000\" d=\"M3775.5,-425C3775.5,-425 3632.5,-425 3632.5,-425 3626.5,-425 3620.5,-419 3620.5,-413 3620.5,-413 3620.5,-354 3620.5,-354 3620.5,-348 3626.5,-342 3632.5,-342 3632.5,-342 3775.5,-342 3775.5,-342 3781.5,-342 3787.5,-348 3787.5,-354 3787.5,-354 3787.5,-413 3787.5,-413 3787.5,-419 3781.5,-425 3775.5,-425\"/>\n<text text-anchor=\"start\" x=\"3628.5\" y=\"-409.8\" font-family=\"Helvetica,sans-Serif\" font-size=\"14.00\" fill=\"#000000\">Mortgage_New ≤ 2.421</text>\n<text text-anchor=\"start\" x=\"3666\" y=\"-394.8\" font-family=\"Helvetica,sans-Serif\" font-size=\"14.00\" fill=\"#000000\">gini = 0.375</text>\n<text text-anchor=\"start\" x=\"3664.5\" y=\"-379.8\" font-family=\"Helvetica,sans-Serif\" font-size=\"14.00\" fill=\"#000000\">samples = 8</text>\n<text text-anchor=\"start\" x=\"3662.5\" y=\"-364.8\" font-family=\"Helvetica,sans-Serif\" font-size=\"14.00\" fill=\"#000000\">value = [6, 2]</text>\n<text text-anchor=\"start\" x=\"3630\" y=\"-349.8\" font-family=\"Helvetica,sans-Serif\" font-size=\"14.00\" fill=\"#000000\">class = won&#39;t purchase</text>\n</g>\n<!-- 69&#45;&gt;70 -->\n<g id=\"edge70\" class=\"edge\">\n<title>69&#45;&gt;70</title>\n<path fill=\"none\" stroke=\"#000000\" d=\"M3704,-460.8796C3704,-452.6838 3704,-443.9891 3704,-435.5013\"/>\n<polygon fill=\"#000000\" stroke=\"#000000\" points=\"3707.5001,-435.298 3704,-425.2981 3700.5001,-435.2981 3707.5001,-435.298\"/>\n</g>\n<!-- 77 -->\n<g id=\"node78\" class=\"node\">\n<title>77</title>\n<path fill=\"#399de5\" stroke=\"#000000\" d=\"M3943,-417.5C3943,-417.5 3817,-417.5 3817,-417.5 3811,-417.5 3805,-411.5 3805,-405.5 3805,-405.5 3805,-361.5 3805,-361.5 3805,-355.5 3811,-349.5 3817,-349.5 3817,-349.5 3943,-349.5 3943,-349.5 3949,-349.5 3955,-355.5 3955,-361.5 3955,-361.5 3955,-405.5 3955,-405.5 3955,-411.5 3949,-417.5 3943,-417.5\"/>\n<text text-anchor=\"start\" x=\"3850.5\" y=\"-402.3\" font-family=\"Helvetica,sans-Serif\" font-size=\"14.00\" fill=\"#000000\">gini = 0.0</text>\n<text text-anchor=\"start\" x=\"3840.5\" y=\"-387.3\" font-family=\"Helvetica,sans-Serif\" font-size=\"14.00\" fill=\"#000000\">samples = 1</text>\n<text text-anchor=\"start\" x=\"3838.5\" y=\"-372.3\" font-family=\"Helvetica,sans-Serif\" font-size=\"14.00\" fill=\"#000000\">value = [0, 1]</text>\n<text text-anchor=\"start\" x=\"3813\" y=\"-357.3\" font-family=\"Helvetica,sans-Serif\" font-size=\"14.00\" fill=\"#000000\">class = will purchase</text>\n</g>\n<!-- 69&#45;&gt;77 -->\n<g id=\"edge77\" class=\"edge\">\n<title>69&#45;&gt;77</title>\n<path fill=\"none\" stroke=\"#000000\" d=\"M3765.5563,-460.8796C3783.5309,-448.7263 3803.1282,-435.4759 3820.9442,-423.4297\"/>\n<polygon fill=\"#000000\" stroke=\"#000000\" points=\"3823.2086,-426.1237 3829.5323,-417.623 3819.2877,-420.3248 3823.2086,-426.1237\"/>\n</g>\n<!-- 71 -->\n<g id=\"node72\" class=\"node\">\n<title>71</title>\n<path fill=\"#e9965a\" stroke=\"#000000\" d=\"M3858,-306C3858,-306 3718,-306 3718,-306 3712,-306 3706,-300 3706,-294 3706,-294 3706,-235 3706,-235 3706,-229 3712,-223 3718,-223 3718,-223 3858,-223 3858,-223 3864,-223 3870,-229 3870,-235 3870,-235 3870,-294 3870,-294 3870,-300 3864,-306 3858,-306\"/>\n<text text-anchor=\"start\" x=\"3738.5\" y=\"-290.8\" font-family=\"Helvetica,sans-Serif\" font-size=\"14.00\" fill=\"#000000\">CCAvg ≤ 1.232</text>\n<text text-anchor=\"start\" x=\"3750\" y=\"-275.8\" font-family=\"Helvetica,sans-Serif\" font-size=\"14.00\" fill=\"#000000\">gini = 0.245</text>\n<text text-anchor=\"start\" x=\"3748.5\" y=\"-260.8\" font-family=\"Helvetica,sans-Serif\" font-size=\"14.00\" fill=\"#000000\">samples = 7</text>\n<text text-anchor=\"start\" x=\"3746.5\" y=\"-245.8\" font-family=\"Helvetica,sans-Serif\" font-size=\"14.00\" fill=\"#000000\">value = [6, 1]</text>\n<text text-anchor=\"start\" x=\"3714\" y=\"-230.8\" font-family=\"Helvetica,sans-Serif\" font-size=\"14.00\" fill=\"#000000\">class = won&#39;t purchase</text>\n</g>\n<!-- 70&#45;&gt;71 -->\n<g id=\"edge71\" class=\"edge\">\n<title>70&#45;&gt;71</title>\n<path fill=\"none\" stroke=\"#000000\" d=\"M3733.3791,-341.8796C3739.6094,-333.0534 3746.2481,-323.6485 3752.673,-314.5466\"/>\n<polygon fill=\"#000000\" stroke=\"#000000\" points=\"3755.588,-316.4862 3758.4955,-306.2981 3749.8692,-312.4494 3755.588,-316.4862\"/>\n</g>\n<!-- 76 -->\n<g id=\"node77\" class=\"node\">\n<title>76</title>\n<path fill=\"#399de5\" stroke=\"#000000\" d=\"M4026,-298.5C4026,-298.5 3900,-298.5 3900,-298.5 3894,-298.5 3888,-292.5 3888,-286.5 3888,-286.5 3888,-242.5 3888,-242.5 3888,-236.5 3894,-230.5 3900,-230.5 3900,-230.5 4026,-230.5 4026,-230.5 4032,-230.5 4038,-236.5 4038,-242.5 4038,-242.5 4038,-286.5 4038,-286.5 4038,-292.5 4032,-298.5 4026,-298.5\"/>\n<text text-anchor=\"start\" x=\"3933.5\" y=\"-283.3\" font-family=\"Helvetica,sans-Serif\" font-size=\"14.00\" fill=\"#000000\">gini = 0.0</text>\n<text text-anchor=\"start\" x=\"3923.5\" y=\"-268.3\" font-family=\"Helvetica,sans-Serif\" font-size=\"14.00\" fill=\"#000000\">samples = 1</text>\n<text text-anchor=\"start\" x=\"3921.5\" y=\"-253.3\" font-family=\"Helvetica,sans-Serif\" font-size=\"14.00\" fill=\"#000000\">value = [0, 1]</text>\n<text text-anchor=\"start\" x=\"3896\" y=\"-238.3\" font-family=\"Helvetica,sans-Serif\" font-size=\"14.00\" fill=\"#000000\">class = will purchase</text>\n</g>\n<!-- 70&#45;&gt;76 -->\n<g id=\"edge76\" class=\"edge\">\n<title>70&#45;&gt;76</title>\n<path fill=\"none\" stroke=\"#000000\" d=\"M3787.7138,-345.6758C3790.5079,-344.4331 3793.2759,-343.2051 3796,-342 3832.7718,-325.7328 3842.5195,-322.9104 3879,-306 3881.0983,-305.0273 3883.2227,-304.0347 3885.3638,-303.0273\"/>\n<polygon fill=\"#000000\" stroke=\"#000000\" points=\"3887.2976,-305.9836 3894.8291,-298.5319 3884.2946,-299.6604 3887.2976,-305.9836\"/>\n</g>\n<!-- 72 -->\n<g id=\"node73\" class=\"node\">\n<title>72</title>\n<path fill=\"#ffffff\" stroke=\"#000000\" d=\"M3860.5,-187C3860.5,-187 3717.5,-187 3717.5,-187 3711.5,-187 3705.5,-181 3705.5,-175 3705.5,-175 3705.5,-116 3705.5,-116 3705.5,-110 3711.5,-104 3717.5,-104 3717.5,-104 3860.5,-104 3860.5,-104 3866.5,-104 3872.5,-110 3872.5,-116 3872.5,-116 3872.5,-175 3872.5,-175 3872.5,-181 3866.5,-187 3860.5,-187\"/>\n<text text-anchor=\"start\" x=\"3713.5\" y=\"-171.8\" font-family=\"Helvetica,sans-Serif\" font-size=\"14.00\" fill=\"#000000\">Mortgage_New ≤ 0.683</text>\n<text text-anchor=\"start\" x=\"3759.5\" y=\"-156.8\" font-family=\"Helvetica,sans-Serif\" font-size=\"14.00\" fill=\"#000000\">gini = 0.5</text>\n<text text-anchor=\"start\" x=\"3749.5\" y=\"-141.8\" font-family=\"Helvetica,sans-Serif\" font-size=\"14.00\" fill=\"#000000\">samples = 2</text>\n<text text-anchor=\"start\" x=\"3747.5\" y=\"-126.8\" font-family=\"Helvetica,sans-Serif\" font-size=\"14.00\" fill=\"#000000\">value = [1, 1]</text>\n<text text-anchor=\"start\" x=\"3715\" y=\"-111.8\" font-family=\"Helvetica,sans-Serif\" font-size=\"14.00\" fill=\"#000000\">class = won&#39;t purchase</text>\n</g>\n<!-- 71&#45;&gt;72 -->\n<g id=\"edge72\" class=\"edge\">\n<title>71&#45;&gt;72</title>\n<path fill=\"none\" stroke=\"#000000\" d=\"M3788.3498,-222.8796C3788.4186,-214.6838 3788.4917,-205.9891 3788.563,-197.5013\"/>\n<polygon fill=\"#000000\" stroke=\"#000000\" points=\"3792.0645,-197.3272 3788.6488,-187.2981 3785.0648,-197.2683 3792.0645,-197.3272\"/>\n</g>\n<!-- 75 -->\n<g id=\"node76\" class=\"node\">\n<title>75</title>\n<path fill=\"#e58139\" stroke=\"#000000\" d=\"M4043,-179.5C4043,-179.5 3903,-179.5 3903,-179.5 3897,-179.5 3891,-173.5 3891,-167.5 3891,-167.5 3891,-123.5 3891,-123.5 3891,-117.5 3897,-111.5 3903,-111.5 3903,-111.5 4043,-111.5 4043,-111.5 4049,-111.5 4055,-117.5 4055,-123.5 4055,-123.5 4055,-167.5 4055,-167.5 4055,-173.5 4049,-179.5 4043,-179.5\"/>\n<text text-anchor=\"start\" x=\"3943.5\" y=\"-164.3\" font-family=\"Helvetica,sans-Serif\" font-size=\"14.00\" fill=\"#000000\">gini = 0.0</text>\n<text text-anchor=\"start\" x=\"3933.5\" y=\"-149.3\" font-family=\"Helvetica,sans-Serif\" font-size=\"14.00\" fill=\"#000000\">samples = 5</text>\n<text text-anchor=\"start\" x=\"3931.5\" y=\"-134.3\" font-family=\"Helvetica,sans-Serif\" font-size=\"14.00\" fill=\"#000000\">value = [5, 0]</text>\n<text text-anchor=\"start\" x=\"3899\" y=\"-119.3\" font-family=\"Helvetica,sans-Serif\" font-size=\"14.00\" fill=\"#000000\">class = won&#39;t purchase</text>\n</g>\n<!-- 71&#45;&gt;75 -->\n<g id=\"edge75\" class=\"edge\">\n<title>71&#45;&gt;75</title>\n<path fill=\"none\" stroke=\"#000000\" d=\"M3852.704,-222.8796C3871.7696,-210.6158 3892.5719,-197.2348 3911.4346,-185.1015\"/>\n<polygon fill=\"#000000\" stroke=\"#000000\" points=\"3913.4347,-187.9766 3919.9516,-179.623 3909.6478,-182.0893 3913.4347,-187.9766\"/>\n</g>\n<!-- 73 -->\n<g id=\"node74\" class=\"node\">\n<title>73</title>\n<path fill=\"#399de5\" stroke=\"#000000\" d=\"M3850,-68C3850,-68 3724,-68 3724,-68 3718,-68 3712,-62 3712,-56 3712,-56 3712,-12 3712,-12 3712,-6 3718,0 3724,0 3724,0 3850,0 3850,0 3856,0 3862,-6 3862,-12 3862,-12 3862,-56 3862,-56 3862,-62 3856,-68 3850,-68\"/>\n<text text-anchor=\"start\" x=\"3757.5\" y=\"-52.8\" font-family=\"Helvetica,sans-Serif\" font-size=\"14.00\" fill=\"#000000\">gini = 0.0</text>\n<text text-anchor=\"start\" x=\"3747.5\" y=\"-37.8\" font-family=\"Helvetica,sans-Serif\" font-size=\"14.00\" fill=\"#000000\">samples = 1</text>\n<text text-anchor=\"start\" x=\"3745.5\" y=\"-22.8\" font-family=\"Helvetica,sans-Serif\" font-size=\"14.00\" fill=\"#000000\">value = [0, 1]</text>\n<text text-anchor=\"start\" x=\"3720\" y=\"-7.8\" font-family=\"Helvetica,sans-Serif\" font-size=\"14.00\" fill=\"#000000\">class = will purchase</text>\n</g>\n<!-- 72&#45;&gt;73 -->\n<g id=\"edge73\" class=\"edge\">\n<title>72&#45;&gt;73</title>\n<path fill=\"none\" stroke=\"#000000\" d=\"M3788.2553,-103.9815C3788.1053,-95.618 3787.947,-86.7965 3787.7954,-78.3409\"/>\n<polygon fill=\"#000000\" stroke=\"#000000\" points=\"3791.2935,-78.1993 3787.6146,-68.2637 3784.2946,-78.3249 3791.2935,-78.1993\"/>\n</g>\n<!-- 74 -->\n<g id=\"node75\" class=\"node\">\n<title>74</title>\n<path fill=\"#e58139\" stroke=\"#000000\" d=\"M4032,-68C4032,-68 3892,-68 3892,-68 3886,-68 3880,-62 3880,-56 3880,-56 3880,-12 3880,-12 3880,-6 3886,0 3892,0 3892,0 4032,0 4032,0 4038,0 4044,-6 4044,-12 4044,-12 4044,-56 4044,-56 4044,-62 4038,-68 4032,-68\"/>\n<text text-anchor=\"start\" x=\"3932.5\" y=\"-52.8\" font-family=\"Helvetica,sans-Serif\" font-size=\"14.00\" fill=\"#000000\">gini = 0.0</text>\n<text text-anchor=\"start\" x=\"3922.5\" y=\"-37.8\" font-family=\"Helvetica,sans-Serif\" font-size=\"14.00\" fill=\"#000000\">samples = 1</text>\n<text text-anchor=\"start\" x=\"3920.5\" y=\"-22.8\" font-family=\"Helvetica,sans-Serif\" font-size=\"14.00\" fill=\"#000000\">value = [1, 0]</text>\n<text text-anchor=\"start\" x=\"3888\" y=\"-7.8\" font-family=\"Helvetica,sans-Serif\" font-size=\"14.00\" fill=\"#000000\">class = won&#39;t purchase</text>\n</g>\n<!-- 72&#45;&gt;74 -->\n<g id=\"edge74\" class=\"edge\">\n<title>72&#45;&gt;74</title>\n<path fill=\"none\" stroke=\"#000000\" d=\"M3853.4188,-103.9815C3868.7573,-94.0957 3885.0885,-83.5701 3900.3016,-73.7651\"/>\n<polygon fill=\"#000000\" stroke=\"#000000\" points=\"3902.6044,-76.445 3909.1138,-68.0856 3898.8122,-70.5611 3902.6044,-76.445\"/>\n</g>\n<!-- 79 -->\n<g id=\"node80\" class=\"node\">\n<title>79</title>\n<path fill=\"#e89253\" stroke=\"#000000\" d=\"M3778,-782C3778,-782 3638,-782 3638,-782 3632,-782 3626,-776 3626,-770 3626,-770 3626,-711 3626,-711 3626,-705 3632,-699 3638,-699 3638,-699 3778,-699 3778,-699 3784,-699 3790,-705 3790,-711 3790,-711 3790,-770 3790,-770 3790,-776 3784,-782 3778,-782\"/>\n<text text-anchor=\"start\" x=\"3660.5\" y=\"-766.8\" font-family=\"Helvetica,sans-Serif\" font-size=\"14.00\" fill=\"#000000\">Family ≤ 0.093</text>\n<text text-anchor=\"start\" x=\"3670\" y=\"-751.8\" font-family=\"Helvetica,sans-Serif\" font-size=\"14.00\" fill=\"#000000\">gini = 0.208</text>\n<text text-anchor=\"start\" x=\"3660\" y=\"-736.8\" font-family=\"Helvetica,sans-Serif\" font-size=\"14.00\" fill=\"#000000\">samples = 424</text>\n<text text-anchor=\"start\" x=\"3654\" y=\"-721.8\" font-family=\"Helvetica,sans-Serif\" font-size=\"14.00\" fill=\"#000000\">value = [374, 50]</text>\n<text text-anchor=\"start\" x=\"3634\" y=\"-706.8\" font-family=\"Helvetica,sans-Serif\" font-size=\"14.00\" fill=\"#000000\">class = won&#39;t purchase</text>\n</g>\n<!-- 78&#45;&gt;79 -->\n<g id=\"edge79\" class=\"edge\">\n<title>78&#45;&gt;79</title>\n<path fill=\"none\" stroke=\"#000000\" d=\"M3708,-817.8796C3708,-809.6838 3708,-800.9891 3708,-792.5013\"/>\n<polygon fill=\"#000000\" stroke=\"#000000\" points=\"3711.5001,-792.298 3708,-782.2981 3704.5001,-792.2981 3711.5001,-792.298\"/>\n</g>\n<!-- 82 -->\n<g id=\"node83\" class=\"node\">\n<title>82</title>\n<path fill=\"#3c9ee5\" stroke=\"#000000\" d=\"M4111,-782C4111,-782 3985,-782 3985,-782 3979,-782 3973,-776 3973,-770 3973,-770 3973,-711 3973,-711 3973,-705 3979,-699 3985,-699 3985,-699 4111,-699 4111,-699 4117,-699 4123,-705 4123,-711 4123,-711 4123,-770 4123,-770 4123,-776 4117,-782 4111,-782\"/>\n<text text-anchor=\"start\" x=\"3998\" y=\"-766.8\" font-family=\"Helvetica,sans-Serif\" font-size=\"14.00\" fill=\"#000000\">Income ≤ 0.993</text>\n<text text-anchor=\"start\" x=\"4010\" y=\"-751.8\" font-family=\"Helvetica,sans-Serif\" font-size=\"14.00\" fill=\"#000000\">gini = 0.026</text>\n<text text-anchor=\"start\" x=\"4000\" y=\"-736.8\" font-family=\"Helvetica,sans-Serif\" font-size=\"14.00\" fill=\"#000000\">samples = 225</text>\n<text text-anchor=\"start\" x=\"3998\" y=\"-721.8\" font-family=\"Helvetica,sans-Serif\" font-size=\"14.00\" fill=\"#000000\">value = [3, 222]</text>\n<text text-anchor=\"start\" x=\"3981\" y=\"-706.8\" font-family=\"Helvetica,sans-Serif\" font-size=\"14.00\" fill=\"#000000\">class = will purchase</text>\n</g>\n<!-- 78&#45;&gt;82 -->\n<g id=\"edge82\" class=\"edge\">\n<title>78&#45;&gt;82</title>\n<path fill=\"none\" stroke=\"#000000\" d=\"M3790.3045,-830.6934C3842.6639,-812.3676 3910.3072,-788.6925 3963.1516,-770.1969\"/>\n<polygon fill=\"#000000\" stroke=\"#000000\" points=\"3964.5572,-773.4132 3972.8395,-766.8062 3962.2447,-766.8062 3964.5572,-773.4132\"/>\n</g>\n<!-- 80 -->\n<g id=\"node81\" class=\"node\">\n<title>80</title>\n<path fill=\"#e58139\" stroke=\"#000000\" d=\"M3691,-655.5C3691,-655.5 3551,-655.5 3551,-655.5 3545,-655.5 3539,-649.5 3539,-643.5 3539,-643.5 3539,-599.5 3539,-599.5 3539,-593.5 3545,-587.5 3551,-587.5 3551,-587.5 3691,-587.5 3691,-587.5 3697,-587.5 3703,-593.5 3703,-599.5 3703,-599.5 3703,-643.5 3703,-643.5 3703,-649.5 3697,-655.5 3691,-655.5\"/>\n<text text-anchor=\"start\" x=\"3591.5\" y=\"-640.3\" font-family=\"Helvetica,sans-Serif\" font-size=\"14.00\" fill=\"#000000\">gini = 0.0</text>\n<text text-anchor=\"start\" x=\"3573\" y=\"-625.3\" font-family=\"Helvetica,sans-Serif\" font-size=\"14.00\" fill=\"#000000\">samples = 374</text>\n<text text-anchor=\"start\" x=\"3571\" y=\"-610.3\" font-family=\"Helvetica,sans-Serif\" font-size=\"14.00\" fill=\"#000000\">value = [374, 0]</text>\n<text text-anchor=\"start\" x=\"3547\" y=\"-595.3\" font-family=\"Helvetica,sans-Serif\" font-size=\"14.00\" fill=\"#000000\">class = won&#39;t purchase</text>\n</g>\n<!-- 79&#45;&gt;80 -->\n<g id=\"edge80\" class=\"edge\">\n<title>79&#45;&gt;80</title>\n<path fill=\"none\" stroke=\"#000000\" d=\"M3677.5716,-698.8796C3669.2913,-687.5536 3660.3143,-675.2748 3652.0026,-663.9058\"/>\n<polygon fill=\"#000000\" stroke=\"#000000\" points=\"3654.8147,-661.822 3646.0874,-655.8149 3649.1639,-665.9533 3654.8147,-661.822\"/>\n</g>\n<!-- 81 -->\n<g id=\"node82\" class=\"node\">\n<title>81</title>\n<path fill=\"#399de5\" stroke=\"#000000\" d=\"M3859,-655.5C3859,-655.5 3733,-655.5 3733,-655.5 3727,-655.5 3721,-649.5 3721,-643.5 3721,-643.5 3721,-599.5 3721,-599.5 3721,-593.5 3727,-587.5 3733,-587.5 3733,-587.5 3859,-587.5 3859,-587.5 3865,-587.5 3871,-593.5 3871,-599.5 3871,-599.5 3871,-643.5 3871,-643.5 3871,-649.5 3865,-655.5 3859,-655.5\"/>\n<text text-anchor=\"start\" x=\"3766.5\" y=\"-640.3\" font-family=\"Helvetica,sans-Serif\" font-size=\"14.00\" fill=\"#000000\">gini = 0.0</text>\n<text text-anchor=\"start\" x=\"3752\" y=\"-625.3\" font-family=\"Helvetica,sans-Serif\" font-size=\"14.00\" fill=\"#000000\">samples = 50</text>\n<text text-anchor=\"start\" x=\"3750.5\" y=\"-610.3\" font-family=\"Helvetica,sans-Serif\" font-size=\"14.00\" fill=\"#000000\">value = [0, 50]</text>\n<text text-anchor=\"start\" x=\"3729\" y=\"-595.3\" font-family=\"Helvetica,sans-Serif\" font-size=\"14.00\" fill=\"#000000\">class = will purchase</text>\n</g>\n<!-- 79&#45;&gt;81 -->\n<g id=\"edge81\" class=\"edge\">\n<title>79&#45;&gt;81</title>\n<path fill=\"none\" stroke=\"#000000\" d=\"M3738.7781,-698.8796C3747.1536,-687.5536 3756.2338,-675.2748 3764.6411,-663.9058\"/>\n<polygon fill=\"#000000\" stroke=\"#000000\" points=\"3767.4925,-665.9364 3770.6242,-655.8149 3761.8643,-661.7743 3767.4925,-665.9364\"/>\n</g>\n<!-- 83 -->\n<g id=\"node84\" class=\"node\">\n<title>83</title>\n<path fill=\"#8ec7f0\" stroke=\"#000000\" d=\"M4111,-663C4111,-663 3985,-663 3985,-663 3979,-663 3973,-657 3973,-651 3973,-651 3973,-592 3973,-592 3973,-586 3979,-580 3985,-580 3985,-580 4111,-580 4111,-580 4117,-580 4123,-586 4123,-592 4123,-592 4123,-651 4123,-651 4123,-657 4117,-663 4111,-663\"/>\n<text text-anchor=\"start\" x=\"4008.5\" y=\"-647.8\" font-family=\"Helvetica,sans-Serif\" font-size=\"14.00\" fill=\"#000000\">Age ≤ 1.077</text>\n<text text-anchor=\"start\" x=\"4014.5\" y=\"-632.8\" font-family=\"Helvetica,sans-Serif\" font-size=\"14.00\" fill=\"#000000\">gini = 0.42</text>\n<text text-anchor=\"start\" x=\"4004\" y=\"-617.8\" font-family=\"Helvetica,sans-Serif\" font-size=\"14.00\" fill=\"#000000\">samples = 10</text>\n<text text-anchor=\"start\" x=\"4006.5\" y=\"-602.8\" font-family=\"Helvetica,sans-Serif\" font-size=\"14.00\" fill=\"#000000\">value = [3, 7]</text>\n<text text-anchor=\"start\" x=\"3981\" y=\"-587.8\" font-family=\"Helvetica,sans-Serif\" font-size=\"14.00\" fill=\"#000000\">class = will purchase</text>\n</g>\n<!-- 82&#45;&gt;83 -->\n<g id=\"edge83\" class=\"edge\">\n<title>82&#45;&gt;83</title>\n<path fill=\"none\" stroke=\"#000000\" d=\"M4048,-698.8796C4048,-690.6838 4048,-681.9891 4048,-673.5013\"/>\n<polygon fill=\"#000000\" stroke=\"#000000\" points=\"4051.5001,-673.298 4048,-663.2981 4044.5001,-673.2981 4051.5001,-673.298\"/>\n</g>\n<!-- 88 -->\n<g id=\"node89\" class=\"node\">\n<title>88</title>\n<path fill=\"#399de5\" stroke=\"#000000\" d=\"M4279,-655.5C4279,-655.5 4153,-655.5 4153,-655.5 4147,-655.5 4141,-649.5 4141,-643.5 4141,-643.5 4141,-599.5 4141,-599.5 4141,-593.5 4147,-587.5 4153,-587.5 4153,-587.5 4279,-587.5 4279,-587.5 4285,-587.5 4291,-593.5 4291,-599.5 4291,-599.5 4291,-643.5 4291,-643.5 4291,-649.5 4285,-655.5 4279,-655.5\"/>\n<text text-anchor=\"start\" x=\"4186.5\" y=\"-640.3\" font-family=\"Helvetica,sans-Serif\" font-size=\"14.00\" fill=\"#000000\">gini = 0.0</text>\n<text text-anchor=\"start\" x=\"4168\" y=\"-625.3\" font-family=\"Helvetica,sans-Serif\" font-size=\"14.00\" fill=\"#000000\">samples = 215</text>\n<text text-anchor=\"start\" x=\"4166\" y=\"-610.3\" font-family=\"Helvetica,sans-Serif\" font-size=\"14.00\" fill=\"#000000\">value = [0, 215]</text>\n<text text-anchor=\"start\" x=\"4149\" y=\"-595.3\" font-family=\"Helvetica,sans-Serif\" font-size=\"14.00\" fill=\"#000000\">class = will purchase</text>\n</g>\n<!-- 82&#45;&gt;88 -->\n<g id=\"edge88\" class=\"edge\">\n<title>82&#45;&gt;88</title>\n<path fill=\"none\" stroke=\"#000000\" d=\"M4106.7582,-698.8796C4123.9158,-686.7263 4142.6223,-673.4759 4159.6286,-661.4297\"/>\n<polygon fill=\"#000000\" stroke=\"#000000\" points=\"4161.6891,-664.2593 4167.8263,-655.623 4157.643,-658.5472 4161.6891,-664.2593\"/>\n</g>\n<!-- 84 -->\n<g id=\"node85\" class=\"node\">\n<title>84</title>\n<path fill=\"#55abe9\" stroke=\"#000000\" d=\"M4119.5,-544C4119.5,-544 3976.5,-544 3976.5,-544 3970.5,-544 3964.5,-538 3964.5,-532 3964.5,-532 3964.5,-473 3964.5,-473 3964.5,-467 3970.5,-461 3976.5,-461 3976.5,-461 4119.5,-461 4119.5,-461 4125.5,-461 4131.5,-467 4131.5,-473 4131.5,-473 4131.5,-532 4131.5,-532 4131.5,-538 4125.5,-544 4119.5,-544\"/>\n<text text-anchor=\"start\" x=\"3972.5\" y=\"-528.8\" font-family=\"Helvetica,sans-Serif\" font-size=\"14.00\" fill=\"#000000\">Mortgage_New ≤ 0.104</text>\n<text text-anchor=\"start\" x=\"4010\" y=\"-513.8\" font-family=\"Helvetica,sans-Serif\" font-size=\"14.00\" fill=\"#000000\">gini = 0.219</text>\n<text text-anchor=\"start\" x=\"4008.5\" y=\"-498.8\" font-family=\"Helvetica,sans-Serif\" font-size=\"14.00\" fill=\"#000000\">samples = 8</text>\n<text text-anchor=\"start\" x=\"4006.5\" y=\"-483.8\" font-family=\"Helvetica,sans-Serif\" font-size=\"14.00\" fill=\"#000000\">value = [1, 7]</text>\n<text text-anchor=\"start\" x=\"3981\" y=\"-468.8\" font-family=\"Helvetica,sans-Serif\" font-size=\"14.00\" fill=\"#000000\">class = will purchase</text>\n</g>\n<!-- 83&#45;&gt;84 -->\n<g id=\"edge84\" class=\"edge\">\n<title>83&#45;&gt;84</title>\n<path fill=\"none\" stroke=\"#000000\" d=\"M4048,-579.8796C4048,-571.6838 4048,-562.9891 4048,-554.5013\"/>\n<polygon fill=\"#000000\" stroke=\"#000000\" points=\"4051.5001,-554.298 4048,-544.2981 4044.5001,-554.2981 4051.5001,-554.298\"/>\n</g>\n<!-- 87 -->\n<g id=\"node88\" class=\"node\">\n<title>87</title>\n<path fill=\"#e58139\" stroke=\"#000000\" d=\"M4302,-536.5C4302,-536.5 4162,-536.5 4162,-536.5 4156,-536.5 4150,-530.5 4150,-524.5 4150,-524.5 4150,-480.5 4150,-480.5 4150,-474.5 4156,-468.5 4162,-468.5 4162,-468.5 4302,-468.5 4302,-468.5 4308,-468.5 4314,-474.5 4314,-480.5 4314,-480.5 4314,-524.5 4314,-524.5 4314,-530.5 4308,-536.5 4302,-536.5\"/>\n<text text-anchor=\"start\" x=\"4202.5\" y=\"-521.3\" font-family=\"Helvetica,sans-Serif\" font-size=\"14.00\" fill=\"#000000\">gini = 0.0</text>\n<text text-anchor=\"start\" x=\"4192.5\" y=\"-506.3\" font-family=\"Helvetica,sans-Serif\" font-size=\"14.00\" fill=\"#000000\">samples = 2</text>\n<text text-anchor=\"start\" x=\"4190.5\" y=\"-491.3\" font-family=\"Helvetica,sans-Serif\" font-size=\"14.00\" fill=\"#000000\">value = [2, 0]</text>\n<text text-anchor=\"start\" x=\"4158\" y=\"-476.3\" font-family=\"Helvetica,sans-Serif\" font-size=\"14.00\" fill=\"#000000\">class = won&#39;t purchase</text>\n</g>\n<!-- 83&#45;&gt;87 -->\n<g id=\"edge87\" class=\"edge\">\n<title>83&#45;&gt;87</title>\n<path fill=\"none\" stroke=\"#000000\" d=\"M4112.3543,-579.8796C4131.3167,-567.6158 4152.0066,-554.2348 4170.7674,-542.1015\"/>\n<polygon fill=\"#000000\" stroke=\"#000000\" points=\"4172.7421,-544.9926 4179.2383,-536.623 4168.9407,-539.1148 4172.7421,-544.9926\"/>\n</g>\n<!-- 85 -->\n<g id=\"node86\" class=\"node\">\n<title>85</title>\n<path fill=\"#399de5\" stroke=\"#000000\" d=\"M4111,-417.5C4111,-417.5 3985,-417.5 3985,-417.5 3979,-417.5 3973,-411.5 3973,-405.5 3973,-405.5 3973,-361.5 3973,-361.5 3973,-355.5 3979,-349.5 3985,-349.5 3985,-349.5 4111,-349.5 4111,-349.5 4117,-349.5 4123,-355.5 4123,-361.5 4123,-361.5 4123,-405.5 4123,-405.5 4123,-411.5 4117,-417.5 4111,-417.5\"/>\n<text text-anchor=\"start\" x=\"4018.5\" y=\"-402.3\" font-family=\"Helvetica,sans-Serif\" font-size=\"14.00\" fill=\"#000000\">gini = 0.0</text>\n<text text-anchor=\"start\" x=\"4008.5\" y=\"-387.3\" font-family=\"Helvetica,sans-Serif\" font-size=\"14.00\" fill=\"#000000\">samples = 7</text>\n<text text-anchor=\"start\" x=\"4006.5\" y=\"-372.3\" font-family=\"Helvetica,sans-Serif\" font-size=\"14.00\" fill=\"#000000\">value = [0, 7]</text>\n<text text-anchor=\"start\" x=\"3981\" y=\"-357.3\" font-family=\"Helvetica,sans-Serif\" font-size=\"14.00\" fill=\"#000000\">class = will purchase</text>\n</g>\n<!-- 84&#45;&gt;85 -->\n<g id=\"edge85\" class=\"edge\">\n<title>84&#45;&gt;85</title>\n<path fill=\"none\" stroke=\"#000000\" d=\"M4048,-460.8796C4048,-450.2134 4048,-438.7021 4048,-427.9015\"/>\n<polygon fill=\"#000000\" stroke=\"#000000\" points=\"4051.5001,-427.8149 4048,-417.8149 4044.5001,-427.815 4051.5001,-427.8149\"/>\n</g>\n<!-- 86 -->\n<g id=\"node87\" class=\"node\">\n<title>86</title>\n<path fill=\"#e58139\" stroke=\"#000000\" d=\"M4293,-417.5C4293,-417.5 4153,-417.5 4153,-417.5 4147,-417.5 4141,-411.5 4141,-405.5 4141,-405.5 4141,-361.5 4141,-361.5 4141,-355.5 4147,-349.5 4153,-349.5 4153,-349.5 4293,-349.5 4293,-349.5 4299,-349.5 4305,-355.5 4305,-361.5 4305,-361.5 4305,-405.5 4305,-405.5 4305,-411.5 4299,-417.5 4293,-417.5\"/>\n<text text-anchor=\"start\" x=\"4193.5\" y=\"-402.3\" font-family=\"Helvetica,sans-Serif\" font-size=\"14.00\" fill=\"#000000\">gini = 0.0</text>\n<text text-anchor=\"start\" x=\"4183.5\" y=\"-387.3\" font-family=\"Helvetica,sans-Serif\" font-size=\"14.00\" fill=\"#000000\">samples = 1</text>\n<text text-anchor=\"start\" x=\"4181.5\" y=\"-372.3\" font-family=\"Helvetica,sans-Serif\" font-size=\"14.00\" fill=\"#000000\">value = [1, 0]</text>\n<text text-anchor=\"start\" x=\"4149\" y=\"-357.3\" font-family=\"Helvetica,sans-Serif\" font-size=\"14.00\" fill=\"#000000\">class = won&#39;t purchase</text>\n</g>\n<!-- 84&#45;&gt;86 -->\n<g id=\"edge86\" class=\"edge\">\n<title>84&#45;&gt;86</title>\n<path fill=\"none\" stroke=\"#000000\" d=\"M4109.2065,-460.8796C4127.079,-448.7263 4146.5649,-435.4759 4164.2798,-423.4297\"/>\n<polygon fill=\"#000000\" stroke=\"#000000\" points=\"4166.5179,-426.1404 4172.8191,-417.623 4162.5817,-420.3519 4166.5179,-426.1404\"/>\n</g>\n</g>\n</svg>\n"
          },
          "metadata": {
            "tags": []
          },
          "execution_count": 289
        }
      ]
    },
    {
      "cell_type": "markdown",
      "metadata": {
        "id": "NsxlE1KP5q5Y",
        "colab_type": "text"
      },
      "source": [
        "<h2><strong>Random Forest Algorithm</strong></h2>"
      ]
    },
    {
      "cell_type": "markdown",
      "metadata": {
        "id": "S91zBU29z7GK",
        "colab_type": "text"
      },
      "source": [
        "I tried taking the n_estimators to be 500 and the max_depth as 8 but that set of parameters had almost same accuracy with less recall score."
      ]
    },
    {
      "cell_type": "code",
      "metadata": {
        "id": "2ZC-5ljtNjM2",
        "colab_type": "code",
        "colab": {
          "base_uri": "https://localhost:8080/",
          "height": 73
        },
        "outputId": "c1615d75-f7b9-4d2a-bd57-200eba0550d0"
      },
      "source": [
        "from sklearn.ensemble import RandomForestClassifier\n",
        "rf = RandomForestClassifier(n_estimators=1000,max_depth=9,random_state=0)\n",
        "rf.fit(np_train_X,np_train_Y)\n",
        "rf_train_pred=rf.predict(np_train_X)\n",
        "rf_test_pred= rf.predict(np_test_X)"
      ],
      "execution_count": 290,
      "outputs": [
        {
          "output_type": "stream",
          "text": [
            "/usr/local/lib/python3.6/dist-packages/ipykernel_launcher.py:3: DataConversionWarning: A column-vector y was passed when a 1d array was expected. Please change the shape of y to (n_samples,), for example using ravel().\n",
            "  This is separate from the ipykernel package so we can avoid doing imports until\n"
          ],
          "name": "stderr"
        }
      ]
    },
    {
      "cell_type": "code",
      "metadata": {
        "id": "VyY1Y4UnO29p",
        "colab_type": "code",
        "colab": {
          "base_uri": "https://localhost:8080/",
          "height": 53
        },
        "outputId": "e2db889f-0ca8-479e-a856-084863cb7a0b"
      },
      "source": [
        "print(\"Training Accuracy : \",accuracy_score(np_train_Y,rf_train_pred))\n",
        "print(\"Test Accuracy : \",accuracy_score(np_test_Y,rf_test_pred))"
      ],
      "execution_count": 291,
      "outputs": [
        {
          "output_type": "stream",
          "text": [
            "Training Accuracy :  0.9968571428571429\n",
            "Test Accuracy :  0.9873333333333333\n"
          ],
          "name": "stdout"
        }
      ]
    },
    {
      "cell_type": "code",
      "metadata": {
        "id": "4KGCSKvbPGCH",
        "colab_type": "code",
        "colab": {
          "base_uri": "https://localhost:8080/",
          "height": 108
        },
        "outputId": "b0802d70-eb63-4f84-b1bf-e309eff56952"
      },
      "source": [
        "show_scores(\"Random_forest\",rf_test_pred,np_test_Y)"
      ],
      "execution_count": 292,
      "outputs": [
        {
          "output_type": "stream",
          "text": [
            "Results of  Random_forest  model\n",
            "Recall_Score : 0.8888888888888888\n",
            "F1_Score :  0.9309090909090909\n",
            "Precision_Score :  0.9770992366412213\n",
            "ROC_AUC_Score :  0.943338249754179\n"
          ],
          "name": "stdout"
        }
      ]
    },
    {
      "cell_type": "code",
      "metadata": {
        "id": "AcmzQqPZUrlY",
        "colab_type": "code",
        "colab": {
          "base_uri": "https://localhost:8080/",
          "height": 283
        },
        "outputId": "dd07ee66-a8eb-4103-b65a-79cc1fcae483"
      },
      "source": [
        "cm = confusion_matrix(np_test_Y,rf_test_pred)  #confusion matrix\n",
        "sns.heatmap(cm,annot=True,fmt='.2f')\n",
        "print(\"Confusion Matrix\")\n",
        "plt.show()"
      ],
      "execution_count": 293,
      "outputs": [
        {
          "output_type": "stream",
          "text": [
            "Confusion Matrix\n"
          ],
          "name": "stdout"
        },
        {
          "output_type": "display_data",
          "data": {
            "image/png": "[encoded data removed]",
            "text/plain": [
              "<Figure size 432x288 with 2 Axes>"
            ]
          },
          "metadata": {
            "tags": [],
            "needs_background": "light"
          }
        }
      ]
    },
    {
      "cell_type": "markdown",
      "metadata": {
        "id": "d07enFv9VevU",
        "colab_type": "text"
      },
      "source": [
        "<h2><strong>SVM model<strong><h2>"
      ]
    },
    {
      "cell_type": "markdown",
      "metadata": {
        "id": "YiOSMs530xy6",
        "colab_type": "text"
      },
      "source": [
        "The kernel functions that I tried were 'linear' , 'poly' with degree = 3,4,5,6,7 and 'rbf'. 'rbf' has given the best results"
      ]
    },
    {
      "cell_type": "code",
      "metadata": {
        "id": "vSb9BMkaWv6B",
        "colab_type": "code",
        "colab": {
          "base_uri": "https://localhost:8080/",
          "height": 73
        },
        "outputId": "2c8a2b2f-95d4-4548-e227-7ba58096abe5"
      },
      "source": [
        "from sklearn import svm\n",
        "svc = svm.SVC(kernel='rbf')\n",
        "svc.fit(np_train_X,np_train_Y)\n",
        "svc_pred_test = svc.predict(np_test_X)\n",
        "svc_pred_train = svc.predict(np_train_X)"
      ],
      "execution_count": 294,
      "outputs": [
        {
          "output_type": "stream",
          "text": [
            "/usr/local/lib/python3.6/dist-packages/sklearn/utils/validation.py:760: DataConversionWarning: A column-vector y was passed when a 1d array was expected. Please change the shape of y to (n_samples, ), for example using ravel().\n",
            "  y = column_or_1d(y, warn=True)\n"
          ],
          "name": "stderr"
        }
      ]
    },
    {
      "cell_type": "code",
      "metadata": {
        "id": "H4cTolnpfbrL",
        "colab_type": "code",
        "colab": {
          "base_uri": "https://localhost:8080/",
          "height": 53
        },
        "outputId": "59430073-a178-45de-f12c-be367d9d514a"
      },
      "source": [
        "print(\"Training Accuracy : \",accuracy_score(np_train_Y,svc_pred_train))\n",
        "print(\"Test Accuracy : \",accuracy_score(np_test_Y,svc_pred_test))"
      ],
      "execution_count": 295,
      "outputs": [
        {
          "output_type": "stream",
          "text": [
            "Training Accuracy :  0.9797142857142858\n",
            "Test Accuracy :  0.976\n"
          ],
          "name": "stdout"
        }
      ]
    },
    {
      "cell_type": "code",
      "metadata": {
        "id": "d567Kw_gflFe",
        "colab_type": "code",
        "colab": {
          "base_uri": "https://localhost:8080/",
          "height": 108
        },
        "outputId": "95b36ad9-8d3d-4ee5-b1d7-c85f40495f16"
      },
      "source": [
        "show_scores(\"SVM Classifier\",svc_pred_test,np_test_Y)"
      ],
      "execution_count": 296,
      "outputs": [
        {
          "output_type": "stream",
          "text": [
            "Results of  SVM Classifier  model\n",
            "Recall_Score : 0.7847222222222222\n",
            "F1_Score :  0.8625954198473282\n",
            "Precision_Score :  0.9576271186440678\n",
            "ROC_AUC_Score :  0.890517453294002\n"
          ],
          "name": "stdout"
        }
      ]
    },
    {
      "cell_type": "code",
      "metadata": {
        "id": "OJ3HzC1Hf5kM",
        "colab_type": "code",
        "colab": {
          "base_uri": "https://localhost:8080/",
          "height": 283
        },
        "outputId": "dd463606-d4b7-470d-d771-e2bf589f98b2"
      },
      "source": [
        "cm = confusion_matrix(np_test_Y,svc_pred_test)  #confusion matrix\n",
        "sns.heatmap(cm,annot=True,fmt='.2f')\n",
        "print(\"Confusion Matrix\")\n",
        "plt.show()"
      ],
      "execution_count": 297,
      "outputs": [
        {
          "output_type": "stream",
          "text": [
            "Confusion Matrix\n"
          ],
          "name": "stdout"
        },
        {
          "output_type": "display_data",
          "data": {
            "image/png": "[encoded data removed]",
            "text/plain": [
              "<Figure size 432x288 with 2 Axes>"
            ]
          },
          "metadata": {
            "tags": [],
            "needs_background": "light"
          }
        }
      ]
    },
    {
      "cell_type": "markdown",
      "metadata": {
        "id": "Sm-5PTehg9xN",
        "colab_type": "text"
      },
      "source": [
        "<h2><strong>KNN model<strong><h2>"
      ]
    },
    {
      "cell_type": "code",
      "metadata": {
        "id": "sPC7SshhqSst",
        "colab_type": "code",
        "colab": {}
      },
      "source": [
        "from sklearn.neighbors import KNeighborsClassifier\n",
        "from sklearn.model_selection import GridSearchCV"
      ],
      "execution_count": 298,
      "outputs": []
    },
    {
      "cell_type": "markdown",
      "metadata": {
        "id": "28f-CNJm1f3o",
        "colab_type": "text"
      },
      "source": [
        "<h3>Hyperparameter tuning using GridSearchCV</h3>\n"
      ]
    },
    {
      "cell_type": "markdown",
      "metadata": {
        "id": "-JMC2a_B2ISC",
        "colab_type": "text"
      },
      "source": [
        "For n_neighbours=1,leafsize=1 the test accuracy came out to be 1.00. Hence to avoid overfitting I have ommitted 1 from the n_neighbors range"
      ]
    },
    {
      "cell_type": "code",
      "metadata": {
        "id": "_07kp6lXqX9h",
        "colab_type": "code",
        "colab": {}
      },
      "source": [
        "#defining some hyperparameters\n",
        "leaf_size = list(range(1,25))\n",
        "n_neighbors = list(range(2,10))\n",
        "hyperparameters = dict(leaf_size=leaf_size,n_neighbors=n_neighbors)\n",
        "knn = KNeighborsClassifier()\n",
        "models = GridSearchCV(knn,param_grid=hyperparameters,scoring='recall',cv=5,n_jobs=-1 ) #Scoring metric used is Recall"
      ],
      "execution_count": 299,
      "outputs": []
    },
    {
      "cell_type": "markdown",
      "metadata": {
        "id": "WfeSW8GD2jO2",
        "colab_type": "text"
      },
      "source": [
        "In order to tune the parameters to get maximum recall_score, the metric used in the GridSearchCV function is recall"
      ]
    },
    {
      "cell_type": "code",
      "metadata": {
        "id": "TdoBgpsww0AL",
        "colab_type": "code",
        "colab": {
          "base_uri": "https://localhost:8080/",
          "height": 73
        },
        "outputId": "a8e82866-aa56-483b-b014-020bfdcd9332"
      },
      "source": [
        "models.fit(np_train_X,np_train_Y) #fitting the training data over the grid\n",
        "knn_best = KNeighborsClassifier(**(models.best_params_)) #using the best parameters to construct KNN Classifier"
      ],
      "execution_count": 300,
      "outputs": [
        {
          "output_type": "stream",
          "text": [
            "/usr/local/lib/python3.6/dist-packages/sklearn/model_selection/_search.py:739: DataConversionWarning: A column-vector y was passed when a 1d array was expected. Please change the shape of y to (n_samples, ), for example using ravel().\n",
            "  self.best_estimator_.fit(X, y, **fit_params)\n"
          ],
          "name": "stderr"
        }
      ]
    },
    {
      "cell_type": "code",
      "metadata": {
        "id": "tUzgyAH9IXUu",
        "colab_type": "code",
        "colab": {
          "base_uri": "https://localhost:8080/",
          "height": 35
        },
        "outputId": "deca7879-0545-4c23-a5e7-c318b09076ae"
      },
      "source": [
        "models.best_params_ #"
      ],
      "execution_count": 301,
      "outputs": [
        {
          "output_type": "execute_result",
          "data": {
            "text/plain": [
              "{'leaf_size': 1, 'n_neighbors': 3}"
            ]
          },
          "metadata": {
            "tags": []
          },
          "execution_count": 301
        }
      ]
    },
    {
      "cell_type": "code",
      "metadata": {
        "id": "EeWIpdRYyy1V",
        "colab_type": "code",
        "colab": {
          "base_uri": "https://localhost:8080/",
          "height": 73
        },
        "outputId": "7e6e03ff-ea14-4242-ed07-4ee26a9f7778"
      },
      "source": [
        "knn_best.fit(np_train_X,np_train_Y)\n",
        "knn_pred_train=knn_best.predict(np_train_X)\n",
        "knn_pred_test=knn_best.predict(np_test_X)"
      ],
      "execution_count": 302,
      "outputs": [
        {
          "output_type": "stream",
          "text": [
            "/usr/local/lib/python3.6/dist-packages/ipykernel_launcher.py:1: DataConversionWarning: A column-vector y was passed when a 1d array was expected. Please change the shape of y to (n_samples, ), for example using ravel().\n",
            "  \"\"\"Entry point for launching an IPython kernel.\n"
          ],
          "name": "stderr"
        }
      ]
    },
    {
      "cell_type": "code",
      "metadata": {
        "id": "C6XhYi_X7FIh",
        "colab_type": "code",
        "colab": {
          "base_uri": "https://localhost:8080/",
          "height": 53
        },
        "outputId": "515eb548-b3ba-4101-e91b-459d3d6f09ff"
      },
      "source": [
        "print(\"Training Accuracy : \",accuracy_score(np_train_Y,knn_pred_train))\n",
        "print(\"Test Accuracy : \",accuracy_score(np_test_Y,knn_pred_test))"
      ],
      "execution_count": 303,
      "outputs": [
        {
          "output_type": "stream",
          "text": [
            "Training Accuracy :  0.9777142857142858\n",
            "Test Accuracy :  0.9626666666666667\n"
          ],
          "name": "stdout"
        }
      ]
    },
    {
      "cell_type": "code",
      "metadata": {
        "id": "Smpsm6AG7ptJ",
        "colab_type": "code",
        "colab": {
          "base_uri": "https://localhost:8080/",
          "height": 108
        },
        "outputId": "161d532c-0b25-4128-dabb-90aa4601c5cb"
      },
      "source": [
        "show_scores(\"KNN Model\",knn_pred_test,np_test_Y)"
      ],
      "execution_count": 304,
      "outputs": [
        {
          "output_type": "stream",
          "text": [
            "Results of  KNN Model  model\n",
            "Recall_Score : 0.6527777777777778\n",
            "F1_Score :  0.7704918032786886\n",
            "Precision_Score :  0.94\n",
            "ROC_AUC_Score :  0.8241764995083579\n"
          ],
          "name": "stdout"
        }
      ]
    },
    {
      "cell_type": "code",
      "metadata": {
        "id": "5jUoS-H7Gw9T",
        "colab_type": "code",
        "colab": {
          "base_uri": "https://localhost:8080/",
          "height": 283
        },
        "outputId": "6d741095-a631-4b97-92e6-8f3d44f800e4"
      },
      "source": [
        "cm = confusion_matrix(np_test_Y,knn_pred_test)  #confusion matrix\n",
        "sns.heatmap(cm,annot=True,fmt='.2f')\n",
        "print(\"Confusion Matrix\")\n",
        "plt.show()"
      ],
      "execution_count": 305,
      "outputs": [
        {
          "output_type": "stream",
          "text": [
            "Confusion Matrix\n"
          ],
          "name": "stdout"
        },
        {
          "output_type": "display_data",
          "data": {
            "image/png": "[encoded data removed]",
            "text/plain": [
              "<Figure size 432x288 with 2 Axes>"
            ]
          },
          "metadata": {
            "tags": [],
            "needs_background": "light"
          }
        }
      ]
    },
    {
      "cell_type": "markdown",
      "metadata": {
        "id": "ZI2QTODwLp0q",
        "colab_type": "text"
      },
      "source": [
        "<h2><strong>Naive Bayes Model</strong></h2>"
      ]
    },
    {
      "cell_type": "code",
      "metadata": {
        "id": "yNJKOOl8Mq9Z",
        "colab_type": "code",
        "colab": {
          "base_uri": "https://localhost:8080/",
          "height": 73
        },
        "outputId": "f7414876-3a7a-46d2-88d6-f34efd7b242b"
      },
      "source": [
        "from sklearn.naive_bayes import GaussianNB #using gaussian naive bayes\n",
        "nb = GaussianNB()\n",
        "nb.fit(np_train_X,np_train_Y)\n",
        "nb_pred_train=nb.predict(np_train_X)\n",
        "nb_pred_test=nb.predict(np_test_X)"
      ],
      "execution_count": 306,
      "outputs": [
        {
          "output_type": "stream",
          "text": [
            "/usr/local/lib/python3.6/dist-packages/sklearn/naive_bayes.py:206: DataConversionWarning: A column-vector y was passed when a 1d array was expected. Please change the shape of y to (n_samples, ), for example using ravel().\n",
            "  y = column_or_1d(y, warn=True)\n"
          ],
          "name": "stderr"
        }
      ]
    },
    {
      "cell_type": "code",
      "metadata": {
        "id": "nSZB89a6OPqM",
        "colab_type": "code",
        "colab": {
          "base_uri": "https://localhost:8080/",
          "height": 53
        },
        "outputId": "146539d5-0323-4a2d-b4ac-ee3e99a8b9ef"
      },
      "source": [
        "print(\"Training Accuracy : \",accuracy_score(np_train_Y,nb_pred_train))\n",
        "print(\"Test Accuracy : \",accuracy_score(np_test_Y,nb_pred_test))"
      ],
      "execution_count": 307,
      "outputs": [
        {
          "output_type": "stream",
          "text": [
            "Training Accuracy :  0.9085714285714286\n",
            "Test Accuracy :  0.918\n"
          ],
          "name": "stdout"
        }
      ]
    },
    {
      "cell_type": "code",
      "metadata": {
        "id": "rLv7y5yKOWOF",
        "colab_type": "code",
        "colab": {
          "base_uri": "https://localhost:8080/",
          "height": 108
        },
        "outputId": "97be206a-03a3-4e94-9942-31f19ee33e86"
      },
      "source": [
        "show_scores(\"Naive Bayes\",nb_pred_test,np_test_Y)"
      ],
      "execution_count": 308,
      "outputs": [
        {
          "output_type": "stream",
          "text": [
            "Results of  Naive Bayes  model\n",
            "Recall_Score : 0.5347222222222222\n",
            "F1_Score :  0.555956678700361\n",
            "Precision_Score :  0.5789473684210527\n",
            "ROC_AUC_Score :  0.7467121435594888\n"
          ],
          "name": "stdout"
        }
      ]
    },
    {
      "cell_type": "code",
      "metadata": {
        "id": "umOa3UXpt-fp",
        "colab_type": "code",
        "colab": {
          "base_uri": "https://localhost:8080/",
          "height": 283
        },
        "outputId": "9bb77996-b823-48cf-ea6c-4459599704d2"
      },
      "source": [
        "cm = confusion_matrix(np_test_Y,nb_pred_test)  #confusion matrix\n",
        "sns.heatmap(cm,annot=True,fmt='.2f')\n",
        "print(\"Confusion Matrix\")\n",
        "plt.show()"
      ],
      "execution_count": 309,
      "outputs": [
        {
          "output_type": "stream",
          "text": [
            "Confusion Matrix\n"
          ],
          "name": "stdout"
        },
        {
          "output_type": "display_data",
          "data": {
            "image/png": "[encoded data removed]",
            "text/plain": [
              "<Figure size 432x288 with 2 Axes>"
            ]
          },
          "metadata": {
            "tags": [],
            "needs_background": "light"
          }
        }
      ]
    },
    {
      "cell_type": "markdown",
      "metadata": {
        "id": "HvVktdZiSAt8",
        "colab_type": "text"
      },
      "source": [
        "<h2><strong>Neural Network Model</strong></h2>"
      ]
    },
    {
      "cell_type": "code",
      "metadata": {
        "id": "X8OIheBcXwdQ",
        "colab_type": "code",
        "colab": {}
      },
      "source": [
        "from keras.models import Sequential\n",
        "from keras.layers import Dense"
      ],
      "execution_count": 310,
      "outputs": []
    },
    {
      "cell_type": "markdown",
      "metadata": {
        "id": "jCg90MS1Adj0",
        "colab_type": "text"
      },
      "source": [
        "This neural network has 3 layers with 10,7,1 neurons respectively from input to output"
      ]
    },
    {
      "cell_type": "code",
      "metadata": {
        "id": "o71Uh_FTYISB",
        "colab_type": "code",
        "colab": {}
      },
      "source": [
        "neural_net = Sequential()\n",
        "neural_net.add(Dense(7,input_dim=10,activation='relu'))\n",
        "neural_net.add(Dense(1,activation='sigmoid'))"
      ],
      "execution_count": 311,
      "outputs": []
    },
    {
      "cell_type": "code",
      "metadata": {
        "id": "t_gOBkaaZrjq",
        "colab_type": "code",
        "colab": {}
      },
      "source": [
        "neural_net.compile(loss='binary_crossentropy', optimizer='adam', metrics=['Recall','accuracy','Precision','AUC'])"
      ],
      "execution_count": 312,
      "outputs": []
    },
    {
      "cell_type": "code",
      "metadata": {
        "id": "vD48yw9FaBMS",
        "colab_type": "code",
        "colab": {
          "base_uri": "https://localhost:8080/",
          "height": 35
        },
        "outputId": "cc5582b6-30aa-4e4c-d5ad-61025b823eac"
      },
      "source": [
        "# fit the keras model on the dataset\n",
        "neural_net.fit(np_train_X, np_train_Y, epochs=500, batch_size=32,verbose=0)"
      ],
      "execution_count": 313,
      "outputs": [
        {
          "output_type": "execute_result",
          "data": {
            "text/plain": [
              "<tensorflow.python.keras.callbacks.History at 0x7f7a982097b8>"
            ]
          },
          "metadata": {
            "tags": []
          },
          "execution_count": 313
        }
      ]
    },
    {
      "cell_type": "code",
      "metadata": {
        "id": "p8PeTBuNbjEc",
        "colab_type": "code",
        "colab": {
          "base_uri": "https://localhost:8080/",
          "height": 35
        },
        "outputId": "a80eae67-186e-41de-bc8b-858afe0991d3"
      },
      "source": [
        "eval_train=neural_net.evaluate(np_train_X,np_train_Y,verbose=0)\n",
        "print(eval_train)"
      ],
      "execution_count": 321,
      "outputs": [
        {
          "output_type": "stream",
          "text": [
            "[0.045037101954221725, 0.9017857313156128, 0.9837142825126648, 0.9266055226325989, 0.9904097318649292]\n"
          ],
          "name": "stdout"
        }
      ]
    },
    {
      "cell_type": "code",
      "metadata": {
        "id": "KAO5K0LtcFSD",
        "colab_type": "code",
        "colab": {
          "base_uri": "https://localhost:8080/",
          "height": 35
        },
        "outputId": "8de0712f-6cf0-4f43-d8a8-aab649fd485f"
      },
      "source": [
        "eval_test=neural_net.evaluate(np_test_X,np_test_Y,verbose=0)\n",
        "print(eval_test)"
      ],
      "execution_count": 322,
      "outputs": [
        {
          "output_type": "stream",
          "text": [
            "[0.05809920281171799, 0.8680555820465088, 0.9786666631698608, 0.9057971239089966, 0.9809207320213318]\n"
          ],
          "name": "stdout"
        }
      ]
    },
    {
      "cell_type": "code",
      "metadata": {
        "id": "_mye6X5dflym",
        "colab_type": "code",
        "colab": {}
      },
      "source": [
        "neural_net_pred_test=(neural_net.predict(np_test_X)>0.5)*1"
      ],
      "execution_count": 316,
      "outputs": []
    },
    {
      "cell_type": "code",
      "metadata": {
        "id": "7n_TN0pqBYoR",
        "colab_type": "code",
        "colab": {
          "base_uri": "https://localhost:8080/",
          "height": 108
        },
        "outputId": "907a636c-e417-4337-bbad-6436e9461824"
      },
      "source": [
        "show_scores(\"Neural_network\",neural_net_pred_test,np_test_Y)"
      ],
      "execution_count": 324,
      "outputs": [
        {
          "output_type": "stream",
          "text": [
            "Results of  Neural_network  model\n",
            "Recall_Score : 0.8680555555555556\n",
            "F1_Score :  0.8865248226950354\n",
            "Precision_Score :  0.9057971014492754\n",
            "ROC_AUC_Score :  0.9292342674532941\n"
          ],
          "name": "stdout"
        }
      ]
    },
    {
      "cell_type": "code",
      "metadata": {
        "id": "kcSn0RyKkrsk",
        "colab_type": "code",
        "colab": {
          "base_uri": "https://localhost:8080/",
          "height": 283
        },
        "outputId": "ddd22de3-1d6d-470d-9c2c-f72fc300d0c3"
      },
      "source": [
        "cm = confusion_matrix(np_test_Y,neural_net_pred_test)  #confusion matrix\n",
        "sns.heatmap(cm,annot=True,fmt='.2f')\n",
        "print(\"Confusion Matrix\")\n",
        "plt.show()"
      ],
      "execution_count": 317,
      "outputs": [
        {
          "output_type": "stream",
          "text": [
            "Confusion Matrix\n"
          ],
          "name": "stdout"
        },
        {
          "output_type": "display_data",
          "data": {
            "image/png": "[encoded data removed]",
            "text/plain": [
              "<Figure size 432x288 with 2 Axes>"
            ]
          },
          "metadata": {
            "tags": [],
            "needs_background": "light"
          }
        }
      ]
    },
    {
      "cell_type": "markdown",
      "metadata": {
        "id": "KOS3O3NAkwzz",
        "colab_type": "text"
      },
      "source": [
        "<h2><strong>Comparing the performance of various models and deciding the metric for the same</strong></h2></br>\n"
      ]
    },
    {
      "cell_type": "markdown",
      "metadata": {
        "id": "4ww2Vs5klqhq",
        "colab_type": "text"
      },
      "source": [
        "The most important metric for comparing the various models that have been built on the given dataset is the **'Recall'** metric. This is because the we want to minimize the number of potential customers who might take the personal loan but the machine learning model labels them otherwise. Such cases are referred to as 'False Negatives'. Recall metric tells us the fraction of the people a class that are classified correctly. Hence a **higher the 'Recall' score lesser are the 'False Negatives'**.At the same time the accuracy should be greater than 91% (which is obtained by labelling every personal as unlikely of taking the loan)."
      ]
    },
    {
      "cell_type": "code",
      "metadata": {
        "id": "14dFQLWgoEWK",
        "colab_type": "code",
        "colab": {}
      },
      "source": [
        "acc_scores=[accuracy_score(np_test_Y,Y_pred_test),accuracy_score(np_test_Y,dt_pred_test),accuracy_score(np_test_Y,rf_test_pred),accuracy_score(np_test_Y,svc_pred_test),accuracy_score(np_test_Y,knn_pred_test),accuracy_score(np_test_Y,nb_pred_test),eval_test[2]]\n",
        "recall_scores=[recall_score(np_test_Y,Y_pred_test),recall_score(np_test_Y,dt_pred_test),recall_score(np_test_Y,rf_test_pred),recall_score(np_test_Y,svc_pred_test),recall_score(np_test_Y,knn_pred_test),recall_score(np_test_Y,nb_pred_test),eval_test[1]]"
      ],
      "execution_count": 318,
      "outputs": []
    },
    {
      "cell_type": "code",
      "metadata": {
        "id": "FVQ50jTypq2v",
        "colab_type": "code",
        "colab": {}
      },
      "source": [
        "d = dict(Accuracy=acc_scores,Recall=recall_scores)\n",
        "df = pd.DataFrame(d,index=['Logistic Regression','Decision Tree','Random Forest','SVM','KNN','Naive Bayes','Neural Network'])"
      ],
      "execution_count": 319,
      "outputs": []
    },
    {
      "cell_type": "code",
      "metadata": {
        "id": "JWEWGtlJp6FG",
        "colab_type": "code",
        "colab": {
          "base_uri": "https://localhost:8080/",
          "height": 269
        },
        "outputId": "73df707d-61cb-44cf-ae0b-3f1205dfb1ac"
      },
      "source": [
        "df.sort_values(by=['Recall','Accuracy'],ascending=False)"
      ],
      "execution_count": 320,
      "outputs": [
        {
          "output_type": "execute_result",
          "data": {
            "text/html": [
              "<div>\n",
              "<style scoped>\n",
              "    .dataframe tbody tr th:only-of-type {\n",
              "        vertical-align: middle;\n",
              "    }\n",
              "\n",
              "    .dataframe tbody tr th {\n",
              "        vertical-align: top;\n",
              "    }\n",
              "\n",
              "    .dataframe thead th {\n",
              "        text-align: right;\n",
              "    }\n",
              "</style>\n",
              "<table border=\"1\" class=\"dataframe\">\n",
              "  <thead>\n",
              "    <tr style=\"text-align: right;\">\n",
              "      <th></th>\n",
              "      <th>Accuracy</th>\n",
              "      <th>Recall</th>\n",
              "    </tr>\n",
              "  </thead>\n",
              "  <tbody>\n",
              "    <tr>\n",
              "      <th>Decision Tree</th>\n",
              "      <td>0.982667</td>\n",
              "      <td>0.902778</td>\n",
              "    </tr>\n",
              "    <tr>\n",
              "      <th>Random Forest</th>\n",
              "      <td>0.987333</td>\n",
              "      <td>0.888889</td>\n",
              "    </tr>\n",
              "    <tr>\n",
              "      <th>Neural Network</th>\n",
              "      <td>0.978667</td>\n",
              "      <td>0.868056</td>\n",
              "    </tr>\n",
              "    <tr>\n",
              "      <th>SVM</th>\n",
              "      <td>0.976000</td>\n",
              "      <td>0.784722</td>\n",
              "    </tr>\n",
              "    <tr>\n",
              "      <th>KNN</th>\n",
              "      <td>0.962667</td>\n",
              "      <td>0.652778</td>\n",
              "    </tr>\n",
              "    <tr>\n",
              "      <th>Logistic Regression</th>\n",
              "      <td>0.954667</td>\n",
              "      <td>0.645833</td>\n",
              "    </tr>\n",
              "    <tr>\n",
              "      <th>Naive Bayes</th>\n",
              "      <td>0.918000</td>\n",
              "      <td>0.534722</td>\n",
              "    </tr>\n",
              "  </tbody>\n",
              "</table>\n",
              "</div>"
            ],
            "text/plain": [
              "                     Accuracy    Recall\n",
              "Decision Tree        0.982667  0.902778\n",
              "Random Forest        0.987333  0.888889\n",
              "Neural Network       0.978667  0.868056\n",
              "SVM                  0.976000  0.784722\n",
              "KNN                  0.962667  0.652778\n",
              "Logistic Regression  0.954667  0.645833\n",
              "Naive Bayes          0.918000  0.534722"
            ]
          },
          "metadata": {
            "tags": []
          },
          "execution_count": 320
        }
      ]
    },
    {
      "cell_type": "markdown",
      "metadata": {
        "id": "hv5WehHbqcCb",
        "colab_type": "text"
      },
      "source": [
        "It is evident from the above table that the Decision Tree algorithm has performed the best followed by Random Forest and Neural Network</br>All models have accuracy above 91% hence all models did better than the accuracy of majority class classifier"
      ]
    },
    {
      "cell_type": "markdown",
      "metadata": {
        "id": "Sp8Mhiwrs2Te",
        "colab_type": "text"
      },
      "source": [
        "The Number of False Negatives  in the test case are :\n",
        "<li>14 for Decision Tree model</li>\n",
        "<li>16 for Random Forest model</li>\n",
        "<li>19 for Neural Network</li>\n",
        "<li>31 for SVM model</li>\n",
        "<li>50 for KNN model</li>\n",
        "<li>51 for Logistic Regression Model</li>\n",
        "<li>67 for Naive Bayes Model</li>"
      ]
    },
    {
      "cell_type": "markdown",
      "metadata": {
        "id": "pyt4l7a45eeN",
        "colab_type": "text"
      },
      "source": [
        "\n",
        "\n",
        "---\n",
        "\n"
      ]
    },
    {
      "cell_type": "markdown",
      "metadata": {
        "id": "htO3JTxEuG1R",
        "colab_type": "text"
      },
      "source": [
        "<h2><strong>Business Understanding of the Model</strong></h2>"
      ]
    },
    {
      "cell_type": "markdown",
      "metadata": {
        "id": "2X7G6J6Yu3z-",
        "colab_type": "text"
      },
      "source": [
        "The purpose of all these machine learning models is to help the bank in identifying potential customers who will be highly likely of taking a personal loan. The goal is to predict in such a way that the number of potential customers who would take the loan but are missed out by the model is minimum. This will help in increasing the revenue of the bank because the bank won't lose any valuable customers.In order to do so the goal is to minimize the false negatives which in turn can be done by taking the algorithm with maximum recall score.The dataset provided contained approximately 91% people who did not have any personal loan. Hence accuracy of the majority class classifier will be 91%.In order  for our model to be of any consequence its accuracy should be greater than 91%.</br>\n",
        "In the exploratory data analysis we found some important relations among the feature variables. The most important of which is that the income of a person plays a major factor in deciding the likelihood of a person taking a loan, this is in tune with our understanding of the normal world.  "
      ]
    }
  ]
}